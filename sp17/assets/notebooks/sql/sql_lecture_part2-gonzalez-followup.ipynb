{
 "cells": [
  {
   "cell_type": "markdown",
   "metadata": {},
   "source": [
    "\n",
    "# Reading the SQL Expression\n",
    "We've seen a bunch of different query clauses now, and done some mixing and matching. How do they fit together? The order of evaluation should be thought of like this:\n",
    "\n",
    "1. The `FROM` and `WHERE` clauses are evaluated to compute selections and joins.\n",
    "2. The `GROUP BY` and `HAVING` clauses are evaluated to for groups resulting from the previous step\n",
    "3. The `SELECT` clause is evaluated, including any aggregates\n",
    "4. The `ORDER BY` clause is evaluated\n",
    "5. The `LIMIT` clause is used to cut off output production."
   ]
  },
  {
   "cell_type": "code",
   "execution_count": 1,
   "metadata": {
    "collapsed": false
   },
   "outputs": [
    {
     "name": "stdout",
     "output_type": "stream",
     "text": [
      "Done.\n",
      "Done.\n"
     ]
    },
    {
     "data": {
      "text/plain": [
       "[]"
      ]
     },
     "execution_count": 1,
     "metadata": {},
     "output_type": "execute_result"
    }
   ],
   "source": [
    "%load_ext sql\n",
    "%sql postgresql://jegonzal:@localhost:5432/fec\n",
    "%sql DROP VIEW IF EXISTS date_stats;\n",
    "%sql DROP VIEW IF EXISTS rando;"
   ]
  },
  {
   "cell_type": "markdown",
   "metadata": {},
   "source": [
    "# Named Queries: Views and CTEs\n",
    "Up to now we've looked at a single query at a time. SQL also allows us to nest queries in various ways. In this section we look at the cleaner examples of how to do this in SQL: views and Common Table Expressions (CTEs)."
   ]
  },
  {
   "cell_type": "markdown",
   "metadata": {},
   "source": [
    "#### Views\n",
    "In earlier examples, we created new tables and populated them from the result of queries over stored tables. There are two main drawbacks of that approach that may concern us in some cases:\n",
    "1. The new table uses up storage, even though it is recomputable from other tables.\n",
    "2. If the input tables change, the stored output does not reflect the new state of the input.\n",
    "\n",
    "For this reason, SQL provides a notion of logical *views*: these are basically named queries that are re-evaluated upon each reference. They are rather like \"macros\" if you're familiar with that term.\n",
    "\n",
    "The syntax is straightforward:\n",
    "```sql\n",
    "CREATE VIEW <name> AS\n",
    "<SELECT statement>;\n",
    "```\n",
    "The resulting view `<name>` can be used in an `SELECT` query, but *not* in an `INSERT`, `DELETE` or `UPDATE` query!\n",
    "\n",
    "As an example, we might want a view that stores just some summary statistics of `transaction_amt`s for each date:"
   ]
  },
  {
   "cell_type": "code",
   "execution_count": 2,
   "metadata": {
    "collapsed": false
   },
   "outputs": [
    {
     "name": "stdout",
     "output_type": "stream",
     "text": [
      "Done.\n"
     ]
    },
    {
     "data": {
      "text/plain": [
       "[]"
      ]
     },
     "execution_count": 2,
     "metadata": {},
     "output_type": "execute_result"
    }
   ],
   "source": [
    "%%sql\n",
    "DROP VIEW IF EXISTS date_stats;"
   ]
  },
  {
   "cell_type": "code",
   "execution_count": 3,
   "metadata": {
    "collapsed": false
   },
   "outputs": [
    {
     "name": "stdout",
     "output_type": "stream",
     "text": [
      "Done.\n"
     ]
    },
    {
     "data": {
      "text/plain": [
       "[]"
      ]
     },
     "execution_count": 3,
     "metadata": {},
     "output_type": "execute_result"
    }
   ],
   "source": [
    "%%sql\n",
    "\n",
    "CREATE VIEW date_stats AS\n",
    "SELECT \n",
    "    to_date(transaction_dt, 'MMDDYYYY') as day, -- Date Parsing\n",
    "    min(transaction_amt), \n",
    "    avg(transaction_amt), \n",
    "    stddev(transaction_amt),\n",
    "    max(transaction_amt)\n",
    "FROM indiv_sample\n",
    "GROUP BY transaction_dt;\n"
   ]
  },
  {
   "cell_type": "code",
   "execution_count": 4,
   "metadata": {
    "collapsed": false
   },
   "outputs": [
    {
     "name": "stdout",
     "output_type": "stream",
     "text": [
      "5 rows affected.\n"
     ]
    },
    {
     "data": {
      "text/html": [
       "<table>\n",
       "    <tr>\n",
       "        <th>day</th>\n",
       "        <th>min</th>\n",
       "        <th>avg</th>\n",
       "        <th>stddev</th>\n",
       "        <th>max</th>\n",
       "    </tr>\n",
       "    <tr>\n",
       "        <td>2015-02-06</td>\n",
       "        <td>355</td>\n",
       "        <td>355.0000000000000000</td>\n",
       "        <td>None</td>\n",
       "        <td>355</td>\n",
       "    </tr>\n",
       "    <tr>\n",
       "        <td>2016-02-06</td>\n",
       "        <td>1</td>\n",
       "        <td>181.8666666666666667</td>\n",
       "        <td>518.303395246268</td>\n",
       "        <td>2000</td>\n",
       "    </tr>\n",
       "    <tr>\n",
       "        <td>None</td>\n",
       "        <td>0</td>\n",
       "        <td>125.0000000000000000</td>\n",
       "        <td>144.337567297406</td>\n",
       "        <td>250</td>\n",
       "    </tr>\n",
       "    <tr>\n",
       "        <td>2015-03-23</td>\n",
       "        <td>25</td>\n",
       "        <td>1311.8750000000000000</td>\n",
       "        <td>1605.471763480546</td>\n",
       "        <td>5000</td>\n",
       "    </tr>\n",
       "    <tr>\n",
       "        <td>2016-07-18</td>\n",
       "        <td>0</td>\n",
       "        <td>325.9500000000000000</td>\n",
       "        <td>1105.281458557764</td>\n",
       "        <td>5000</td>\n",
       "    </tr>\n",
       "</table>"
      ],
      "text/plain": [
       "[(datetime.date(2015, 2, 6), 355, Decimal('355.0000000000000000'), None, 355),\n",
       " (datetime.date(2016, 2, 6), 1, Decimal('181.8666666666666667'), Decimal('518.303395246268'), 2000),\n",
       " (None, 0, Decimal('125.0000000000000000'), Decimal('144.337567297406'), 250),\n",
       " (datetime.date(2015, 3, 23), 25, Decimal('1311.8750000000000000'), Decimal('1605.471763480546'), 5000),\n",
       " (datetime.date(2016, 7, 18), 0, Decimal('325.9500000000000000'), Decimal('1105.281458557764'), 5000)]"
      ]
     },
     "execution_count": 4,
     "metadata": {},
     "output_type": "execute_result"
    }
   ],
   "source": [
    "%%sql\n",
    "SELECT * from date_stats limit 5;"
   ]
  },
  {
   "cell_type": "markdown",
   "metadata": {},
   "source": [
    "### Notice that this did not create a table:"
   ]
  },
  {
   "cell_type": "code",
   "execution_count": 5,
   "metadata": {
    "collapsed": false
   },
   "outputs": [
    {
     "name": "stdout",
     "output_type": "stream",
     "text": [
      "            List of relations\r\n",
      " Schema |     Name     | Type  |  Owner   \r\n",
      "--------+--------------+-------+----------\r\n",
      " public | ccl          | table | postgres\r\n",
      " public | cm           | table | postgres\r\n",
      " public | cn           | table | postgres\r\n",
      " public | gradebook    | table | jegonzal\r\n",
      " public | indiv_sample | table | jegonzal\r\n",
      " public | individual   | table | postgres\r\n",
      " public | oppexp       | table | postgres\r\n",
      " public | oth          | table | postgres\r\n",
      " public | pas          | table | postgres\r\n",
      " public | profs        | table | jegonzal\r\n",
      "(10 rows)\r\n",
      "\r\n"
     ]
    }
   ],
   "source": [
    "!psql fec -c \"\\dt\""
   ]
  },
  {
   "cell_type": "markdown",
   "metadata": {},
   "source": [
    "it created a view"
   ]
  },
  {
   "cell_type": "code",
   "execution_count": 6,
   "metadata": {
    "collapsed": false
   },
   "outputs": [
    {
     "name": "stdout",
     "output_type": "stream",
     "text": [
      "           List of relations\r\n",
      " Schema |    Name    | Type |  Owner   \r\n",
      "--------+------------+------+----------\r\n",
      " public | date_stats | view | jegonzal\r\n",
      "(1 row)\r\n",
      "\r\n"
     ]
    }
   ],
   "source": [
    "!psql fec -c \"\\dv\""
   ]
  },
  {
   "cell_type": "code",
   "execution_count": 7,
   "metadata": {
    "collapsed": false
   },
   "outputs": [
    {
     "name": "stdout",
     "output_type": "stream",
     "text": [
      "   View \"public.date_stats\"\r\n",
      " Column |  Type   | Modifiers \r\n",
      "--------+---------+-----------\r\n",
      " day    | date    | \r\n",
      " min    | integer | \r\n",
      " avg    | numeric | \r\n",
      " stddev | numeric | \r\n",
      " max    | integer | \r\n",
      "\r\n"
     ]
    }
   ],
   "source": [
    "!psql fec -c \"\\d date_stats\""
   ]
  },
  {
   "cell_type": "markdown",
   "metadata": {},
   "source": [
    "# Views are not materialized"
   ]
  },
  {
   "cell_type": "code",
   "execution_count": 8,
   "metadata": {
    "collapsed": false
   },
   "outputs": [
    {
     "name": "stdout",
     "output_type": "stream",
     "text": [
      "Done.\n"
     ]
    },
    {
     "data": {
      "text/plain": [
       "[]"
      ]
     },
     "execution_count": 8,
     "metadata": {},
     "output_type": "execute_result"
    }
   ],
   "source": [
    "%%sql\n",
    "DROP VIEW IF EXISTS rando;"
   ]
  },
  {
   "cell_type": "code",
   "execution_count": 9,
   "metadata": {
    "collapsed": false
   },
   "outputs": [
    {
     "name": "stdout",
     "output_type": "stream",
     "text": [
      "Done.\n"
     ]
    },
    {
     "data": {
      "text/plain": [
       "[]"
      ]
     },
     "execution_count": 9,
     "metadata": {},
     "output_type": "execute_result"
    }
   ],
   "source": [
    "%%sql\n",
    "\n",
    "CREATE VIEW rando(rownum, rnd) AS\n",
    "SELECT rownum, round(random())::INTEGER\n",
    "FROM generate_series(1,50) AS ind(rownum)"
   ]
  },
  {
   "cell_type": "markdown",
   "metadata": {},
   "source": [
    "What is the value of the sum of all the rows?"
   ]
  },
  {
   "cell_type": "code",
   "execution_count": 10,
   "metadata": {
    "collapsed": false
   },
   "outputs": [
    {
     "name": "stdout",
     "output_type": "stream",
     "text": [
      "1 rows affected.\n"
     ]
    },
    {
     "data": {
      "text/html": [
       "<table>\n",
       "    <tr>\n",
       "        <th>sum</th>\n",
       "    </tr>\n",
       "    <tr>\n",
       "        <td>21</td>\n",
       "    </tr>\n",
       "</table>"
      ],
      "text/plain": [
       "[(21,)]"
      ]
     },
     "execution_count": 10,
     "metadata": {},
     "output_type": "execute_result"
    }
   ],
   "source": [
    "%%sql\n",
    "SELECT SUM(rnd) FROM rando"
   ]
  },
  {
   "cell_type": "markdown",
   "metadata": {},
   "source": [
    "What happens if I run it again?"
   ]
  },
  {
   "cell_type": "code",
   "execution_count": 11,
   "metadata": {
    "collapsed": false
   },
   "outputs": [
    {
     "name": "stdout",
     "output_type": "stream",
     "text": [
      "1 rows affected.\n"
     ]
    },
    {
     "data": {
      "text/html": [
       "<table>\n",
       "    <tr>\n",
       "        <th>sum</th>\n",
       "    </tr>\n",
       "    <tr>\n",
       "        <td>25</td>\n",
       "    </tr>\n",
       "</table>"
      ],
      "text/plain": [
       "[(25,)]"
      ]
     },
     "execution_count": 11,
     "metadata": {},
     "output_type": "execute_result"
    }
   ],
   "source": [
    "%%sql\n",
    "SELECT SUM(rnd) FROM rando"
   ]
  },
  {
   "cell_type": "markdown",
   "metadata": {},
   "source": [
    "# Views are useful for composition"
   ]
  },
  {
   "cell_type": "markdown",
   "metadata": {},
   "source": [
    "One of the nice things about views is modularity: if we have a complex query, we can break it up into smaller views and the run queries on the views. \n",
    "\n",
    "For example, now we can ask for the day with the highest variance in donations per state:"
   ]
  },
  {
   "cell_type": "code",
   "execution_count": 12,
   "metadata": {
    "collapsed": false
   },
   "outputs": [
    {
     "name": "stdout",
     "output_type": "stream",
     "text": [
      "5 rows affected.\n"
     ]
    },
    {
     "data": {
      "text/html": [
       "<table>\n",
       "    <tr>\n",
       "        <th>day</th>\n",
       "        <th>stddev</th>\n",
       "    </tr>\n",
       "    <tr>\n",
       "        <td>2016-07-13</td>\n",
       "        <td>106041.27290974</td>\n",
       "    </tr>\n",
       "    <tr>\n",
       "        <td>2016-02-02</td>\n",
       "        <td>76219.14861970</td>\n",
       "    </tr>\n",
       "    <tr>\n",
       "        <td>2016-10-26</td>\n",
       "        <td>65370.45080386</td>\n",
       "    </tr>\n",
       "    <tr>\n",
       "        <td>2016-06-28</td>\n",
       "        <td>52401.89791164</td>\n",
       "    </tr>\n",
       "    <tr>\n",
       "        <td>2016-10-27</td>\n",
       "        <td>49074.16141287</td>\n",
       "    </tr>\n",
       "</table>"
      ],
      "text/plain": [
       "[(datetime.date(2016, 7, 13), Decimal('106041.27290974')),\n",
       " (datetime.date(2016, 2, 2), Decimal('76219.14861970')),\n",
       " (datetime.date(2016, 10, 26), Decimal('65370.45080386')),\n",
       " (datetime.date(2016, 6, 28), Decimal('52401.89791164')),\n",
       " (datetime.date(2016, 10, 27), Decimal('49074.16141287'))]"
      ]
     },
     "execution_count": 12,
     "metadata": {},
     "output_type": "execute_result"
    }
   ],
   "source": [
    "%%sql\n",
    "\n",
    "SELECT day, stddev\n",
    "FROM date_stats\n",
    "WHERE stddev IS NOT NULL\n",
    "ORDER BY stddev DESC\n",
    "LIMIT 5;"
   ]
  },
  {
   "cell_type": "markdown",
   "metadata": {},
   "source": [
    "# Too Many Views\n",
    "\n",
    "Views can help:\n",
    "* Simplify queries\n",
    "* Make complex queries more readable \n",
    "* Share \"sql programs\" with others \n",
    "\n",
    "Problem:\n",
    "* Creating a new view for each (exploratory) query will result in a lot of views! \n",
    "* views like: `temp1`, `temp1_joey`, `temp1_joey_fixed`, ... \n",
    "\n",
    "** We need a mechanism to decompose query into views for the scope of a single query.**"
   ]
  },
  {
   "cell_type": "markdown",
   "metadata": {},
   "source": [
    "# Common Table Expressions (`WITH`)\n",
    "\n",
    "Think of these as a view that exists only during the query.\n",
    "\n",
    "If we're only going to use a view within a single query, it is a little inelegant to `CREATE` it, and then have to `DROP` it later to recycle the view name.\n",
    "\n",
    "*Common Table Expressions* (CTEs) are like views that we use on-the-fly. (If you know about lambdas in Python, you can think of CTEs as lambda views.) The syntax for CTEs is to use a `WITH` clause in front of the query: \n",
    "\n",
    "`WITH <name> [(renamed columns)] AS \n",
    "  (<SELECT statement>) \n",
    "  [, <name2> AS (<SELECT statement>)...]`\n",
    "\n",
    "If you need multiple CTEs, you separate them with commas.\n",
    "We can rewrite our query above without a view as follows:"
   ]
  },
  {
   "cell_type": "code",
   "execution_count": 13,
   "metadata": {
    "collapsed": false
   },
   "outputs": [
    {
     "name": "stdout",
     "output_type": "stream",
     "text": [
      "1 rows affected.\n"
     ]
    },
    {
     "data": {
      "text/html": [
       "<table>\n",
       "    <tr>\n",
       "        <th>day</th>\n",
       "        <th>stddev</th>\n",
       "    </tr>\n",
       "    <tr>\n",
       "        <td>2016-07-13</td>\n",
       "        <td>106041.27290974</td>\n",
       "    </tr>\n",
       "</table>"
      ],
      "text/plain": [
       "[(datetime.date(2016, 7, 13), Decimal('106041.27290974'))]"
      ]
     },
     "execution_count": 13,
     "metadata": {},
     "output_type": "execute_result"
    }
   ],
   "source": [
    "%%sql\n",
    "WITH per_day_stats AS (\n",
    "    SELECT \n",
    "        to_date(transaction_dt, 'MMDDYYYY') as day, -- Date Parsing\n",
    "        min(transaction_amt), \n",
    "        avg(transaction_amt), \n",
    "        stddev(transaction_amt),\n",
    "        max(transaction_amt)\n",
    "    FROM indiv_sample\n",
    "    GROUP BY transaction_dt\n",
    ")    \n",
    "SELECT day, stddev\n",
    "  FROM per_day_stats\n",
    " WHERE stddev IS NOT NULL\n",
    " ORDER by stddev DESC\n",
    " LIMIT 1;"
   ]
  },
  {
   "cell_type": "markdown",
   "metadata": {},
   "source": [
    "We can of course use views or CTEs in join queries as well, just as if they were tables.  For example, we can compute the \"argmax\" of `transaction_amt` for `indiv_sample`: those rows that have the maximum `transaction_amt`:"
   ]
  },
  {
   "cell_type": "code",
   "execution_count": 14,
   "metadata": {
    "collapsed": false
   },
   "outputs": [
    {
     "name": "stdout",
     "output_type": "stream",
     "text": [
      "1 rows affected.\n"
     ]
    },
    {
     "data": {
      "text/html": [
       "<table>\n",
       "    <tr>\n",
       "        <th>transaction_dt</th>\n",
       "        <th>name</th>\n",
       "        <th>state</th>\n",
       "        <th>transaction_amt</th>\n",
       "    </tr>\n",
       "    <tr>\n",
       "        <td>07132016</td>\n",
       "        <td>DEMOCRATIC NATIONAL COMMITTEE</td>\n",
       "        <td>DC</td>\n",
       "        <td>600000</td>\n",
       "    </tr>\n",
       "</table>"
      ],
      "text/plain": [
       "[('07132016', 'DEMOCRATIC NATIONAL COMMITTEE', 'DC', 600000)]"
      ]
     },
     "execution_count": 14,
     "metadata": {},
     "output_type": "execute_result"
    }
   ],
   "source": [
    "%%sql\n",
    "WITH biggest_gifts AS (\n",
    "    SELECT max(transaction_amt) AS max\n",
    "    FROM indiv_sample\n",
    ")    \n",
    "SELECT I.transaction_dt, I.name, I.state, I.transaction_amt\n",
    "FROM indiv_sample I, biggest_gifts B\n",
    "WHERE I.transaction_amt = B.max;"
   ]
  },
  {
   "cell_type": "markdown",
   "metadata": {},
   "source": [
    "#### Nested Queries\n",
    "It is also possible to nest a SQL query within the `WHERE` clause of another SQL query: this is usually called a \"subquery\" or \"nested query\". Time prevents us from covering subqueries here. It's best if you can avoid them anyhow: they are relatively confusing, they often lead to poor performance, and in most cases there is some way to achieve the same effect without using them.\n",
    "\n",
    "If you'd like to learn more, you can read the [relevant material in the PostgreSQL manual](https://www.postgresql.org/docs/current/static/functions-subquery.html) or look at [slides from CS186 (slides 35-41)](https://drive.google.com/file/d/0B2k285AK-3KEY2w0cEwySlJxSzA/view)."
   ]
  },
  {
   "cell_type": "markdown",
   "metadata": {},
   "source": [
    "## Set and Multiset Operators (skip in class)\n",
    "Like the relational algebra, SQL supports the operators for union, intersect, and difference of relations. Becase SQL is a multiset (i.e. duplicate-aware) language, it distinguishes between the set-based versions of these operators (which remove duplicates) and the multiset versions (which have rules about the number of duplicates in the output.\n",
    "\n",
    "The syntax is simple: \n",
    "\n",
    "```sql\n",
    "<SELECT query>\n",
    "<set operator>\n",
    "<SELECT query>;\n",
    "```\n",
    "where the two queries are *compatible* in the sense of schemas, and the set operator is one of:\n",
    "\n",
    "- Union: `UNION` (set) or `UNION ALL` (multiset)\n",
    "- Intersection: `INTERSECT` (set) or `INTERSECT ALL` (multiset)\n",
    "- Difference: `EXCEPT` (set) or `EXCEPT ALL` (multiset).\n",
    "\n",
    "The set-based versions of these operations are straightforward. Rather than teach the number of duplicates formed for each multiset operator, I'd encourage you to think about what's intuitive, and then test it out yourself!\n",
    "\n",
    "As an example, you can run the query below to find the individual records that did not make it into our sample. (This query will run slowly)."
   ]
  },
  {
   "cell_type": "code",
   "execution_count": 15,
   "metadata": {
    "collapsed": false
   },
   "outputs": [],
   "source": [
    "# %%sql\n",
    "# SELECT * FROM individual\n",
    "# EXCEPT ALL\n",
    "# SELECT * FROM indiv_sample\n",
    "# LIMIT 5;"
   ]
  },
  {
   "cell_type": "markdown",
   "metadata": {},
   "source": [
    "## Getting Fancy with SQL Aggregates: Statistics, Windows and UDAs"
   ]
  },
  {
   "cell_type": "markdown",
   "metadata": {},
   "source": [
    "### Simple Descriptive Statistics in SQL\n",
    "Statistics doesn't deal with individuals, it deals with groups: distributions, populations, samples and the like. As such, computing statistics in SQL focuses heavily on aggregation functions.\n",
    "\n",
    "All SQL systems have simple descriptive statistics built in as aggregation functions:\n",
    "- `min, max`\n",
    "- `count`\n",
    "- `sum`\n",
    "- `avg`\n",
    "- `stddev` and `variance`, the sample standard deviation and variance.\n",
    "\n",
    "PostgreSQL offers [many more](https://www.postgresql.org/docs/current/static/functions-aggregate.html#FUNCTIONS-AGGREGATE-STATISTICS-TABLE). Some handy ones include\n",
    "- `stddev_pop` and `var_pop`: the population standard deviation and variance, which you should use rather than `stddev` and `variance` if you know your data is the full population, not a sample.\n",
    "- `covar_samp` and `covar_pop`: sample and population covariance\n",
    "- `corr`, Pearson's correlation coefficient\n",
    "\n",
    "### Order Statistics: Aggregates requiring ordered input\n",
    "You'll notice that a number of handy statistics are missing from this list, including the median and quartiles. That's because those are [order statistics](https://en.wikipedia.org/wiki/Order_statistic): they are defined based on an ordering of the values in a column. \n",
    "\n",
    "SQL provides for this by allowing what it calls \"ordered set functions\", which require a `WITHIN GROUP (ORDER BY <columns>)` clause to accompany the order-statistic aggregate.  For example, to compute the 25th percentile, 50th percentile (median) and 75th percentile in SQL, we can use the following:"
   ]
  },
  {
   "cell_type": "markdown",
   "metadata": {},
   "source": [
    "There are two versions of the percentile function:\n",
    "* **`percentile_cont`** inuous : interpolates\n",
    "* **`percentile_disc`** rete : returns an entry from the table\n",
    "\n",
    "What will the following expressions return?"
   ]
  },
  {
   "cell_type": "code",
   "execution_count": 16,
   "metadata": {
    "collapsed": false
   },
   "outputs": [
    {
     "name": "stdout",
     "output_type": "stream",
     "text": [
      "1 rows affected.\n"
     ]
    },
    {
     "data": {
      "text/html": [
       "<table>\n",
       "    <tr>\n",
       "        <th>percentile_cont</th>\n",
       "    </tr>\n",
       "    <tr>\n",
       "        <td>5.5</td>\n",
       "    </tr>\n",
       "</table>"
      ],
      "text/plain": [
       "[(5.5,)]"
      ]
     },
     "execution_count": 16,
     "metadata": {},
     "output_type": "execute_result"
    }
   ],
   "source": [
    "%%sql\n",
    "SELECT \n",
    "    percentile_cont(0.5) WITHIN GROUP (ORDER BY x) \n",
    "FROM generate_series(1,10) AS data(x);"
   ]
  },
  {
   "cell_type": "code",
   "execution_count": 17,
   "metadata": {
    "collapsed": false
   },
   "outputs": [
    {
     "name": "stdout",
     "output_type": "stream",
     "text": [
      "1 rows affected.\n"
     ]
    },
    {
     "data": {
      "text/html": [
       "<table>\n",
       "    <tr>\n",
       "        <th>percentile_disc</th>\n",
       "    </tr>\n",
       "    <tr>\n",
       "        <td>5</td>\n",
       "    </tr>\n",
       "</table>"
      ],
      "text/plain": [
       "[(5,)]"
      ]
     },
     "execution_count": 17,
     "metadata": {},
     "output_type": "execute_result"
    }
   ],
   "source": [
    "%%sql\n",
    "SELECT \n",
    "    percentile_disc(0.5) WITHIN GROUP (ORDER BY x) \n",
    "FROM generate_series(1,10) AS data(x);"
   ]
  },
  {
   "cell_type": "code",
   "execution_count": 18,
   "metadata": {
    "collapsed": false
   },
   "outputs": [
    {
     "name": "stdout",
     "output_type": "stream",
     "text": [
      "1 rows affected.\n"
     ]
    },
    {
     "data": {
      "text/html": [
       "<table>\n",
       "    <tr>\n",
       "        <th>lower_quartile</th>\n",
       "        <th>median</th>\n",
       "        <th>upper_quartile</th>\n",
       "    </tr>\n",
       "    <tr>\n",
       "        <td>3</td>\n",
       "        <td>5</td>\n",
       "        <td>8</td>\n",
       "    </tr>\n",
       "</table>"
      ],
      "text/plain": [
       "[(3, 5, 8)]"
      ]
     },
     "execution_count": 18,
     "metadata": {},
     "output_type": "execute_result"
    }
   ],
   "source": [
    "%%sql\n",
    "SELECT \n",
    "    percentile_disc(0.25) WITHIN GROUP (ORDER BY x) as lower_quartile,\n",
    "    percentile_disc(0.5) WITHIN GROUP (ORDER BY x) as median,\n",
    "    percentile_disc(0.75) WITHIN GROUP (ORDER BY x) as upper_quartile\n",
    "FROM generate_series(1,10) AS data(x);"
   ]
  },
  {
   "cell_type": "markdown",
   "metadata": {},
   "source": [
    "** *GROUP BY vs. WITHIN GROUP* **\n",
    "\n",
    "Note the difference between `WITHIN GROUP` and `GROUP BY`:\n",
    "- `WITHIN GROUP` is in the `FROM` clause\n",
    "- `WITHIN GROUP` is associated with a *single* aggregate function\n",
    "- `WITHIN GROUP` *does not affect the number of groups*\n",
    "\n",
    "\n",
    "*Side note for database aficionados: If you're clever, you can express order statistics like median in more \"purely relational\" SQL without resorting to `WITHIN GROUP (ORDER BY ...)`, but (a) it's hard for people to understand, (b) it's very messy to get more than one order statistic in a single query, and (c) it's quite difficult for a query optimizer to understand and make it go fast.*\n",
    "\n",
    "Of course you can combine `WITHIN GROUP` and `GROUP BY` to compute order statistics within groups:"
   ]
  },
  {
   "cell_type": "code",
   "execution_count": 19,
   "metadata": {
    "collapsed": false
   },
   "outputs": [
    {
     "name": "stdout",
     "output_type": "stream",
     "text": [
      "5 rows affected.\n"
     ]
    },
    {
     "data": {
      "text/html": [
       "<table>\n",
       "    <tr>\n",
       "        <th>state</th>\n",
       "        <th>lower_quartile</th>\n",
       "        <th>median</th>\n",
       "        <th>upper_quartile</th>\n",
       "    </tr>\n",
       "    <tr>\n",
       "        <td>AA</td>\n",
       "        <td>-10.0</td>\n",
       "        <td>-10.0</td>\n",
       "        <td>-10.0</td>\n",
       "    </tr>\n",
       "    <tr>\n",
       "        <td>AE</td>\n",
       "        <td>15.0</td>\n",
       "        <td>15.0</td>\n",
       "        <td>25.0</td>\n",
       "    </tr>\n",
       "    <tr>\n",
       "        <td>AK</td>\n",
       "        <td>25.0</td>\n",
       "        <td>40.5</td>\n",
       "        <td>100.0</td>\n",
       "    </tr>\n",
       "    <tr>\n",
       "        <td>AL</td>\n",
       "        <td>20.0</td>\n",
       "        <td>28.0</td>\n",
       "        <td>115.0</td>\n",
       "    </tr>\n",
       "    <tr>\n",
       "        <td>AP</td>\n",
       "        <td>27.0</td>\n",
       "        <td>48.5</td>\n",
       "        <td>83.5</td>\n",
       "    </tr>\n",
       "</table>"
      ],
      "text/plain": [
       "[('AA', -10.0, -10.0, -10.0),\n",
       " ('AE', 15.0, 15.0, 25.0),\n",
       " ('AK', 25.0, 40.5, 100.0),\n",
       " ('AL', 20.0, 28.0, 115.0),\n",
       " ('AP', 27.0, 48.5, 83.5)]"
      ]
     },
     "execution_count": 19,
     "metadata": {},
     "output_type": "execute_result"
    }
   ],
   "source": [
    "%%sql\n",
    "SELECT state, \n",
    "       percentile_cont(0.25) WITHIN GROUP (ORDER BY transaction_amt) as lower_quartile,\n",
    "       percentile_cont(0.5) WITHIN GROUP (ORDER BY transaction_amt) as median,\n",
    "       percentile_cont(0.75) WITHIN GROUP (ORDER BY transaction_amt) as upper_quartile\n",
    "FROM indiv_sample\n",
    "GROUP BY state\n",
    "LIMIT 5;"
   ]
  },
  {
   "cell_type": "markdown",
   "metadata": {},
   "source": [
    "### Window Functions\n",
    "Sometimes, for each row in the output of a query, you want perform a calculation on a related *set* of rows in the output—often a \"window\" of rows that precede or follow in some order. Again, this is not very \"set-oriented\", but SQL provides a mechanism to do it, called a *window function*. The most common window functions are `row_number` in some order, `rank` in some order (where equivalent values in the ordering get the same rank), and `ntile(n)` in some order, which reports which n-tile the row is in:"
   ]
  },
  {
   "cell_type": "markdown",
   "metadata": {},
   "source": [
    "### simple example:\n",
    "\n",
    "**What will the following query compute?**"
   ]
  },
  {
   "cell_type": "code",
   "execution_count": 20,
   "metadata": {
    "collapsed": false
   },
   "outputs": [
    {
     "name": "stdout",
     "output_type": "stream",
     "text": [
      "10 rows affected.\n"
     ]
    },
    {
     "data": {
      "text/html": [
       "<table>\n",
       "    <tr>\n",
       "        <th>empno</th>\n",
       "        <th>depname</th>\n",
       "        <th>salary</th>\n",
       "        <th>rank</th>\n",
       "        <th>ntile</th>\n",
       "    </tr>\n",
       "    <tr>\n",
       "        <td>1</td>\n",
       "        <td>sales</td>\n",
       "        <td>5000</td>\n",
       "        <td>1</td>\n",
       "        <td>2</td>\n",
       "    </tr>\n",
       "    <tr>\n",
       "        <td>2</td>\n",
       "        <td>personnel</td>\n",
       "        <td>3900</td>\n",
       "        <td>1</td>\n",
       "        <td>4</td>\n",
       "    </tr>\n",
       "    <tr>\n",
       "        <td>3</td>\n",
       "        <td>sales</td>\n",
       "        <td>4800</td>\n",
       "        <td>2</td>\n",
       "        <td>2</td>\n",
       "    </tr>\n",
       "    <tr>\n",
       "        <td>4</td>\n",
       "        <td>sales</td>\n",
       "        <td>4800</td>\n",
       "        <td>2</td>\n",
       "        <td>2</td>\n",
       "    </tr>\n",
       "    <tr>\n",
       "        <td>5</td>\n",
       "        <td>personnel</td>\n",
       "        <td>3500</td>\n",
       "        <td>2</td>\n",
       "        <td>4</td>\n",
       "    </tr>\n",
       "    <tr>\n",
       "        <td>7</td>\n",
       "        <td>develop</td>\n",
       "        <td>4200</td>\n",
       "        <td>5</td>\n",
       "        <td>3</td>\n",
       "    </tr>\n",
       "    <tr>\n",
       "        <td>8</td>\n",
       "        <td>develop</td>\n",
       "        <td>6000</td>\n",
       "        <td>1</td>\n",
       "        <td>1</td>\n",
       "    </tr>\n",
       "    <tr>\n",
       "        <td>9</td>\n",
       "        <td>develop</td>\n",
       "        <td>4500</td>\n",
       "        <td>4</td>\n",
       "        <td>3</td>\n",
       "    </tr>\n",
       "    <tr>\n",
       "        <td>10</td>\n",
       "        <td>develop</td>\n",
       "        <td>5200</td>\n",
       "        <td>2</td>\n",
       "        <td>1</td>\n",
       "    </tr>\n",
       "    <tr>\n",
       "        <td>11</td>\n",
       "        <td>develop</td>\n",
       "        <td>5200</td>\n",
       "        <td>2</td>\n",
       "        <td>1</td>\n",
       "    </tr>\n",
       "</table>"
      ],
      "text/plain": [
       "[(1, 'sales', 5000, 1, 2),\n",
       " (2, 'personnel', 3900, 1, 4),\n",
       " (3, 'sales', 4800, 2, 2),\n",
       " (4, 'sales', 4800, 2, 2),\n",
       " (5, 'personnel', 3500, 2, 4),\n",
       " (7, 'develop', 4200, 5, 3),\n",
       " (8, 'develop', 6000, 1, 1),\n",
       " (9, 'develop', 4500, 4, 3),\n",
       " (10, 'develop', 5200, 2, 1),\n",
       " (11, 'develop', 5200, 2, 1)]"
      ]
     },
     "execution_count": 20,
     "metadata": {},
     "output_type": "execute_result"
    }
   ],
   "source": [
    "%%sql\n",
    "WITH empsalary(depname, empno, salary) AS (\n",
    "    VALUES ('develop', 8, 6000), \n",
    "           ('develop', 10, 5200),\n",
    "           ('develop', 11, 5200),\n",
    "           ('develop', 9, 4500),\n",
    "           ('develop', 7, 4200),\n",
    "           ('personnel', 2, 3900),\n",
    "           ('personnel', 5, 3500),\n",
    "           ('sales', 1, 5000),\n",
    "           ('sales', 4, 4800),\n",
    "           ('sales', 3, 4800)\n",
    ")\n",
    "SELECT \n",
    "    empno, depname, salary, \n",
    "    rank() OVER (PARTITION BY depname ORDER BY salary DESC),\n",
    "    ntile(4) OVER (ORDER BY salary DESC) \n",
    "FROM empsalary\n",
    "ORDER BY empno\n"
   ]
  },
  {
   "cell_type": "markdown",
   "metadata": {},
   "source": [
    "## Dissecting The Query\n",
    "\n",
    "```sql\n",
    "rank() OVER (PARTITION BY depname ORDER BY salary DESC)\n",
    "```\n",
    "\n",
    "* **`rank()`** is the window function\n",
    "* **`OVER`** connects the function to where it is run\n",
    "* **`PARTITION BY`** (optional) like group by splits the table according to the column(s) provided.  However unlike group by the split is only applied during the window computation and the result of the window computation is then attached to the original row.\n",
    "* **`ORDER BY`** determines the column on which the windowed function is applied"
   ]
  },
  {
   "cell_type": "markdown",
   "metadata": {},
   "source": [
    "<br/><br/><br/>\n",
    "\n",
    "# COMMIT -- end of SQL discussion\n",
    "\n",
    "Concluding thoughts:\n",
    "\n",
    "* SQL is the most **widely used language** for manipulating and accessing data.\n",
    "* **Learn SQL through practice.**  Give yourself time to do the homework and try writing queries multiple different ways.\n",
    "* We will return to SQL and the Ralational model later in the class.\n",
    "\n",
    "## ... and now we transition from the tools of summarizing data to estimating probabilities and paramters of models.  \n",
    "\n",
    "\n",
    "\n",
    "---\n",
    "<br/><br/><br/><br/><br/><br/>\n"
   ]
  }
 ],
 "metadata": {
  "anaconda-cloud": {},
  "kernelspec": {
   "display_name": "Python [conda env:ds100]",
   "language": "python",
   "name": "conda-env-ds100-py"
  },
  "language_info": {
   "codemirror_mode": {
    "name": "ipython",
    "version": 3
   },
   "file_extension": ".py",
   "mimetype": "text/x-python",
   "name": "python",
   "nbconvert_exporter": "python",
   "pygments_lexer": "ipython3",
   "version": "3.5.2"
  }
 },
 "nbformat": 4,
 "nbformat_minor": 2
}
