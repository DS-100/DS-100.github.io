{
 "cells": [
  {
   "cell_type": "markdown",
   "metadata": {},
   "source": [
    "## Lab 6: SQL"
   ]
  },
  {
   "cell_type": "code",
   "execution_count": 2,
   "metadata": {
    "collapsed": false
   },
   "outputs": [
    {
     "name": "stdout",
     "output_type": "stream",
     "text": [
      "The sql extension is already loaded. To reload it, use:\n",
      "  %reload_ext sql\n",
      "=====================================================================\n",
      "Assignment: Lab 6\n",
      "OK, version v1.10.1\n",
      "=====================================================================\n",
      "\n"
     ]
    }
   ],
   "source": [
    "!pip install ipython-sql\n",
    "%load_ext sql\n",
    "%sql sqlite:///./lab06.sqlite\n",
    "    \n",
    "import sqlalchemy\n",
    "engine = sqlalchemy.create_engine(\"sqlite:///lab06.sqlite\")\n",
    "connection = engine.connect()\n",
    "\n",
    "!pip install -U okpy\n",
    "from client.api.notebook import Notebook\n",
    "ok = Notebook('lab06.ok')"
   ]
  },
  {
   "cell_type": "markdown",
   "metadata": {},
   "source": [
    "## Rapidgram\n",
    "\n",
    "The date: March, 2017. All of the students at Berkeley are obsessed with the hot new social networking app, Rapidgram, where users can share text and image posts. You've been hired as Rapidgram's very first Data Scientist, in charge of analyzing their petabyte-scale user data, in order to sell it to credit card companies (I mean, they had to monetize somehow). But before you get into that, you need to learn more about their database schema.\n",
    "\n",
    "First, run the next few cells to generate a snapshot of their data. It will be saved locally as the file `lab05.sqlite`."
   ]
  },
  {
   "cell_type": "code",
   "execution_count": 3,
   "metadata": {
    "collapsed": false
   },
   "outputs": [
    {
     "name": "stdout",
     "output_type": "stream",
     "text": [
      "Done.\n",
      "Done.\n",
      "Done.\n",
      "Done.\n"
     ]
    },
    {
     "data": {
      "text/plain": [
       "[]"
      ]
     },
     "execution_count": 3,
     "metadata": {},
     "output_type": "execute_result"
    }
   ],
   "source": [
    "%%sql\n",
    "DROP TABLE IF EXISTS users;\n",
    "DROP TABLE IF EXISTS follows;\n",
    "CREATE TABLE users (\n",
    "    USERID   INT            NOT NULL,                 \n",
    "    NAME     VARCHAR (256)  NOT NULL,                 \n",
    "    YEAR     FLOAT          NOT NULL,\n",
    "    PRIMARY KEY (USERID)\n",
    ");\n",
    "CREATE TABLE follows (\n",
    "    USERID   INT            NOT NULL, \n",
    "    FOLLOWID INT            NOT NULL,\n",
    "    PRIMARY KEY (USERID, FOLLOWID)\n",
    ");"
   ]
  },
  {
   "cell_type": "code",
   "execution_count": 4,
   "metadata": {
    "collapsed": false
   },
   "outputs": [],
   "source": [
    "%%capture\n",
    "count = 0\n",
    "users = [\"Ian\", \"Daniel\", \"Sarah\", \"Kelly\", \"Sam\", \"Alison\", \"Henry\", \"Joey\", \"Mark\", \"Joyce\", \"Natalie\", \"John\"]\n",
    "years = [1, 3, 4, 3, 4, 2, 5, 2, 1, 3, 4, 2]\n",
    "\n",
    "for username, year in zip(users, years):\n",
    "    count += 1\n",
    "    %sql INSERT INTO users VALUES ($count, '$username', $year);"
   ]
  },
  {
   "cell_type": "code",
   "execution_count": 5,
   "metadata": {
    "collapsed": false
   },
   "outputs": [],
   "source": [
    "%%capture\n",
    "follows =  [0, 1, 1, 1, 0, 0, 1, 0, 0, 0, 1, 1, 1, 1, 0, 0, 1, 0, 0, 1, \n",
    "            0, 0, 1, 1, 0, 1, 0, 1, 1, 0, 1, 0, 0, 1, 0, 1, 1, 0, 0, 1, \n",
    "            0, 1, 0, 0, 0, 0, 1, 1, 0, 1, 0, 0, 1, 1, 0, 1, 0, 1, 1, 1, \n",
    "            1, 0, 0, 1, 1, 0, 0, 0, 0, 0, 1, 1, 0, 1, 1, 1, 0, 1, 0, 1, \n",
    "            0, 0, 1, 1, 1, 1, 0, 1, 1, 0, 1, 0, 1, 0, 0, 1, 0, 1, 1, 0,\n",
    "            0, 1, 1, 1, 1, 0, 1, 0, 0, 0, 1, 1, 1, 1, 0, 0, 1, 1, 0, 1,\n",
    "            1, 0, 1, 0, 1, 1, 0, 0, 1, 1, 0, 0, 1, 1, 1, 1, 0, 1, 1, 0,\n",
    "            1, 1, 0, 1]\n",
    "\n",
    "for i in range(12):\n",
    "    for j in range(12):\n",
    "        if i != j and follows[i + j*12]:\n",
    "            %sql INSERT INTO follows VALUES ($i+1, $j+1);"
   ]
  },
  {
   "cell_type": "markdown",
   "metadata": {},
   "source": [
    "#### Question 1: Joey's Followers\n",
    "\n",
    "How many people follow Joey?"
   ]
  },
  {
   "cell_type": "code",
   "execution_count": 11,
   "metadata": {
    "collapsed": false
   },
   "outputs": [
    {
     "name": "stdout",
     "output_type": "stream",
     "text": [
      "Done.\n"
     ]
    },
    {
     "data": {
      "text/html": [
       "<table>\n",
       "    <tr>\n",
       "        <th>COUNT(*)</th>\n",
       "    </tr>\n",
       "    <tr>\n",
       "        <td>7</td>\n",
       "    </tr>\n",
       "</table>"
      ],
      "text/plain": [
       "[(7,)]"
      ]
     },
     "execution_count": 11,
     "metadata": {},
     "output_type": "execute_result"
    }
   ],
   "source": [
    "q1 = \"\"\"\n",
    "...\n",
    "\"\"\"\n",
    "%sql $q1"
   ]
  },
  {
   "cell_type": "code",
   "execution_count": 12,
   "metadata": {
    "collapsed": false
   },
   "outputs": [
    {
     "name": "stdout",
     "output_type": "stream",
     "text": [
      "~~~~~~~~~~~~~~~~~~~~~~~~~~~~~~~~~~~~~~~~~~~~~~~~~~~~~~~~~~~~~~~~~~~~~\n",
      "Running tests\n",
      "\n",
      "---------------------------------------------------------------------\n",
      "Test summary\n",
      "    Passed: 1\n",
      "    Failed: 0\n",
      "[ooooooooook] 100.0% passed\n",
      "\n"
     ]
    },
    {
     "data": {
      "application/javascript": [
       "IPython.notebook.save_checkpoint();"
      ],
      "text/plain": [
       "<IPython.core.display.Javascript object>"
      ]
     },
     "metadata": {},
     "output_type": "display_data"
    },
    {
     "data": {
      "application/javascript": [
       "IPython.notebook.save_notebook();"
      ],
      "text/plain": [
       "<IPython.core.display.Javascript object>"
      ]
     },
     "metadata": {},
     "output_type": "display_data"
    },
    {
     "name": "stdout",
     "output_type": "stream",
     "text": [
      "Saving notebook... Saved 'lab06_master.ipynb'.\n",
      "Backup... 100% complete\n",
      "Backup successful for user: jsimonian@berkeley.edu\n",
      "URL: https://okpy.org/cal/data100/sp17/lab06/backups/0RgZvL\n",
      "NOTE: this is only a backup. To submit your assignment, use:\n",
      "\tpython3 ok --submit\n",
      "\n"
     ]
    }
   ],
   "source": [
    "q1_answer = connection.execute(q1).fetchall()\n",
    "_ = ok.grade('q1')\n",
    "_ = ok.backup()"
   ]
  },
  {
   "cell_type": "markdown",
   "metadata": {},
   "source": [
    "#### Question 2: I Ain't no Followback Girl\n",
    "\n",
    "How many people does Joey follow?"
   ]
  },
  {
   "cell_type": "code",
   "execution_count": null,
   "metadata": {
    "collapsed": true
   },
   "outputs": [],
   "source": [
    "q2 = \"\"\"\n",
    "...\n",
    "\"\"\"\n",
    "%sql $q2"
   ]
  },
  {
   "cell_type": "code",
   "execution_count": null,
   "metadata": {
    "collapsed": false
   },
   "outputs": [],
   "source": [
    "q2_answer = connection.execute(q2).fetchall()\n",
    "_ = ok.grade('q2')\n",
    "_ = ok.backup()\n",
    "q2_answer"
   ]
  },
  {
   "cell_type": "markdown",
   "metadata": {},
   "source": [
    "#### Question 3: Know your Audience\n",
    "What are the names of Joey's followers?"
   ]
  },
  {
   "cell_type": "code",
   "execution_count": null,
   "metadata": {
    "collapsed": true
   },
   "outputs": [],
   "source": [
    "q3 = \"\"\"\n",
    "...\n",
    "\"\"\"\n",
    "%sql $q3"
   ]
  },
  {
   "cell_type": "code",
   "execution_count": null,
   "metadata": {
    "collapsed": false
   },
   "outputs": [],
   "source": [
    "q3_answer = connection.execute(q3).fetchall()\n",
    "_ = ok.grade('q3')\n",
    "_ = ok.backup()"
   ]
  },
  {
   "cell_type": "markdown",
   "metadata": {},
   "source": [
    "#### Question 4: Popularity Contest\n",
    "\n",
    "How many followers does each user have? You'll need to use `GROUP BY` to solve this. List only the top 5 users by number of followers."
   ]
  },
  {
   "cell_type": "code",
   "execution_count": null,
   "metadata": {
    "collapsed": true
   },
   "outputs": [],
   "source": [
    "q4 = \"\"\"\n",
    "...\n",
    "\"\"\"\n",
    "%sql $q4"
   ]
  },
  {
   "cell_type": "code",
   "execution_count": null,
   "metadata": {
    "collapsed": false
   },
   "outputs": [],
   "source": [
    "q4_answer = connection.execute(q4).fetchall()\n",
    "_ = ok.grade('q4')\n",
    "_ = ok.backup()"
   ]
  },
  {
   "cell_type": "markdown",
   "metadata": {},
   "source": [
    "#### Question 5: Randomness\n",
    "\n",
    "Rapidgram wants to get a random sample of their userbase. Specifically, they want to look at *exactly* one-third of the follow-relations in their data. A Rapidgram engineer suggests the following SQL query:"
   ]
  },
  {
   "cell_type": "code",
   "execution_count": null,
   "metadata": {
    "collapsed": false
   },
   "outputs": [],
   "source": [
    "q5a = \"\"\"\n",
    "SELECT u1.name as follower, u2.name as followee\n",
    "    FROM follows, users as u1, users as u2\n",
    "    WHERE follows.userid=u1.userid\n",
    "    AND follows.followid=u2.userid\n",
    "    AND RANDOM() < 0.33\n",
    "\"\"\""
   ]
  },
  {
   "cell_type": "markdown",
   "metadata": {},
   "source": [
    "Do you think this query will work as intended? Why or why not? Try designing a better query below:"
   ]
  },
  {
   "cell_type": "code",
   "execution_count": null,
   "metadata": {
    "collapsed": true
   },
   "outputs": [],
   "source": [
    "q5b = \"\"\"\n",
    "...\n",
    "\"\"\"\n",
    "%sql $q5b"
   ]
  },
  {
   "cell_type": "code",
   "execution_count": null,
   "metadata": {
    "collapsed": false
   },
   "outputs": [],
   "source": [
    "q5_answers = [connection.execute(q5b).fetchall() for _ in range(100)]\n",
    "_ = ok.grade('q5')\n",
    "_ = ok.backup()"
   ]
  },
  {
   "cell_type": "markdown",
   "metadata": {},
   "source": [
    "#### Question 6: More Randomness\n",
    "Rapidgram leadership wants to give more priority to more experienced users, so they decide to weight a survey of users towards students who have spend a greater number of years at berkeley. They want to take a sample of 10 students, weighted such that a student's chance of being in the sample is proportional to their number of years spent at berkeley - for instance, a student with 6 years has three times the chance of a student with 2 years, who has twice the chance of a student with only one year.\n",
    "\n",
    "To take this sample, they've provided you with a helpful temporary view. You can run the cell below to see its functionality."
   ]
  },
  {
   "cell_type": "code",
   "execution_count": null,
   "metadata": {
    "collapsed": false
   },
   "outputs": [],
   "source": [
    "q6a = \"\"\"\n",
    "WITH RECURSIVE generate_series(value) AS (\n",
    "  SELECT 0\n",
    "  UNION ALL\n",
    "  SELECT value+1 FROM generate_series\n",
    "   WHERE value+1<=10\n",
    ")\n",
    "SELECT value\n",
    "    FROM generate_series\n",
    "\"\"\"\n",
    "%sql $q6a"
   ]
  },
  {
   "cell_type": "markdown",
   "metadata": {},
   "source": [
    "Using the `generate_series` view, get a sample of ten students, weighted in this manner."
   ]
  },
  {
   "cell_type": "code",
   "execution_count": null,
   "metadata": {
    "collapsed": true
   },
   "outputs": [],
   "source": [
    "q6b = \"\"\"\n",
    "WITH RECURSIVE generate_series(value) AS (\n",
    "  SELECT 0\n",
    "  UNION ALL\n",
    "  SELECT value+1 FROM generate_series\n",
    "   WHERE value+1<=12\n",
    ")\n",
    "SELECT name\n",
    "    FROM ...\n",
    "    WHERE ...\n",
    "    ORDER BY ...\n",
    "    LIMIT 10\n",
    "\"\"\"\n",
    "%sql $q6b"
   ]
  },
  {
   "cell_type": "code",
   "execution_count": null,
   "metadata": {
    "collapsed": false
   },
   "outputs": [],
   "source": [
    "q6_answers = [connection.execute(q6b).fetchall() for _ in range(100)]\n",
    "_ = ok.grade('q6')\n",
    "_ = ok.backup()"
   ]
  },
  {
   "cell_type": "markdown",
   "metadata": {},
   "source": [
    "#### Question 7: Older and Wiser (challenge)\n",
    "List every person who has been at Berkeley longer - that is, their `year` is greater - than their average follower."
   ]
  },
  {
   "cell_type": "code",
   "execution_count": null,
   "metadata": {
    "collapsed": false
   },
   "outputs": [],
   "source": [
    "q7 = \"\"\"\n",
    "SELECT name FROM (\n",
    "    SELECT ...\n",
    ")\n",
    "WHERE year > avg_follower_years\n",
    "\"\"\"\n",
    "%sql $q7"
   ]
  },
  {
   "cell_type": "code",
   "execution_count": null,
   "metadata": {
    "collapsed": false
   },
   "outputs": [],
   "source": [
    "q7_answer = connection.execute(q7).fetchall()\n",
    "_ = ok.grade('q7')\n",
    "_ = ok.backup()"
   ]
  },
  {
   "cell_type": "code",
   "execution_count": null,
   "metadata": {
    "collapsed": false
   },
   "outputs": [],
   "source": [
    "_ = ok.grade_all()\n",
    "_ = ok.submit()"
   ]
  },
  {
   "cell_type": "code",
   "execution_count": null,
   "metadata": {
    "collapsed": true
   },
   "outputs": [],
   "source": []
  }
 ],
 "metadata": {
  "kernelspec": {
   "display_name": "Python 3",
   "language": "python",
   "name": "python3"
  },
  "language_info": {
   "codemirror_mode": {
    "name": "ipython",
    "version": 3
   },
   "file_extension": ".py",
   "mimetype": "text/x-python",
   "name": "python",
   "nbconvert_exporter": "python",
   "pygments_lexer": "ipython3",
   "version": "3.5.2"
  }
 },
 "nbformat": 4,
 "nbformat_minor": 1
}
