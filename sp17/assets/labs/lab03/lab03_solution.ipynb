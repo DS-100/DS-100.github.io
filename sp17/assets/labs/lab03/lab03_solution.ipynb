{
 "cells": [
  {
   "cell_type": "markdown",
   "metadata": {},
   "source": [
    "# Lab 3: Intro to Visualizations\n",
    "\n",
    "Authors: Sam Lau, Deb Nolan\n",
    "\n",
    "## Due 11:59pm 02/03/2017 (Completion-based)\n",
    "\n",
    "Today, we'll learn the basics of plotting using the Python libraries\n",
    "`matplotlib` and `seaborn`! You should walk out of lab today understanding:\n",
    "\n",
    "- The functionality that `matplotlib` provides\n",
    "- Why we use `seaborn` for plotting\n",
    "- How to make and customize basic plots, including bar charts, box plots,\n",
    "  histograms, and scatterplots.\n",
    "  \n",
    "As usual, to submit this lab you must scroll down the bottom and set the\n",
    "`i_definitely_finished` variable to `True` before running the submit cell.\n",
    "\n",
    "### Please work in pairs to work on this lab assignment. You will discuss the results with your partner instead of having to write them up in the notebook."
   ]
  },
  {
   "cell_type": "code",
   "execution_count": 263,
   "metadata": {
    "collapsed": false
   },
   "outputs": [],
   "source": [
    "import pandas as pd\n",
    "import numpy as np\n",
    "import seaborn as sns\n",
    "%matplotlib inline\n",
    "import matplotlib.pyplot as plt\n",
    "\n",
    "# These lines load the tests.\n",
    "!pip install -U okpy\n",
    "from client.api.notebook import Notebook\n",
    "ok = Notebook('lab03.ok')"
   ]
  },
  {
   "cell_type": "markdown",
   "metadata": {},
   "source": [
    "# `matplotlib`\n",
    "\n",
    "[`matplotlib`][mpl] is the most widely used plotting library available for Python.\n",
    "It comes with a good amount of out-of-the-box functionality and is highly\n",
    "customizable. Most other plotting libraries in Python provide simpler ways to generate\n",
    "complicated `matplotlib` plots, including `seaborn`, so it's worth learning a bit about\n",
    "`matplotlib` now.\n",
    "\n",
    "Notice how all of our notebooks have lines that look like:\n",
    "\n",
    "\t%matplotlib inline\n",
    "\timport matplotlib.pyplot as plt\n",
    "\t\n",
    "The `%matplotlib inline` magic command tells `matplotlib` to render the plots\n",
    "directly onto the notebook (by default it will open a new window with the plot).\n",
    "\n",
    "Then, the `import` line lets us call `matplotlib` functions using `plt.<func>`\n",
    "\n",
    "Here's a graph of `cos(x)` from 0 to 2 * pi (you've made this in homework 1\n",
    "already).\n",
    "\n",
    "[mpl]: http://matplotlib.org/"
   ]
  },
  {
   "cell_type": "code",
   "execution_count": 264,
   "metadata": {
    "collapsed": false
   },
   "outputs": [],
   "source": [
    "# Set up (x, y) pairs from 0 to 2*pi\n",
    "xs = np.linspace(0, 2 * np.pi, 300)\n",
    "ys = np.cos(xs)\n",
    "\n",
    "# plt.plot takes in x-values and y-values and plots them as a line\n",
    "plt.plot(xs, ys)"
   ]
  },
  {
   "cell_type": "markdown",
   "metadata": {},
   "source": [
    "`matplotlib` also conveniently has the ability to plot multiple things on the\n",
    "same plot. Just call `plt.plot` multiple times in the same cell:"
   ]
  },
  {
   "cell_type": "code",
   "execution_count": 265,
   "metadata": {
    "collapsed": false,
    "scrolled": true
   },
   "outputs": [],
   "source": [
    "plt.plot(xs, ys)\n",
    "plt.plot(xs, np.sin(xs))"
   ]
  },
  {
   "cell_type": "markdown",
   "metadata": {},
   "source": [
    "**Question 0:**\n",
    "That plot looks pretty nice but isn't publication-ready. Luckily, `matplotlib`\n",
    "has a wide array of plot customizations.\n",
    "\n",
    "Skim through the first part of the tutorial at\n",
    "https://www.labri.fr/perso/nrougier/teaching/matplotlib\n",
    "to create the plot below. There is a lot of extra information there which we suggest\n",
    "you read on your own time. For now, just look for what you need to make the plot.\n",
    "\n",
    "Specifically, you'll have to change the x and y limits, add a title, and add\n",
    "a legend.\n",
    "\n",
    "![](q1.png)"
   ]
  },
  {
   "cell_type": "code",
   "execution_count": 267,
   "metadata": {
    "collapsed": false,
    "for_assignment_type": "solution"
   },
   "outputs": [],
   "source": [
    "plt.plot(xs, ys, label='cosine')\n",
    "plt.plot(xs, np.sin(xs), label='sine')\n",
    "plt.xlim(0, 2 * np.pi)\n",
    "plt.ylim(-1.1, 1.1)\n",
    "\n",
    "plt.title('Graphs of sin(x) and cos(x)')\n",
    "plt.legend(loc='lower left', frameon=False)\n",
    "\n",
    "plt.savefig('q1.png')"
   ]
  },
  {
   "cell_type": "markdown",
   "metadata": {},
   "source": [
    "## Dataset: Bikeshare trips\n",
    "\n",
    "Today, we'll be performing some basic EDA (exploratory data analysis) on\n",
    "bikeshare data in Washington D.C. \n",
    "\n",
    "The variables in this data frame are defined as:\n",
    "\n",
    "- instant: record index\n",
    "- dteday : date\n",
    "- season : season (1:spring, 2:summer, 3:fall, 4:winter)\n",
    "- yr : year (0: 2011, 1:2012)\n",
    "- mnth : month ( 1 to 12)\n",
    "- hr : hour (0 to 23)\n",
    "- holiday : whether day is holiday or not\n",
    "- weekday : day of the week\n",
    "- workingday : if day is neither weekend nor holiday\n",
    "- weathersit :\n",
    "    - 1: Clear or partly cloudy\n",
    "    - 2: Mist + clouds\n",
    "    - 3: Light Snow or Rain\n",
    "    - 4: Heavy Rain or Snow\n",
    "- temp : Normalized temperature in Celsius (divided by 41)\n",
    "- atemp: Normalized feeling temperature in Celsius (divided by 50)\n",
    "- hum: Normalized percent humidity (divided by 100)\n",
    "- windspeed: Normalized wind speed (divided by 67)\n",
    "- casual: count of casual users\n",
    "- registered: count of registered users\n",
    "- cnt: count of total rental bikes including casual and registered"
   ]
  },
  {
   "cell_type": "code",
   "execution_count": 268,
   "metadata": {
    "collapsed": false,
    "scrolled": true
   },
   "outputs": [],
   "source": [
    "bike_trips = pd.read_csv('bikeshare.csv')\n",
    "\n",
    "# Here we'll do some pandas datetime parsing so that the dteday column\n",
    "# contains datetime objects.\n",
    "bike_trips['dteday'] += ':' + bike_trips['hr'].astype(str)\n",
    "bike_trips['dteday'] = pd.to_datetime(bike_trips['dteday'], format=\"%Y-%m-%d:%H\")\n",
    "bike_trips = bike_trips.drop(['yr', 'mnth', 'hr'], axis=1)\n",
    "\n",
    "bike_trips.head()"
   ]
  },
  {
   "cell_type": "markdown",
   "metadata": {},
   "source": [
    "**Question 1:** Discuss the data with your partner. What is its granularity?\n",
    "What time range is represented here? Perform your exploration in the cell below."
   ]
  },
  {
   "cell_type": "code",
   "execution_count": null,
   "metadata": {
    "collapsed": true
   },
   "outputs": [],
   "source": []
  },
  {
   "cell_type": "markdown",
   "metadata": {},
   "source": [
    "## Using `pandas` to plot\n",
    "\n",
    "`pandas` provides useful methods on dataframes. For simple plots, we prefer to\n",
    "just use those methods instead of the `matplotlib` methods since we're often\n",
    "working with dataframes anyway. The syntax is:\n",
    "\n",
    "    dataframe.plot.<plotfunc>\n",
    "\n",
    "Where the `plotfunc` is one of the functions listed here: http://pandas.pydata.org/pandas-docs/version/0.18.1/visualization.html#other-plots"
   ]
  },
  {
   "cell_type": "code",
   "execution_count": 260,
   "metadata": {
    "collapsed": false
   },
   "outputs": [],
   "source": [
    "# This plot shows the temperature at each data point\n",
    "\n",
    "bike_trips.plot.line(x='dteday', y='temp')\n",
    "\n",
    "# Stop here! Discuss why this plot is shaped like this with your partner."
   ]
  },
  {
   "cell_type": "markdown",
   "metadata": {},
   "source": [
    "## `seaborn`\n",
    "\n",
    "Now, we'll learn how to use the [`seaborn`][sns] Python library. `seaborn`\n",
    "is built on top of `matplotlib` and provides many helpful functions\n",
    "for statistical plotting that `matplotlib` and `pandas` don't have.\n",
    "\n",
    "Generally speaking, we'll use `seaborn` for more complex statistical plots,\n",
    "`pandas` for simple plots (eg. line / scatter plots), and\n",
    "`matplotlib` for plot customization.\n",
    "\n",
    "Nearly all `seaborn` functions are designed to operate on `pandas`\n",
    "dataframes. Most of these functions assume that the dataframe is in\n",
    "a specific format called *long-form*, where each column of the dataframe\n",
    "is a particular feature and each row of the dataframe a single datapoint.\n",
    "\n",
    "For example, this dataframe is long-form:\n",
    "\n",
    "```\n",
    "   country year avgtemp\n",
    " 1  Sweden 1994       6\n",
    " 2 Denmark 1994       6\n",
    " 3  Norway 1994       3\n",
    " 4  Sweden 1995       5\n",
    " 5 Denmark 1995       8\n",
    " 6  Norway 1995      11\n",
    " 7  Sweden 1996       7\n",
    " 8 Denmark 1996       8\n",
    " 9  Norway 1996       7\n",
    "```\n",
    "\n",
    "But this dataframe of the same data is not:\n",
    "\n",
    "```\n",
    "   country avgtemp.1994 avgtemp.1995 avgtemp.1996\n",
    " 1  Sweden            6            5            7\n",
    " 2 Denmark            6            8            8\n",
    " 3  Norway            3           11            7\n",
    "```\n",
    "\n",
    "Note that the `bike_trips` dataframe is long-form.\n",
    "\n",
    "For more about long-form data, see https://stanford.edu/~ejdemyr/r-tutorials/wide-and-long.\n",
    "For now, just remember that we typically prefer long-form data and it makes plotting using\n",
    "`seaborn` easy as well.\n",
    "\n",
    "[sns]: http://seaborn.pydata.org/index.html"
   ]
  },
  {
   "cell_type": "markdown",
   "metadata": {},
   "source": [
    "**Question 2:**\n",
    "Use seaborn's `barplot` function to make a bar chart showing the average\n",
    "number of registered riders on each day of the week over the \n",
    "entire `bike_trips` dataset.\n",
    "\n",
    "Here's a link to the seaborn API: http://seaborn.pydata.org/api.html\n",
    "\n",
    "See if you can figure it out by reading the docs and talking with your partner.\n",
    "\n",
    "Once you have the plot, discuss it with your partner. What trends do you\n",
    "notice? What do you suppose causes these trends?\n",
    "\n",
    "Notice that `barplot` draws error bars for each category. It uses bootstrapping\n",
    "to make those."
   ]
  },
  {
   "cell_type": "code",
   "execution_count": 262,
   "metadata": {
    "collapsed": false,
    "for_assignment_type": "solution",
    "scrolled": false
   },
   "outputs": [],
   "source": [
    "sns.barplot(x='weekday', y='registered', data=bike_trips)"
   ]
  },
  {
   "cell_type": "markdown",
   "metadata": {},
   "source": [
    "**Question 3:** Now for a fancier plot that `seaborn` makes really easy to produce.\n",
    "\n",
    "Use the `distplot` function to plot a histogram of all the total rider counts in the\n",
    "`bike_trips` dataset."
   ]
  },
  {
   "cell_type": "code",
   "execution_count": 224,
   "metadata": {
    "collapsed": false,
    "for_assignment_type": "solution"
   },
   "outputs": [],
   "source": [
    "sns.distplot(bike_trips['cnt'])"
   ]
  },
  {
   "cell_type": "markdown",
   "metadata": {},
   "source": [
    "Notice that `seaborn` will fit a curve to the histogram of the data. Fancy!\n",
    "\n",
    "**Question 4:** Discuss this plot with your partner. What shape does the distribution\n",
    "have? What does that imply about the rider counts?"
   ]
  },
  {
   "cell_type": "markdown",
   "metadata": {},
   "source": [
    "**Question 5:**\n",
    "Use `seaborn` to make side-by-side boxplots of the number of casual riders (just\n",
    "checked out a bike for that day) and registered riders (have a bikeshare membership).\n",
    "\n",
    "The `boxplot` function will plot all the columns of the dataframe you pass in.\n",
    "\n",
    "Once you make the plot, you'll notice that there are many outliers that make\n",
    "the plot hard to see. To mitigate this, change the y-scale to be logarithmic.\n",
    "\n",
    "That's a plot customization so you'll use `matplotlib`. The `boxplot` function returns\n",
    "a `matplotlib` Axes object which represents a single plot and\n",
    "has a `set_yscale` function.\n",
    "\n",
    "The result should look like:\n",
    "\n",
    "![](q5.png)"
   ]
  },
  {
   "cell_type": "code",
   "execution_count": 204,
   "metadata": {
    "collapsed": false,
    "for_assignment_type": "solution",
    "scrolled": true
   },
   "outputs": [],
   "source": [
    "ax = sns.boxplot(data=bike_trips[['casual', 'registered']])\n",
    "ax.set_yscale('log')\n",
    "plt.savefig('q5.png')"
   ]
  },
  {
   "cell_type": "markdown",
   "metadata": {},
   "source": [
    "**Question 6:** Discuss with your partner what the plot tells you about the\n",
    "distribution of casual vs. the distribution of registered riders."
   ]
  },
  {
   "cell_type": "markdown",
   "metadata": {},
   "source": [
    "**Question 7:** Let's take a closer look at the number of registered vs. casual riders.\n",
    "\n",
    "Use the `lmplot` function to make a scatterplot. Put the number of casual\n",
    "riders on the x-axis and the number of registered riders on the y-axis.\n",
    "Each point should correspond to a single row in your `bike_trips` dataframe."
   ]
  },
  {
   "cell_type": "code",
   "execution_count": 214,
   "metadata": {
    "collapsed": false,
    "for_assignment_type": "solution"
   },
   "outputs": [],
   "source": [
    "sns.lmplot('casual', 'registered', bike_trips)"
   ]
  },
  {
   "cell_type": "markdown",
   "metadata": {},
   "source": [
    "**Question 8:** What do you notice about that plot? Discuss with\n",
    "your partner. Notice that `seaborn` automatically fits a line of best\n",
    "fit to the plot. Does that line seem to be relevant?\n",
    "\n",
    "You should note that `lm_plot` allows you to pass in `fit_line=False` to\n",
    "avoid plotting lines of best fit when you feel they are unnecessary \n",
    "or misleading."
   ]
  },
  {
   "cell_type": "markdown",
   "metadata": {},
   "source": [
    "**Question 9:** There seem to be two main groups in the scatterplot. Let's\n",
    "see if we can separate them out.\n",
    "\n",
    "Use `lmplot` to make the scatterplot again. This time, use the `hue` parameter\n",
    "to color points for weekday trips differently from weekend trips. You should\n",
    "get something that looks like:\n",
    "\n",
    "![](q9.png)"
   ]
  },
  {
   "cell_type": "code",
   "execution_count": 220,
   "metadata": {
    "collapsed": false,
    "for_assignment_type": "solution",
    "scrolled": false
   },
   "outputs": [],
   "source": [
    "sns.lmplot('casual', 'registered', bike_trips, hue='workingday',\n",
    "           scatter_kws={'s': 6})\n",
    "plt.savefig('q9.png')\n",
    "\n",
    "# Note that the legend for workingday isn't super helpful. 0 in this case\n",
    "# means \"not a working day\" and 1 means \"working day\". Try fixing the legend\n",
    "# to be more descriptive."
   ]
  },
  {
   "cell_type": "markdown",
   "metadata": {},
   "source": [
    "**Question 10:** Discuss the plot with your partner. Was splitting the data\n",
    "by working day informative? One of the best-fit lines looks valid but the other\n",
    "doesn't. Why do you suppose that is?"
   ]
  },
  {
   "cell_type": "markdown",
   "metadata": {},
   "source": [
    "**Question 11 (bonus):** Eventually, you'll want to be able to pose a\n",
    "question yourself and answer it using a visualization. Here's a question\n",
    "you can think about:\n",
    "\n",
    "How do the number of casual and registered riders change throughout the day,\n",
    "on average?\n",
    "\n",
    "See if you can make a plot to answer this."
   ]
  },
  {
   "cell_type": "code",
   "execution_count": 155,
   "metadata": {
    "collapsed": false,
    "for_assignment_type": "solution",
    "scrolled": true
   },
   "outputs": [],
   "source": [
    "riders_by_hour = (bike_trips.groupby('hr')\n",
    "                  .agg({'casual': 'mean', 'registered': 'mean'}))\n",
    "riders_by_hour.plot.line()"
   ]
  },
  {
   "cell_type": "markdown",
   "metadata": {},
   "source": [
    "## Want to learn more?\n",
    "\n",
    "We recommend checking out the `seaborn` tutorials on your own time. http://seaborn.pydata.org/tutorial.html\n",
    "\n",
    "The `matplotlib` tutorial we linked in Question 1 is also a great refresher on common `matplotlib` functions: https://www.labri.fr/perso/nrougier/teaching/matplotlib/\n",
    "\n",
    "Here's a great blog post about the differences between Python's visualization libraries:\n",
    "https://dansaber.wordpress.com/2016/10/02/a-dramatic-tour-through-pythons-data-visualization-landscape-including-ggplot-and-altair/\n",
    "\n"
   ]
  },
  {
   "cell_type": "markdown",
   "metadata": {},
   "source": [
    "## Submission\n",
    "\n",
    "Change `i_definitely_finished` to `True` and run the cells below to submit the lab.  You may resubmit as many times you want.  We will be grading you on effort/completion."
   ]
  },
  {
   "cell_type": "code",
   "execution_count": null,
   "metadata": {
    "collapsed": true,
    "for_assignment_type": "solution"
   },
   "outputs": [],
   "source": [
    "i_definitely_finished = True"
   ]
  },
  {
   "cell_type": "code",
   "execution_count": null,
   "metadata": {
    "collapsed": false
   },
   "outputs": [],
   "source": [
    "_ = ok.grade('qcompleted')\n",
    "_ = ok.backup()"
   ]
  },
  {
   "cell_type": "code",
   "execution_count": null,
   "metadata": {
    "collapsed": true
   },
   "outputs": [],
   "source": [
    "_ = ok.submit()"
   ]
  }
 ],
 "metadata": {
  "anaconda-cloud": {},
  "kernelspec": {
   "display_name": "Python [conda env:ds100]",
   "language": "python",
   "name": "conda-env-ds100-py"
  },
  "language_info": {
   "codemirror_mode": {
    "name": "ipython",
    "version": 3
   },
   "file_extension": ".py",
   "mimetype": "text/x-python",
   "name": "python",
   "nbconvert_exporter": "python",
   "pygments_lexer": "ipython3",
   "version": "3.5.2"
  },
  "timetravel": {
   "allowedContentTypes": [
    "text/plain"
   ],
   "enabled": false,
   "version": "1.0"
  }
 },
 "nbformat": 4,
 "nbformat_minor": 0
}
