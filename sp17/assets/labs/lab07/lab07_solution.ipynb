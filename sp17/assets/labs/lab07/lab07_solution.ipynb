{
 "cells": [
  {
   "cell_type": "markdown",
   "metadata": {
    "deletable": true,
    "editable": true
   },
   "source": [
    "## Lab 7: Maximum Likelihood Estimation"
   ]
  },
  {
   "cell_type": "code",
   "execution_count": 1,
   "metadata": {
    "collapsed": false,
    "deletable": true,
    "editable": true
   },
   "outputs": [],
   "source": [
    "# Run this cell to set up the notebook.\n",
    "import numpy as np\n",
    "import pandas as pd\n",
    "import seaborn as sns\n",
    "import scipy as sci\n",
    "\n",
    "import matplotlib\n",
    "%matplotlib inline\n",
    "import matplotlib.pyplot as plt\n",
    "from matplotlib import patches, cm\n",
    "from matplotlib.ticker import LinearLocator, FormatStrFormatter\n",
    "from mpl_toolkits.mplot3d import Axes3D\n",
    "\n",
    "from client.api.notebook import Notebook\n",
    "ok = Notebook('lab07.ok')\n",
    "\n",
    "from ipywidgets import interact, interactive, fixed\n",
    "import ipywidgets as widgets"
   ]
  },
  {
   "cell_type": "markdown",
   "metadata": {
    "deletable": true,
    "editable": true
   },
   "source": [
    "Today's lab reviews Maximum Likelihood Estimation, and introduces interctive plotting in the jupyter notebook."
   ]
  },
  {
   "cell_type": "markdown",
   "metadata": {
    "deletable": true,
    "editable": true
   },
   "source": [
    "## Part 1: Likelihood of the Binomial Distribution\n",
    "\n",
    "Recall that the binomial distribution describes the chance of $x$ successes out of $n$ trials, where the trials are independent and each has a probability $p$ of success. For instance, the number of sixes rolled in ten rolls of a die is distributed $Binomial(10, \\frac{1}{6})$.\n",
    "\n",
    "Given $n$ draws from a $Binomial(n, p)$ distribution, which resulted in $x$ successes, we wish to find the chance $p$ of success via maximum likelihood estimation."
   ]
  },
  {
   "cell_type": "markdown",
   "metadata": {
    "deletable": true,
    "editable": true
   },
   "source": [
    "#### Question 1: Likelihood of the Binomial"
   ]
  },
  {
   "cell_type": "markdown",
   "metadata": {
    "deletable": true,
    "editable": true
   },
   "source": [
    "What is the likelihood function for the binomial,  L(p)? Remember, this is equal to the probability of the data occuring given some chance of success $p$.\n",
    "\n",
    "As an aid, we provide a `factorial(x)` function below."
   ]
  },
  {
   "cell_type": "code",
   "execution_count": 2,
   "metadata": {
    "collapsed": true,
    "deletable": true,
    "editable": true
   },
   "outputs": [],
   "source": [
    "factorial = sci.misc.factorial # so you don't have to look it up"
   ]
  },
  {
   "cell_type": "code",
   "execution_count": 3,
   "metadata": {
    "collapsed": false,
    "deletable": true,
    "editable": true
   },
   "outputs": [],
   "source": [
    "def likelihood(n, p, x):\n",
    "    return factorial(n)/factorial(n-x)/factorial(x) * p**x * (1-p)**(n-x) #SOLUTION"
   ]
  },
  {
   "cell_type": "markdown",
   "metadata": {
    "deletable": true,
    "editable": true
   },
   "source": [
    "#### Question 2: Log-likelihood of the Binomial\n",
    "\n",
    "What is the log of the likelihood function for the binomial, $log(L(p)) = lik(p)$? Don't just use `np.log(likelihood)` - determine the value as a new function of n, x, and p."
   ]
  },
  {
   "cell_type": "code",
   "execution_count": 4,
   "metadata": {
    "collapsed": true,
    "deletable": true,
    "editable": true
   },
   "outputs": [],
   "source": [
    "def log_likelihood(n, p, x):\n",
    "    return x * np.log(p) + (n - x) * np.log(1 - p) #SOLUTION"
   ]
  },
  {
   "cell_type": "markdown",
   "metadata": {
    "deletable": true,
    "editable": true
   },
   "source": [
    "#### Question 3: Maximum Likelihood Estimate of the Binomial\n",
    "\n",
    "Given $n$ samples from a binomial distribution $Bin(n, p)$, $x$ of which were successes, what is the value $p$ which maximizes the log-likelihood function?\n",
    "\n",
    "*Hint: Find $\\frac{d}{dp}lik(p)$, set it equal to 0, and solve for p in terms of x and n*."
   ]
  },
  {
   "cell_type": "code",
   "execution_count": 5,
   "metadata": {
    "collapsed": true,
    "deletable": true,
    "editable": true
   },
   "outputs": [],
   "source": [
    "def highest_likelihood(n, x):\n",
    "    return x / n #SOLUTION"
   ]
  },
  {
   "cell_type": "markdown",
   "metadata": {
    "deletable": true,
    "editable": true
   },
   "source": [
    "#### Question 4: Interactive Plotting\n",
    "\n",
    "Using the `interact` jupyter notebook extension, we can create interactive plots. In this case, we create an interactive plot of likelihood as a function of $p$ - interactive in the sense that we can plug in our own values of $n$ and $x$ and see how the plot changes. We can also choose our method of plotting - likelihood or log(likelihood).\n",
    "\n",
    "We've provided code that creates sliders for n and x, and a checkbox to determine whether to plot the likelihood or the log-likelihood. Finish our code by defining the variable `yvals`, and then run it and play around a bit with the output."
   ]
  },
  {
   "cell_type": "code",
   "execution_count": 6,
   "metadata": {
    "collapsed": false,
    "deletable": true,
    "editable": true
   },
   "outputs": [],
   "source": [
    "n_widget = widgets.FloatSlider(min=1, max=20, step=1, value=20)\n",
    "x_widget = widgets.FloatSlider(min=0, max=20, step=1, value=5)\n",
    "\n",
    "# We want to make sure x <= n, otherwise we get into trouble\n",
    "def update_x_range(*args):\n",
    "    x_widget.max = n_widget.value\n",
    "n_widget.observe(update_x_range, 'value')\n",
    "\n",
    "def plot_likelihood(n, x, plot_log=False):\n",
    "    \n",
    "    # values of p are on the x-axis. \n",
    "    # We plot every value from 0.01 to 0.99\n",
    "    pvals = np.arange(1, 100)/100\n",
    "    \n",
    "    # values of either Likelihood(p) or log(Likelihood(p))\n",
    "    # are on the y-axis, depending on the method\n",
    "    if plot_log:\n",
    "        yvals = log_likelihood(n, pvals, x) #SOLUTION\n",
    "    else:\n",
    "        yvals = likelihood(n, pvals, x) #SOLUTION\n",
    "    \n",
    "    plt.plot(pvals, yvals)\n",
    "    \n",
    "    \n",
    "    # Put a line where L(p) is maximized and print the value p*\n",
    "    p_star = highest_likelihood(n, x)\n",
    "    plt.axvline(p_star, lw=1.5, color='r', ls='dashed')\n",
    "    plt.text(p_star + 0.01, min(yvals), 'p*=%.3f' % (p_star))\n",
    "    \n",
    "    plt.xlabel('p')\n",
    "    if plot_log:\n",
    "        plt.ylabel('lik(p)')\n",
    "        plt.title(\"log(Likelihood(p)), if X ~ bin(n, p) = k\")\n",
    "    else:\n",
    "        plt.ylabel('L(p)')\n",
    "        plt.title(\"Likelihood of p, if X ~ bin(n, p) = k\")\n",
    "    plt.show()\n",
    "\n",
    "interact(plot_likelihood, n=n_widget, x=x_widget, log=False);"
   ]
  },
  {
   "cell_type": "markdown",
   "metadata": {
    "deletable": true,
    "editable": true
   },
   "source": [
    "## Part 2: Likelihood of the Blood Types\n",
    "\n",
    "Here's a more complex example, involving several variables. Recall the blood types experiment from lecture. We assume a model where a person's blood type is determined by two genes, each of which is identically-distributed between three alleles. We call the alleles $a$, $b$, and $o$. For each person, the two specific allele variants are random and independent of one another. \n",
    "\n",
    "We know that, if a person has alleles $a$ and $b$, they have blood type $AB$. If the have alleles $a$ and $a$, or $a$ and $o$, they have blood type $A$. Similarly, if the have alleles $b$ and $b$, or $b$ and $o$, they have blood type $B$. Finally, if they have alleles $o$ and $o$, they have blood type $O$.\n",
    "\n",
    "We measure the blood types of a group of people, and get counts of each type $A$, $B$, $AB$, and $O$. Using these counts, we wish to determine the frequency of alleles $a$, $b$, and $o$. We know that, under the assumption of [Hardy-Weinberg](https://en.wikipedia.org/wiki/Hardy%E2%80%93Weinberg_principle) equilibrium:\n",
    "\n",
    "The frequency of type $O$ is $p_o^2$.\n",
    "\n",
    "The frequency of type $A$ is $p_a^2 + 2p_op_a$.\n",
    "\n",
    "The frequency of type $B$ is $p_b^2 + 2p_op_b$.\n",
    "\n",
    "And the frequency of type $AB$ is $2p_ap_b$."
   ]
  },
  {
   "cell_type": "markdown",
   "metadata": {
    "deletable": true,
    "editable": true
   },
   "source": [
    "#### Question 5: blood type likelihood formulas\n",
    "What's the likelihood of allele probabilities $p_a$, $p_b$, $p_o$, given sample counts O, A, B, AB? \n",
    "\n",
    "*Hint: Think about how the binomial formula can be extended. Don't worry about the $n$ choose $k$ bit - we're only concerned with the specific values O, A, B, and AB that we observed, so that term will be the same regardless of $p_a, p_b, p_o$, and it can be ignored.*"
   ]
  },
  {
   "cell_type": "code",
   "execution_count": 7,
   "metadata": {
    "collapsed": true,
    "deletable": true,
    "editable": true
   },
   "outputs": [],
   "source": [
    "def btype_likelihood(pa, pb, po, O, A, B, AB):\n",
    "    return (po**2)**O * (pa**2 + 2*pa*po)**A * (pb**2 + 2*pb*po)**B * (2*pa*pb)**AB #SOLUTION"
   ]
  },
  {
   "cell_type": "markdown",
   "metadata": {
    "deletable": true,
    "editable": true
   },
   "source": [
    "What's the log-likelihood? As before, don't just use `np.log(btype_likelihood)`."
   ]
  },
  {
   "cell_type": "code",
   "execution_count": 8,
   "metadata": {
    "collapsed": true,
    "deletable": true,
    "editable": true
   },
   "outputs": [],
   "source": [
    "def btype_log_likelihood(pa, pb, po, O, A, B, AB):\n",
    "    return np.log(po**2)*O + np.log(pa**2 + 2*pa*po)*A + np.log(pb**2 + 2*pb*po)*B + np.log(2*pa*pb)*AB #SOLUTION"
   ]
  },
  {
   "cell_type": "markdown",
   "metadata": {
    "deletable": true,
    "editable": true
   },
   "source": [
    "#### Question 6: Interactive 3D Plots of Allele Distribution Likelihood\n",
    "Fill in the function `plot_btype_likelihood_3d`, which plots the log-likelihood as $p_a$ and $p_b$ vary (since $p_o$ is a simple function of $p_a$ and $p_b$, this covers all possible triplets of values). You'll need to define four methods of `interact` input - we recommend sticking with `FloatSlider`. Allow for samples of up to 1000 people, with anywhere from 0 to 100% of the population having each phenotype $A$, $B$, $AB$, $O$."
   ]
  },
  {
   "cell_type": "markdown",
   "metadata": {
    "deletable": true,
    "editable": true
   },
   "source": [
    "First, run this cell to define a function for plotting 3D graphs:"
   ]
  },
  {
   "cell_type": "code",
   "execution_count": 9,
   "metadata": {
    "collapsed": true,
    "deletable": true,
    "editable": true
   },
   "outputs": [],
   "source": [
    "def plot_surface_3d(X, Y, Z, orient_x = 45, orient_y = 45):\n",
    "    highest_Z = max(Z.reshape(-1,1))\n",
    "    lowest_Z = min(Z.reshape(-1,1))\n",
    "    fig = plt.figure()\n",
    "    ax = fig.gca(projection='3d')\n",
    "    surf = ax.plot_surface(X, Y, Z, \n",
    "                           cmap=cm.coolwarm, \n",
    "                           linewidth=0, \n",
    "                           antialiased=False, \n",
    "                           rstride=5, cstride=5)\n",
    "    ax.zaxis.set_major_locator(LinearLocator(5))\n",
    "    ax.zaxis.set_major_formatter(FormatStrFormatter('%.1f'))\n",
    "    ax.view_init(orient_y, orient_x)\n",
    "    fig.colorbar(surf, shrink=0.5, aspect=5)\n",
    "    plt.title(\"log(Likelihood(p_a, p_b))\")\n",
    "    plt.xlabel(\"p_a\")\n",
    "    plt.ylabel(\"p_b\")\n",
    "    plt.show()"
   ]
  },
  {
   "cell_type": "markdown",
   "metadata": {
    "deletable": true,
    "editable": true
   },
   "source": [
    "Now, complete the `plot_btype_likelihood_3d` function."
   ]
  },
  {
   "cell_type": "code",
   "execution_count": 10,
   "metadata": {
    "collapsed": false,
    "deletable": true,
    "editable": true
   },
   "outputs": [],
   "source": [
    "O = widgets.FloatSlider(min=1, max=200, step=1, value=120) #SOLUTION\n",
    "A = widgets.FloatSlider(min=1, max=200, step=1, value=100) #SOLUTION\n",
    "B = widgets.FloatSlider(min=1, max=200, step=1, value=30) #SOLUTION\n",
    "AB = widgets.FloatSlider(min=1, max=200, step=1, value=5) #SOLUTION\n",
    "\n",
    "def plot_btype_likelihood_3d(O, A, B, AB):\n",
    "        \n",
    "    pa = np.arange(1, 50)/100\n",
    "    pb = np.arange(1, 50)/100\n",
    "    pa, pb = np.meshgrid(pa, pb) # get all pairs\n",
    "    po = 1 - pa - pb #SOLUTION\n",
    "    \n",
    "    likelihoods = btype_log_likelihood(pa, pb, po, O, A, B, AB) #SOLUTION\n",
    "    \n",
    "    plot_surface_3d(pa, pb, likelihoods)\n",
    "\n",
    "interact(plot_btype_likelihood_3d, O=O, A=A, B=B, AB=AB);"
   ]
  },
  {
   "cell_type": "markdown",
   "metadata": {
    "deletable": true,
    "editable": true
   },
   "source": [
    "#### Question 7: Rotating 3D Plots of Allele Distribution Likelihood\n",
    "\n",
    "We can also rotate this 3D graphic by passing values `orient_x` and `orient_y` to the `plot_surface_3d` function. Add two new sliders, and fill in the `plot_btype_likelihood_3d_oriented` function. You may want to set the `step` size on the new sliders to a value greater than one, and make sure the `max` value is large enough such that they can rotate all the way around. You should be able to copy-paste a good deal of code from above. "
   ]
  },
  {
   "cell_type": "code",
   "execution_count": 11,
   "metadata": {
    "collapsed": false,
    "deletable": true,
    "editable": true
   },
   "outputs": [],
   "source": [
    "O2 = widgets.FloatSlider(min=1, max=200, step=1, value=120) #SOLUTION\n",
    "A2 = widgets.FloatSlider(min=1, max=200, step=1, value=100) #SOLUTION\n",
    "B2 = widgets.FloatSlider(min=1, max=200, step=1, value=30) #SOLUTION\n",
    "AB2 = widgets.FloatSlider(min=1, max=200, step=1, value=5) #SOLUTION\n",
    "X = widgets.FloatSlider(min=-360, max=360, step=15, value=90) #SOLUTION\n",
    "Y = widgets.FloatSlider(min=-360, max=360, step=15, value=30) #SOLUTION\n",
    "    \n",
    "def plot_btype_likelihood_3d_oriented(O, A, B, AB, X, Y):\n",
    "        \n",
    "    pa = np.arange(1, 50)/100\n",
    "    pb = np.arange(1, 50)/100\n",
    "    pa, pb = np.meshgrid(pa, pb) # get all pairs\n",
    "    po = 1 - pa - pb #SOLUTION\n",
    "    \n",
    "    likelihoods = btype_log_likelihood(pa, pb, po, O, A, B, AB) #SOLUTION\n",
    "    \n",
    "    plot_surface_3d(pa, pb, likelihoods, orient_x=X, orient_y=Y)\n",
    "\n",
    "interact(plot_btype_likelihood_3d_oriented, O=O2, A=A2, B=B2, AB=AB2, X=X, Y=Y);"
   ]
  },
  {
   "cell_type": "markdown",
   "metadata": {
    "deletable": true,
    "editable": true
   },
   "source": [
    "We also can make some 2d color plots, to get a better view of exactly where our values are maximized. As in the 3d plots, redder colors refer to higher likelihoods."
   ]
  },
  {
   "cell_type": "code",
   "execution_count": null,
   "metadata": {
    "collapsed": false,
    "deletable": true,
    "editable": true
   },
   "outputs": [],
   "source": [
    "O3 = widgets.FloatSlider(min=1, max=200, step=1, value=120)\n",
    "A3 = widgets.FloatSlider(min=1, max=200, step=1, value=100)\n",
    "B3 = widgets.FloatSlider(min=1, max=200, step=1, value=30)\n",
    "AB3 = widgets.FloatSlider(min=1, max=200, step=1, value=5)\n",
    "\n",
    "def plot_btype_log_likelihood_heatmap(O, A, B, AB):\n",
    "        \n",
    "    pa = np.arange(1, 50)/100\n",
    "    pb = np.arange(1, 50)/100\n",
    "    pa, pb = np.meshgrid(pa, pb) # get all possible pairs\n",
    "    po = 1 - pa - pb\n",
    "    \n",
    "    likelihoods = btype_log_likelihood(pa, pb, po, O, A, B, AB)\n",
    "    plt.pcolor(pa, pb, likelihoods, cmap=cm.coolwarm)\n",
    "    plt.xlabel(\"p_a\")\n",
    "    plt.ylabel(\"p_b\")\n",
    "    plt.title(\"log(Likelihood(p_a, p_b))\")\n",
    "    plt.show()\n",
    "    \n",
    "interact(plot_btype_log_likelihood_heatmap, O=O3, A=A3, B=B3, AB=AB3);"
   ]
  },
  {
   "cell_type": "markdown",
   "metadata": {
    "deletable": true,
    "editable": true
   },
   "source": [
    "As with the binomial, the likelihood has a \"sharper\" distribution than the log-likelihood. So, plotting the likelihood, we can see our maximal point with greater clarity."
   ]
  },
  {
   "cell_type": "code",
   "execution_count": null,
   "metadata": {
    "collapsed": false,
    "deletable": true,
    "editable": true
   },
   "outputs": [],
   "source": [
    "O4 = widgets.FloatSlider(min=1, max=200, step=1, value=120)\n",
    "A4 = widgets.FloatSlider(min=1, max=200, step=1, value=100)\n",
    "B4 = widgets.FloatSlider(min=1, max=200, step=1, value=30)\n",
    "AB4 = widgets.FloatSlider(min=1, max=200, step=1, value=5)\n",
    "\n",
    "def plot_btype_likelihood_heatmap(O, A, B, AB):\n",
    "        \n",
    "    pa = np.arange(1, 100)/100\n",
    "    pb = np.arange(1, 100)/100\n",
    "    pa, pb = np.meshgrid(pa, pb) # get all possible pairs\n",
    "    po = 1 - pa - pb\n",
    "    \n",
    "    likelihoods = btype_likelihood(pa, pb, po, O, A, B, AB)\n",
    "    likelihoods[(pa + pb) > 1] = 0 # Don't plot impossible probability pairs\n",
    "    plt.pcolor(pa, pb, likelihoods, cmap=cm.coolwarm)\n",
    "    plt.xlabel(\"p_a\")\n",
    "    plt.ylabel(\"p_b\")\n",
    "    plt.title(\"Likelihood(p_a, p_b)\")\n",
    "    plt.show()\n",
    "    \n",
    "interact(plot_btype_likelihood_heatmap, O=O4, A=A4, B=B4, AB=AB4);"
   ]
  },
  {
   "cell_type": "markdown",
   "metadata": {
    "deletable": true,
    "editable": true
   },
   "source": [
    "#### Question 8: Getting the MLE for the blood-type question\n",
    "Finally, we want to get our actual estimates for $p_a, p_b, p_o$! However, unlike in the Binomial example, we don't want to calculate our MLE by hand. So instead, we use function-minimizers to calculate the highest likelihood.\n",
    "\n",
    "`scipy`'s `optimize.minimize` function allows us to find the tuple of arguments that minimizes a function of $n$ variables, subject to desired constraints. Given any set of observed phenotype counts $O, A, B, AB$, we can thus find the specific values $p_a, p_b, p_o$ that maximize the log-likelihood function. Finish the nested function `flipped_btype_fixed_params` in order to do just that."
   ]
  },
  {
   "cell_type": "code",
   "execution_count": null,
   "metadata": {
    "collapsed": false,
    "deletable": true,
    "editable": true
   },
   "outputs": [],
   "source": [
    "O5 = widgets.FloatSlider(min=1, max=200, step=1, value=120)\n",
    "A5 = widgets.FloatSlider(min=1, max=200, step=1, value=100)\n",
    "B5 = widgets.FloatSlider(min=1, max=200, step=1, value=30)\n",
    "AB5 = widgets.FloatSlider(min=1, max=200, step=1, value=5)\n",
    "\n",
    "def maximize_btype_likelihood(O, A, B, AB):\n",
    "    \n",
    "    def flipped_btype_fixed_params(params):\n",
    "        # \"params\" is a list containing p_a, p_b, p_o\n",
    "        pa, pb, po = params\n",
    "        # We wish to return a value which is minimized when the log-likelihood is maximized...\n",
    "        # What function would accomplish this?\n",
    "        return -btype_log_likelihood(pa, pb, po, O, A, B, AB) #SOLUTION\n",
    "    \n",
    "    # We need to provide an initial guess at the solution\n",
    "    initial_guess = [1/3, 1/3, 1/3]\n",
    "    \n",
    "    # Each variable is bounded between zero and one\n",
    "    # sci.optimize.minimize seems to dislike exact zero bounds, though, so we use 10^-6\n",
    "    bnds = ((1e-6, 1), (1e-6, 1), (1e-6, 1))\n",
    "    \n",
    "    # An additional constraint on our parameters - they must sum to one\n",
    "    # The minimizer will only check params where constraint_fn(params) = 0\n",
    "    def constraint_fn(params):\n",
    "        # \"params\" is a list containing p_a, p_b, p_o\n",
    "        return sum(params) - 1\n",
    "        \n",
    "    constraint = ({'type': 'eq', 'fun': constraint_fn},)\n",
    "    \n",
    "    pa, pb, po = sci.optimize.minimize(flipped_btype_fixed_params, \n",
    "                                       x0=initial_guess, \n",
    "                                       bounds=bnds, \n",
    "                                       constraints=constraint).x\n",
    "    \n",
    "    return \"pa* = %.3f, pb* = %.2f, po* = %.3f\" % (pa, pb, po)\n",
    "    \n",
    "interact(maximize_btype_likelihood, O=O5, A=A5, B=B5, AB=AB5);"
   ]
  },
  {
   "cell_type": "markdown",
   "metadata": {
    "deletable": true,
    "editable": true
   },
   "source": [
    "# Submitting your assignment\n",
    "If you made a good-faith effort to complete the lab, change `i_finished_the_lab` to `True` in the cell below.  In any case, run the cells below to submit the lab."
   ]
  },
  {
   "cell_type": "code",
   "execution_count": null,
   "metadata": {
    "collapsed": true,
    "deletable": true,
    "editable": true
   },
   "outputs": [],
   "source": [
    "i_finished_the_lab = False"
   ]
  },
  {
   "cell_type": "code",
   "execution_count": null,
   "metadata": {
    "collapsed": false,
    "deletable": true,
    "editable": true
   },
   "outputs": [],
   "source": [
    "_ = ok.grade('qcompleted')\n",
    "_ = ok.backup()"
   ]
  },
  {
   "cell_type": "code",
   "execution_count": null,
   "metadata": {
    "collapsed": false,
    "deletable": true,
    "editable": true
   },
   "outputs": [],
   "source": [
    "_ = ok.submit()"
   ]
  },
  {
   "cell_type": "markdown",
   "metadata": {
    "deletable": true,
    "editable": true
   },
   "source": [
    "Now, run this code in your terminal to make a\n",
    "[git commit](https://www.atlassian.com/git/tutorials/saving-changes/git-commit)\n",
    "that saves a snapshot of your changes in `git`. The last line of the cell\n",
    "runs [git push](http://stackoverflow.com/questions/2745076/what-are-the-differences-between-git-commit-and-git-push), which will send your work to your personal Github repo.\n",
    "\n",
    "    # Tell git to commit your changes to this notebook\n",
    "    git add sp17/lab/lab07/lab07.ipynb\n",
    "    \n",
    "    # Tell git to make the commit\n",
    "    git commit -m \"lab07 finished\"\n",
    "    \n",
    "    # Send your updates to your personal private repo\n",
    "    git push origin master"
   ]
  },
  {
   "cell_type": "code",
   "execution_count": null,
   "metadata": {
    "collapsed": true,
    "deletable": true,
    "editable": true
   },
   "outputs": [],
   "source": []
  }
 ],
 "metadata": {
  "kernelspec": {
   "display_name": "Python [default]",
   "language": "python",
   "name": "python3"
  },
  "language_info": {
   "codemirror_mode": {
    "name": "ipython",
    "version": 3
   },
   "file_extension": ".py",
   "mimetype": "text/x-python",
   "name": "python",
   "nbconvert_exporter": "python",
   "pygments_lexer": "ipython3",
   "version": "3.5.2"
  }
 },
 "nbformat": 4,
 "nbformat_minor": 1
}
