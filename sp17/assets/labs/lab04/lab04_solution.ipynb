{
 "cells": [
  {
   "cell_type": "markdown",
   "metadata": {},
   "source": [
    "## Lab 4: Baby Names"
   ]
  },
  {
   "cell_type": "code",
   "execution_count": null,
   "metadata": {
    "collapsed": false
   },
   "outputs": [],
   "source": [
    "# Run this cell to set up the notebook.\n",
    "import numpy as np\n",
    "import pandas as pd\n",
    "import seaborn as sns\n",
    "\n",
    "import matplotlib\n",
    "%matplotlib inline\n",
    "import matplotlib.pyplot as plt\n",
    "\n",
    "!pip install -U okpy\n",
    "from client.api.notebook import Notebook\n",
    "ok = Notebook('lab04.ok')"
   ]
  },
  {
   "cell_type": "markdown",
   "metadata": {},
   "source": [
    "Today's lab has a few goals:\n",
    "\n",
    "1. Get more practice with Pandas and visualization code.\n",
    "2. Exercise some of the principles of visualization we've been learning about.\n",
    "3. Do some basic prediction and inference.\n",
    "\n",
    "We'll be analyzing a dataset of names.  The data were collected by the US Social Security Administration; it includes a large fraction of all people who were born in the United States in recent years.  (Because it is based on official government records, the dataset includes some anachronisms, including binary sex classification and the use of the word \"gender\" rather than \"sex.\"  We've left it as we found it.)\n",
    "\n",
    "Note: Most of the plotting in this lab can be done with `<DataFrame>.plot.<plot_method_name>`.  You can find the documentation for Pandas plotting [here](http://pandas.pydata.org/pandas-docs/version/0.18.1/visualization.html)."
   ]
  },
  {
   "cell_type": "markdown",
   "metadata": {},
   "source": [
    "## What's in a name database?\n",
    "We've included several CSV and PDF files in [`names.zip`](./names.zip).  These files are from [kaggle.com](https://www.kaggle.com/kaggle/us-baby-names)'s site for this dataset.  Peruse them to see what the data look like.  Note that Kaggle seems to have modified the data format, so the PDF descriptions are not exactly accurate!"
   ]
  },
  {
   "cell_type": "code",
   "execution_count": null,
   "metadata": {
    "collapsed": false
   },
   "outputs": [],
   "source": [
    "!unzip -o names.zip"
   ]
  },
  {
   "cell_type": "code",
   "execution_count": null,
   "metadata": {
    "collapsed": true
   },
   "outputs": [],
   "source": [
    "names = pd.read_csv(\"NationalNames.csv\")"
   ]
  },
  {
   "cell_type": "code",
   "execution_count": null,
   "metadata": {
    "collapsed": false
   },
   "outputs": [],
   "source": [
    "names.head()"
   ]
  },
  {
   "cell_type": "markdown",
   "metadata": {},
   "source": [
    "## EDA\n",
    "Let's do some basic exploration."
   ]
  },
  {
   "cell_type": "markdown",
   "metadata": {},
   "source": [
    "#### Question 1\n",
    "In the national database, how many people were recorded each year?  Create an appropriate visualization."
   ]
  },
  {
   "cell_type": "code",
   "execution_count": null,
   "metadata": {
    "collapsed": false
   },
   "outputs": [],
   "source": [
    "names.groupby(\"Year\")[\"Count\"].sum().plot.line(); #SOLUTION"
   ]
  },
  {
   "cell_type": "markdown",
   "metadata": {},
   "source": [
    "#### Question 2\n",
    "In the national database, among people born in the most recent year, what are the frequencies of the *most common* and *least common* names?  Create appropriate visualizations."
   ]
  },
  {
   "cell_type": "code",
   "execution_count": null,
   "metadata": {
    "collapsed": false,
    "for_assignment_type": "solution"
   },
   "outputs": [],
   "source": [
    "names_2014 = names[names['Year'] == 2014]\n",
    "least_popular_2014 = names_2014.sort_values(\"Count\").iloc[:20]\n",
    "most_popular_2014 = names_2014.sort_values(\"Count\").iloc[-20:]\n",
    "least_popular_2014.plot.bar(\"Name\", \"Count\")\n",
    "most_popular_2014.plot.bar(\"Name\", \"Count\");"
   ]
  },
  {
   "cell_type": "markdown",
   "metadata": {},
   "source": [
    "#### Question 3\n",
    "Using the plots you made in question 2, figure out one reason why the chart you made in question 1 probably understates the number of births per year in the US.  **Then** find a source online listing US births by year and check whether - and by how much - the chart understates the number of births."
   ]
  },
  {
   "cell_type": "markdown",
   "metadata": {},
   "source": [
    "**SOLUTION:** The dataset apparently does not include names that occur fewer than 5 times, to avoid personally identifying anyone.  So such people are not recorded in the dataset.  Based on [this dataset](http://www.infoplease.com/ipa/A0005067.html) from HHS, the number of births might be understated by around 100,000 per year - not bad."
   ]
  },
  {
   "cell_type": "markdown",
   "metadata": {},
   "source": [
    "#### Question 4\n",
    "The visualization in question 2 didn't help us answer this question:\n",
    "\n",
    "> \"Among names of people born in 2014, what is the distribution of frequencies?\"\n",
    "    \n",
    "Create a histogram to attempt to answer that question.  Your histogram should tell you, for example, how many names occurred fewer than 100 times."
   ]
  },
  {
   "cell_type": "code",
   "execution_count": null,
   "metadata": {
    "collapsed": false
   },
   "outputs": [],
   "source": [
    "names_2014[\"Count\"].plot.hist(bins=250); #SOLUTION"
   ]
  },
  {
   "cell_type": "markdown",
   "metadata": {},
   "source": [
    "You should find that your histogram is not terribly useful, except to tell you that almost all names occurred fewer than, say, 500 times.  A few names are *much* more frequent than the others.  Your plot in question 2 should tell you what many of those names are."
   ]
  },
  {
   "cell_type": "markdown",
   "metadata": {},
   "source": [
    "Now consider the new question:\n",
    "\n",
    "> \"Among *people* born in 2014, what is the distribution of name popularity?\""
   ]
  },
  {
   "cell_type": "markdown",
   "metadata": {},
   "source": [
    "#### Question 5\n",
    "How this is a different question than the one in question 4?  How might the plot in question 4 mislead us about the answer to this new question?"
   ]
  },
  {
   "cell_type": "markdown",
   "metadata": {},
   "source": [
    "**SOLUTION:** The previous question was about names, while this is about people.  It's possible that most names are rare, while most people have common names.  From the histogram we made in question 4, we might guess that most people have names that only occur a few times."
   ]
  },
  {
   "cell_type": "markdown",
   "metadata": {},
   "source": [
    "The cell below creates a histogram helping us answer questions like this:\n",
    "\n",
    "> \"How many people had names occurring between 5000 and 5500 times?\""
   ]
  },
  {
   "cell_type": "code",
   "execution_count": null,
   "metadata": {
    "collapsed": false
   },
   "outputs": [],
   "source": [
    "names_in_2014 = names[names['Year'] == 2014]\n",
    "plt.hist(names_in_2014[\"Count\"], weights=names_in_2014[\"Count\"], bins=np.arange(0, names_in_2014[\"Count\"].max()+500, 500));"
   ]
  },
  {
   "cell_type": "markdown",
   "metadata": {},
   "source": [
    "#### Question 6\n",
    "Create a visualization to help us answer questions like this:\n",
    "\n",
    "> \"How many people had names occurring fewer than 5000 times?\"\n",
    "\n",
    "Then use your visualization to estimate the number of people who had names occurring fewer than 2500 times, giving your estimate the name `num_people_with_rare_names`.\n",
    "\n",
    "(This question is a bit more natural and should lead to a visualization that's more readable than our histogram.)"
   ]
  },
  {
   "cell_type": "code",
   "execution_count": null,
   "metadata": {
    "collapsed": false,
    "for_assignment_type": "solution"
   },
   "outputs": [],
   "source": [
    "names_in_2014.groupby(\"Count\")[\"Count\"].sum()\\\n",
    "          .sort_index(ascending=True)\\\n",
    "          .cumsum()\\\n",
    "          .plot.line();\n",
    "\n",
    "num_people_with_rare_names = 2000000"
   ]
  },
  {
   "cell_type": "code",
   "execution_count": null,
   "metadata": {
    "collapsed": false
   },
   "outputs": [],
   "source": [
    "_ = ok.grade('q06')\n",
    "_ = ok.backup()"
   ]
  },
  {
   "cell_type": "markdown",
   "metadata": {},
   "source": [
    "You probably saw in question 2 that the least-common names occur 5 times in a year.  That's because the data are \"censored\" to remove names that occur fewer than 5 times."
   ]
  },
  {
   "cell_type": "markdown",
   "metadata": {},
   "source": [
    "#### Question 7\n",
    "Why do you think the Social Security Administration does that?"
   ]
  },
  {
   "cell_type": "markdown",
   "metadata": {},
   "source": [
    "**SOLUTION:** They don't want to give out personally-identifiable information about individuals.  If you were the only person with a certain name, then the dataset would tell us when you were born."
   ]
  },
  {
   "cell_type": "markdown",
   "metadata": {},
   "source": [
    "However, you might imagine that it's possible to extrapolate from the pattern of name frequencies in the our data to the pattern of name frequencies for names that appeared 4 or fewer times.  Then we could try to answer interesting questions like, \"How many distinct names were given to people born in 2014?\"  In later weeks, we'll have the tools to do that."
   ]
  },
  {
   "cell_type": "markdown",
   "metadata": {},
   "source": [
    "# What if we'd had a sample?\n",
    "We are pretty lucky to have a census of most US births.  Let's generate a random sample to see how it would affect our inferences in the remainder of the lab."
   ]
  },
  {
   "cell_type": "markdown",
   "metadata": {},
   "source": [
    "#### Question 8\n",
    "You can generate a random sample of the rows of a Pandas table with the `sample` method, as in:\n",
    "\n",
    "    names.sample(n = 10000, replace = False)\n",
    "\n",
    "But if we did that, we wouldn't get the kind of dataset we'd see if the Social Security Administration had sampled randomly from people born in each year and reported their name counts.  Why not?"
   ]
  },
  {
   "cell_type": "markdown",
   "metadata": {},
   "source": [
    "**SOLUTION:** We would be sampling *names*, not *people*.  Some names would be missing entirely, and others would have all their data.  We need to disaggregate the data and then sample individual people."
   ]
  },
  {
   "cell_type": "markdown",
   "metadata": {},
   "source": [
    "#### Question 9\n",
    "Generate a random sample of 100,000 people born in 2014.  Do this by implementing the function `sample_counts_table` according to its documentation.  (Note that it should sample ***with replacement***.)  Call that function to compute a table called `sample_names_2014`.  It should have the same columns as `names`, and `sample_names_2014[\"Count\"].sum()` should equal 100,000.\n",
    "\n",
    "*Hint:* In `sample_counts_table`, use `groupby` to re-aggregate the table after sampling it.  Before returning the result, use `reset_index` to take the columns you pass to `groupby` out of the index and make them ordinary columns again."
   ]
  },
  {
   "cell_type": "code",
   "execution_count": null,
   "metadata": {
    "collapsed": false,
    "for_assignment_type": "solution"
   },
   "outputs": [],
   "source": [
    "def sample_counts_table(table, count_column_name, sample_size):\n",
    "    \"\"\"Given a table with a column of counts, produces a table that's a random sample\n",
    "    **with replacement** from that table.\n",
    "    \n",
    "    The sampling is not done directly on the rows of the given table.  Instead, the sample\n",
    "    is taken *as if* from a copy of that table, where each row is duplicated once per\n",
    "    count.  The resulting table is aggregated, so it looks similar to the original table,\n",
    "    except that its counts column sums to sample_size.\n",
    "    \n",
    "    Args:\n",
    "        table (pd.DataFrame): Any DataFrame\n",
    "        count_column_name (str): The name of a column in table.  That column should\n",
    "                                 contain integer counts.\n",
    "        sample_size (int): The size of the sample\n",
    "    \n",
    "    Returns:\n",
    "        pd.DataFrame: A copy of table, but with total count equal to sample_size,\n",
    "                      sampled randomly as described above.\n",
    "    \"\"\"\n",
    "    sampled = table.sample(n = sample_size, replace=True, weights = count_column_name)\n",
    "    other_columns = list(set(table.columns) - set([count_column_name]))\n",
    "    regrouped = sampled.groupby(other_columns).count()\n",
    "    return regrouped.reset_index(level=other_columns)\n",
    "\n",
    "sample_names_2014 = sample_counts_table(names_in_2014, \"Count\", 100000)"
   ]
  },
  {
   "cell_type": "code",
   "execution_count": null,
   "metadata": {
    "collapsed": false
   },
   "outputs": [],
   "source": [
    "_ = ok.grade('q09')\n",
    "_ = ok.backup()"
   ]
  },
  {
   "cell_type": "markdown",
   "metadata": {},
   "source": [
    "#### Question 10\n",
    "Verify that your sample looks reasonable.  Do this by checking whether the following two bar charts look similar:\n",
    "1. The frequencies of the top 5 names in 2014.\n",
    "2. The frequencies of the top 5 names in 2014, using your sample."
   ]
  },
  {
   "cell_type": "code",
   "execution_count": null,
   "metadata": {
    "collapsed": false
   },
   "outputs": [],
   "source": [
    "n = 5\n",
    "names_in_2014.sort_values(\"Count\", ascending=False).head(n=n).plot.barh(\"Name\", \"Count\") #SOLUTION\n",
    "sample_names_2014.sort_values(\"Count\", ascending=False).head(n=n).plot.barh(\"Name\", \"Count\"); #SOLUTION"
   ]
  },
  {
   "cell_type": "markdown",
   "metadata": {},
   "source": [
    "# Are names visually related to birth-assigned sex?\n",
    "When you see a name for the first time in a familiar language (for example, in a fiction book), you can probably make a guess about the sex of the person with the name.  For example, a person named Almon is probably male, and a person named Alma is probably female.  What patterns has your brain learned to let you make such predictions?\n",
    "\n",
    "One simple pattern you might guess is that names of females more often end in vowels, while names of males more often end in consonants.  Let's find out."
   ]
  },
  {
   "cell_type": "markdown",
   "metadata": {},
   "source": [
    "#### Question 11\n",
    "For each letter in English, compute the proportion of males and females whose name ends with that letter.  Do this by filling in the function `pivot_by_ending` and calling it on `sample_names_2014`.  **Use your sample table, `sample_names_2014`, as in the filled-in code.**\n",
    "\n",
    "Your table should look like this (but with different values and with 26 rows):\n",
    "\n",
    "|Ending|F|M|\n",
    "|-|-|-|-|\n",
    "|a|.7|.3|\n",
    "|b|.2|.8|"
   ]
  },
  {
   "cell_type": "code",
   "execution_count": null,
   "metadata": {
    "collapsed": false,
    "for_assignment_type": "solution"
   },
   "outputs": [],
   "source": [
    "def pivot_by_ending(names):\n",
    "    \"\"\"Find the last letter of each name in the given table and pivot by\n",
    "    that value and by gender.\n",
    "    \n",
    "    Args:\n",
    "        names (pd.DataFrame): A table like `names_in_2014`, having at least\n",
    "                              the following columns:\n",
    "                               * 'Name': A column of strings\n",
    "                               * 'Gender': A column of strings 'F' or 'M'\n",
    "                               * 'Count': A column of integers, the number\n",
    "                                 of individuals represented by each row\n",
    "    Returns:\n",
    "        pd.DataFrame: A table pivoted by last letter of name and by gender.\n",
    "                      See above for an example.\"\"\"\n",
    "    # This solution is slick, but it's fine to instead use\n",
    "    # apply or a list comprehension.\n",
    "    with_ending = names.assign(Ending = names[\"Name\"].str[-1])\n",
    "    return with_ending.pivot_table(\n",
    "        index=['Ending'], # column(s) that will index the pivoted table\n",
    "        columns=['Gender'], # Each value in this column (or columns) will get its own column in the pivoted table.\n",
    "        values='Count', # the field to process in each group\n",
    "        aggfunc='sum', # the operation to apply to the collection of field values in each group\n",
    "        fill_value=0 # the default value for an empty cell in the resulting table\n",
    "    )\n",
    "\n",
    "sample_names_2014_by_ending = pivot_by_ending(sample_names_2014)"
   ]
  },
  {
   "cell_type": "code",
   "execution_count": null,
   "metadata": {
    "collapsed": false
   },
   "outputs": [],
   "source": [
    "_ = ok.grade('q11')\n",
    "_ = ok.backup()"
   ]
  },
  {
   "cell_type": "markdown",
   "metadata": {},
   "source": [
    "Run the next cell to make a bar chart of your results.  (The male proportion is 1 minus the female proportion.)"
   ]
  },
  {
   "cell_type": "code",
   "execution_count": null,
   "metadata": {
    "collapsed": false
   },
   "outputs": [],
   "source": [
    "def compute_proportions(pivoted_by_letter):\n",
    "    totals = pivoted_by_letter['M'] + pivoted_by_letter['F']\n",
    "    return pd.DataFrame({\n",
    "            \"Ending\": pivoted_by_letter.index.values,\n",
    "            \"Male proportion\": pivoted_by_letter['M'] / totals,\n",
    "            \"Female proportion\": pivoted_by_letter['F'] / totals})\n",
    "\n",
    "proportions_in_2014_sample = compute_proportions(sample_names_2014_by_ending).sort_values(\"Female proportion\", ascending=False)\n",
    "proportions_in_2014_sample[[\"Female proportion\"]].plot.bar(color=\"Pink\");"
   ]
  },
  {
   "cell_type": "markdown",
   "metadata": {},
   "source": [
    "#### Question 12\n",
    "Discuss what the chart tells us.  Is there a strong association between sex and the last letter of a name in our sample?"
   ]
  },
  {
   "cell_type": "markdown",
   "metadata": {},
   "source": [
    "# Uncertainty\n",
    "The bar chart was built from a sample.  It's possible that the relationships we saw don't really exist in the full dataset.\n",
    "\n",
    "To quantify our uncertainty, let's run the bootstrap.  We can reuse most of our earlier code. (That's why we packaged everything into functions.)"
   ]
  },
  {
   "cell_type": "markdown",
   "metadata": {},
   "source": [
    "#### Question 13\n",
    "Compute 200 bootstrap resamples from `sample_names_2014`.  For each resample, compute a table of proportions by calling your `compute_proportions` and `pivot_by_ending` functions on it."
   ]
  },
  {
   "cell_type": "code",
   "execution_count": null,
   "metadata": {
    "collapsed": false
   },
   "outputs": [],
   "source": [
    "# Constants provided for your convenience.\n",
    "num_resamples = 200\n",
    "resample_size = 100000\n",
    "\n",
    "# Compute a list of num_resamples tables, each one like `proportions_in_2014_sample`.\n",
    "# Each should be based on a resample of sample_names_2014.\n",
    "# This should take around a minute.\n",
    "resamples = [compute_proportions(pivot_by_ending(sample_counts_table(sample_names_2014, \"Count\", resample_size))) for _ in range(num_resamples)] #SOLUTION"
   ]
  },
  {
   "cell_type": "code",
   "execution_count": null,
   "metadata": {
    "collapsed": true
   },
   "outputs": [],
   "source": [
    "_ = ok.grade('q13')\n",
    "_ = ok.backup()"
   ]
  },
  {
   "cell_type": "markdown",
   "metadata": {},
   "source": [
    "The cell below displays your bootstrapped proportions."
   ]
  },
  {
   "cell_type": "code",
   "execution_count": null,
   "metadata": {
    "collapsed": false
   },
   "outputs": [],
   "source": [
    "resample_proportions = pd.concat(resamples)\n",
    "sns.boxplot(x=\"Ending\",\n",
    "            y=\"Female proportion\",\n",
    "            data=resample_proportions,\n",
    "            order=proportions_in_2014_sample[\"Ending\"],\n",
    "            color=\"Pink\");"
   ]
  },
  {
   "cell_type": "code",
   "execution_count": null,
   "metadata": {
    "collapsed": false
   },
   "outputs": [],
   "source": [
    "compute_proportions(pivot_by_ending(names_in_2014))\\\n",
    "    .loc[proportions_in_2014_sample[\"Ending\"]]\\\n",
    "    [[\"Female proportion\"]]\\\n",
    "    .plot.bar(color=(\"Pink\"));\n",
    "plt.title(\"\")"
   ]
  },
  {
   "cell_type": "markdown",
   "metadata": {},
   "source": [
    "#### Question 14\n",
    "Why is the box for names ending in 'q' so wide?"
   ]
  },
  {
   "cell_type": "markdown",
   "metadata": {},
   "source": [
    "**SOLUTION:** Very few names end in 'q', so in our sample of 100,000, there were very few such people.  That means our sample size for estimating the proportion of females among people with names ending 'q' is very small."
   ]
  },
  {
   "cell_type": "markdown",
   "metadata": {},
   "source": [
    "# Submitting your assignment\n",
    "If you made a good-faith effort to complete the lab, change `i_finished_the_lab` to `True` in the cell below.  In any case, run the cells below to submit the lab."
   ]
  },
  {
   "cell_type": "code",
   "execution_count": null,
   "metadata": {
    "collapsed": true
   },
   "outputs": [],
   "source": [
    "i_finished_the_lab = False"
   ]
  },
  {
   "cell_type": "code",
   "execution_count": null,
   "metadata": {
    "collapsed": true
   },
   "outputs": [],
   "source": [
    "_ = ok.grade('qcompleted')\n",
    "_ = ok.backup()"
   ]
  },
  {
   "cell_type": "code",
   "execution_count": null,
   "metadata": {
    "collapsed": true
   },
   "outputs": [],
   "source": [
    "_ = ok.submit()"
   ]
  },
  {
   "cell_type": "markdown",
   "metadata": {},
   "source": [
    "Now, run this code in your terminal to make a\n",
    "[git commit](https://www.atlassian.com/git/tutorials/saving-changes/git-commit)\n",
    "that saves a snapshot of your changes in `git`. The last line of the cell\n",
    "runs [git push](http://stackoverflow.com/questions/2745076/what-are-the-differences-between-git-commit-and-git-push), which will send your work to your personal Github repo.\n",
    "\n",
    "    # Tell git to commit your changes to this notebook\n",
    "    git add sp17/lab/lab04/lab04.ipynb\n",
    "    \n",
    "    # Tell git to make the commit\n",
    "    git commit -m \"lab04 finished\"\n",
    "    \n",
    "    # Send your updates to your personal private repo\n",
    "    git push origin master"
   ]
  }
 ],
 "metadata": {
  "anaconda-cloud": {},
  "kernelspec": {
   "display_name": "Python [Root]",
   "language": "python",
   "name": "Python [Root]"
  },
  "language_info": {
   "codemirror_mode": {
    "name": "ipython",
    "version": 3
   },
   "file_extension": ".py",
   "mimetype": "text/x-python",
   "name": "python",
   "nbconvert_exporter": "python",
   "pygments_lexer": "ipython3",
   "version": "3.5.2"
  }
 },
 "nbformat": 4,
 "nbformat_minor": 0
}
