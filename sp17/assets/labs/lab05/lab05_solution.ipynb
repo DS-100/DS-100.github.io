{
 "cells": [
  {
   "cell_type": "markdown",
   "metadata": {},
   "source": [
    "## Lab 5: Relational Algebra in Pandas"
   ]
  },
  {
   "cell_type": "code",
   "execution_count": 1,
   "metadata": {
    "collapsed": false
   },
   "outputs": [],
   "source": [
    "# Run this cell to set up the notebook.\n",
    "import numpy as np\n",
    "import pandas as pd\n",
    "import seaborn as sns\n",
    "\n",
    "import matplotlib\n",
    "%matplotlib inline\n",
    "import matplotlib.pyplot as plt\n",
    "\n",
    "from client.api.notebook import Notebook\n",
    "ok = Notebook('lab05.ok')"
   ]
  },
  {
   "cell_type": "markdown",
   "metadata": {},
   "source": [
    "## Boat Club\n",
    "\n",
    "The Berkeley Boat Club wants to better organize their user data, and they've hired you to do it. Your first job is to implement code for relational algebra operators in python (unlike you, they don't know how to use pandas).\n",
    "\n",
    "You may want to refer to [these slides](https://drive.google.com/file/d/0B2k285AK-3KEMGFhU0NXLXhMYTQ/view), to remember what each operation does. You may also want to refer to the [pandas documentation](http://pandas.pydata.org/pandas-docs/stable/).\n",
    "\n",
    "Here are the Boat Club's databases. Your job is to implement a variety of unary and binary relational algebra operators."
   ]
  },
  {
   "cell_type": "code",
   "execution_count": 2,
   "metadata": {
    "collapsed": false
   },
   "outputs": [],
   "source": [
    "young_sailors = pd.DataFrame({\n",
    "        \"sid\":      [2701, 18869, 63940, 21869, 17436],\n",
    "        \"sname\":    [\"Jerry\", \"Morgan\", \"Danny\", \"Jack\", \"Dustin\"],\n",
    "        \"rating\":   [8, 6, 4, 9, 3],\n",
    "        \"age\":      [25, 26, 21, 27, 22],\n",
    "    })\n",
    "salty_sailors = pd.DataFrame({\n",
    "        \"sid\":      [2701, 17436, 45433, 22689, 46535],\n",
    "        \"sname\":    [\"Jerry\", \"Dustin\", \"Balon\", \"Euron\", \"Victarion\"],\n",
    "        \"rating\":   [8, 3, 7, 10, 2],\n",
    "        \"age\":      [25, 22, 39, 35, 37],\n",
    "    })\n",
    "boats = pd.DataFrame({\n",
    "        \"bid\":      [41116, 54505, 50041, 35168, 58324],\n",
    "        \"bname\":    [\"The Black Sparrow\", \"The Great Kraken\", \"The Prophetess\", \"Silence\", \"Iron Victory\"],\n",
    "        \"color\":    [\"Black\", \"Orange\", \"Silver\", \"Red\", \"Grey\"],\n",
    "    })\n",
    "reservations = pd.DataFrame({\n",
    "        \"sid\":      [21869, 45433, 18869, 22689, 21869, 17436, 63940, 45433, 21869, 18869],\n",
    "        \"bid\":      [41116, 35168, 50041, 41116, 58324, 50041, 54505, 41116, 50041, 41116],\n",
    "        \"day\":      [\"3/1\", \"3/1\", \"3/2\", \"3/2\", \"3/2\", \"3/3\", \"3/3\", \"3/3\", \"3/3\", \"3/4\"],\n",
    "    })"
   ]
  },
  {
   "cell_type": "markdown",
   "metadata": {},
   "source": [
    "#### Question 1: Projection\n",
    "Our arguments are a dataframe and a list of columns to select. This should be a simple one :)"
   ]
  },
  {
   "cell_type": "code",
   "execution_count": 3,
   "metadata": {
    "collapsed": true
   },
   "outputs": [],
   "source": [
    "def project(df, columns):\n",
    "    return df[columns] #SOLUTION"
   ]
  },
  {
   "cell_type": "code",
   "execution_count": 4,
   "metadata": {
    "collapsed": false
   },
   "outputs": [],
   "source": [
    "project(salty_sailors, [\"sname\", \"age\"])"
   ]
  },
  {
   "cell_type": "code",
   "execution_count": 5,
   "metadata": {
    "collapsed": false
   },
   "outputs": [],
   "source": [
    "_ = ok.grade('qproject')\n",
    "_ = ok.backup()"
   ]
  },
  {
   "cell_type": "markdown",
   "metadata": {},
   "source": [
    "#### Question 2: Selection\n",
    "For selecton, our arguments are a dataframe and a function which determines which rows we select. For instance,\n",
    "\n",
    "`good_sailors = select(young_sailors, lambda x: x[\"rating\"] > 6)`"
   ]
  },
  {
   "cell_type": "code",
   "execution_count": 6,
   "metadata": {
    "collapsed": false
   },
   "outputs": [],
   "source": [
    "def select(df, condition):\n",
    "    return df[df.apply(condition, axis=1)] #SOLUTION"
   ]
  },
  {
   "cell_type": "code",
   "execution_count": 7,
   "metadata": {
    "collapsed": false
   },
   "outputs": [],
   "source": [
    "select(young_sailors, lambda x: x[\"rating\"] > 6)"
   ]
  },
  {
   "cell_type": "code",
   "execution_count": 8,
   "metadata": {
    "collapsed": false
   },
   "outputs": [],
   "source": [
    "_ = ok.grade('qselect')\n",
    "_ = ok.backup()"
   ]
  },
  {
   "cell_type": "markdown",
   "metadata": {},
   "source": [
    "#### Question 3: Union\n",
    "\n",
    "This is a binary operator, so we pass in two dataframes as our arguments. You can assume that the two dataframes are union compatible - that is, that they have the same number of columns, and their columns have the same types."
   ]
  },
  {
   "cell_type": "code",
   "execution_count": 9,
   "metadata": {
    "collapsed": true
   },
   "outputs": [],
   "source": [
    "def union(df1, df2):\n",
    "    return pd.concat([df1, df2]).drop_duplicates() #SOLUTION"
   ]
  },
  {
   "cell_type": "code",
   "execution_count": 10,
   "metadata": {
    "collapsed": false
   },
   "outputs": [],
   "source": [
    "union(young_sailors, salty_sailors)"
   ]
  },
  {
   "cell_type": "code",
   "execution_count": 11,
   "metadata": {
    "collapsed": false
   },
   "outputs": [],
   "source": [
    "_ = ok.grade('qunion')\n",
    "_ = ok.backup()"
   ]
  },
  {
   "cell_type": "markdown",
   "metadata": {},
   "source": [
    "#### Question 4: Intersection\n",
    "\n",
    "Similar to Union, this is also a binary operator."
   ]
  },
  {
   "cell_type": "code",
   "execution_count": 12,
   "metadata": {
    "collapsed": true
   },
   "outputs": [],
   "source": [
    "def intersection(df1, df2):\n",
    "    return pd.merge(df1, df2) #SOLUTION"
   ]
  },
  {
   "cell_type": "code",
   "execution_count": 13,
   "metadata": {
    "collapsed": false
   },
   "outputs": [],
   "source": [
    "intersection(young_sailors, salty_sailors)"
   ]
  },
  {
   "cell_type": "code",
   "execution_count": 14,
   "metadata": {
    "collapsed": false
   },
   "outputs": [],
   "source": [
    "_ = ok.grade('qintersection')\n",
    "_ = ok.backup()"
   ]
  },
  {
   "cell_type": "markdown",
   "metadata": {},
   "source": [
    "#### Question 5: Set-difference\n",
    "\n",
    "This one is a bit harder. You might just want to convert the rows of the dataframes to tuple, if you're having trouble."
   ]
  },
  {
   "cell_type": "code",
   "execution_count": 15,
   "metadata": {
    "collapsed": false
   },
   "outputs": [],
   "source": [
    "def difference(df1, df2):\n",
    "    return df1.where(df1.apply(lambda x: ~x.isin(df2[x.name]))).dropna()"
   ]
  },
  {
   "cell_type": "code",
   "execution_count": 16,
   "metadata": {
    "collapsed": false
   },
   "outputs": [],
   "source": [
    "difference(young_sailors, salty_sailors)"
   ]
  },
  {
   "cell_type": "code",
   "execution_count": 17,
   "metadata": {
    "collapsed": false
   },
   "outputs": [],
   "source": [
    "_ = ok.grade('qdifference')\n",
    "_ = ok.backup()"
   ]
  },
  {
   "cell_type": "markdown",
   "metadata": {},
   "source": [
    "#### Question 6: Cross-product\n",
    "\n",
    "This one is also tricky, so we've provided some help for you. Think about how the new `key` column could be used..."
   ]
  },
  {
   "cell_type": "code",
   "execution_count": 18,
   "metadata": {
    "collapsed": false
   },
   "outputs": [],
   "source": [
    "def cross_product(df1, df2):\n",
    "    # add a column \"tmp-key\" of zeros to df1 and df2 \n",
    "    df1 = pd.concat([df1, pd.Series(0, index=df1.index, name=\"tmp-key\")], axis=1)\n",
    "    df2 = pd.concat([df2, pd.Series(0, index=df2.index, name=\"tmp-key\")], axis=1)\n",
    "    # use Pandas merge functionality along with drop \n",
    "    # to compute outer product and remove extra column\n",
    "    return (pd\n",
    "            .merge(df1, df2, on=\"tmp-key\")\n",
    "            .drop([\"tmp-key\"], axis=1)) #SOLUTION"
   ]
  },
  {
   "cell_type": "code",
   "execution_count": 19,
   "metadata": {
    "collapsed": false
   },
   "outputs": [],
   "source": [
    "cross_product(young_sailors, salty_sailors)"
   ]
  },
  {
   "cell_type": "code",
   "execution_count": 20,
   "metadata": {
    "collapsed": false
   },
   "outputs": [],
   "source": [
    "_ = ok.grade('qcross_product')\n",
    "_ = ok.backup()"
   ]
  },
  {
   "cell_type": "markdown",
   "metadata": {},
   "source": [
    "#### Question 7: Theta-Join\n",
    "\n",
    "Can you do this by using two other relational operators?"
   ]
  },
  {
   "cell_type": "code",
   "execution_count": 21,
   "metadata": {
    "collapsed": true
   },
   "outputs": [],
   "source": [
    "def theta_join(df1, df2, condition):\n",
    "    return select(cross_product(df1, df2), condition)"
   ]
  },
  {
   "cell_type": "code",
   "execution_count": 22,
   "metadata": {
    "collapsed": false
   },
   "outputs": [],
   "source": [
    "theta_join(young_sailors, salty_sailors, lambda x: x[\"age_x\"] > x[\"age_y\"])"
   ]
  },
  {
   "cell_type": "code",
   "execution_count": 23,
   "metadata": {
    "collapsed": false
   },
   "outputs": [],
   "source": [
    "_ = ok.grade('qtheta_join')\n",
    "_ = ok.backup()"
   ]
  },
  {
   "cell_type": "markdown",
   "metadata": {},
   "source": [
    "#### Question 8: Natural Join\n",
    "\n",
    "Similar to above, try to implement this using two relational operators."
   ]
  },
  {
   "cell_type": "code",
   "execution_count": 24,
   "metadata": {
    "collapsed": true
   },
   "outputs": [],
   "source": [
    "def natural_join(df1, df2, attr):\n",
    "    return select(cross_product(df1, df2), lambda x: x[attr+\"_x\"] == x[attr+\"_y\"])"
   ]
  },
  {
   "cell_type": "code",
   "execution_count": 25,
   "metadata": {
    "collapsed": false
   },
   "outputs": [],
   "source": [
    "all_sailors = union(young_sailors, salty_sailors)\n",
    "sailor_reservtions = natural_join(all_sailors, reservations, \"sid\")\n",
    "sailors_and_boats = natural_join(sailor_reservtions, boats, \"bid\")\n",
    "project(sailors_and_boats, [\"sname\", \"bname\", \"day\"])"
   ]
  },
  {
   "cell_type": "code",
   "execution_count": 26,
   "metadata": {
    "collapsed": false
   },
   "outputs": [],
   "source": [
    "_ = ok.grade('qnatural_join')\n",
    "_ = ok.backup()"
   ]
  },
  {
   "cell_type": "markdown",
   "metadata": {},
   "source": [
    "# Submitting your assignment\n",
    "If you made a good-faith effort to complete the lab, change `i_finished_the_lab` to `True` in the cell below.  In any case, run the cells below to submit the lab."
   ]
  },
  {
   "cell_type": "code",
   "execution_count": null,
   "metadata": {
    "collapsed": true
   },
   "outputs": [],
   "source": [
    "i_finished_the_lab = False"
   ]
  },
  {
   "cell_type": "code",
   "execution_count": null,
   "metadata": {
    "collapsed": false
   },
   "outputs": [],
   "source": [
    "_ = ok.grade('qcompleted')\n",
    "_ = ok.backup()"
   ]
  },
  {
   "cell_type": "code",
   "execution_count": null,
   "metadata": {
    "collapsed": false
   },
   "outputs": [],
   "source": [
    "_ = ok.submit()"
   ]
  },
  {
   "cell_type": "markdown",
   "metadata": {},
   "source": [
    "Now, run this code in your terminal to make a\n",
    "[git commit](https://www.atlassian.com/git/tutorials/saving-changes/git-commit)\n",
    "that saves a snapshot of your changes in `git`. The last line of the cell\n",
    "runs [git push](http://stackoverflow.com/questions/2745076/what-are-the-differences-between-git-commit-and-git-push), which will send your work to your personal Github repo.\n",
    "\n",
    "    # Tell git to commit your changes to this notebook\n",
    "    git add sp17/lab/lab04/lab04.ipynb\n",
    "    \n",
    "    # Tell git to make the commit\n",
    "    git commit -m \"lab04 finished\"\n",
    "    \n",
    "    # Send your updates to your personal private repo\n",
    "    git push origin master"
   ]
  },
  {
   "cell_type": "code",
   "execution_count": null,
   "metadata": {
    "collapsed": true
   },
   "outputs": [],
   "source": []
  }
 ],
 "metadata": {
  "kernelspec": {
   "display_name": "Python 3",
   "language": "python",
   "name": "python3"
  },
  "language_info": {
   "codemirror_mode": {
    "name": "ipython",
    "version": 3
   },
   "file_extension": ".py",
   "mimetype": "text/x-python",
   "name": "python",
   "nbconvert_exporter": "python",
   "pygments_lexer": "ipython3",
   "version": "3.5.2"
  }
 },
 "nbformat": 4,
 "nbformat_minor": 1
}
