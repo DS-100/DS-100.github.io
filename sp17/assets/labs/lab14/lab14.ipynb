{
 "cells": [
  {
   "cell_type": "markdown",
   "metadata": {},
   "source": [
    "## Lab 14"
   ]
  },
  {
   "cell_type": "code",
   "execution_count": null,
   "metadata": {
    "collapsed": false
   },
   "outputs": [],
   "source": [
    "!pip install -U tensorflow\n",
    "\n",
    "import numpy as np\n",
    "import pandas as pd\n",
    "%matplotlib inline\n",
    "import matplotlib.pyplot as plt\n",
    "import seaborn as sns\n",
    "import tensorflow as tf\n",
    "import math\n",
    "\n",
    "from mnist_viz import *\n",
    "\n",
    "!pip install -U okpy\n",
    "from client.api.notebook import Notebook\n",
    "ok = Notebook('lab14.ok')"
   ]
  },
  {
   "cell_type": "markdown",
   "metadata": {},
   "source": [
    "Today's lab is a reprise of TensorFlow and a brief foray into a more advanced topic in machine learning: deep neural networks.\n",
    "\n",
    "To keep things simple, the dataset and problem are the MNIST dataset we used in lab 12.  (This was a standard dataset for testing classifiers until just a few years ago; today it is considered too small and easy.)  Our inputs are grayscale images of handwritten numerical digits.  Our task is to determine the digit the writer intended to write.\n",
    "\n",
    "Run the next cell to download the dataset again."
   ]
  },
  {
   "cell_type": "code",
   "execution_count": null,
   "metadata": {
    "collapsed": false
   },
   "outputs": [],
   "source": [
    "from tensorflow.examples.tutorials.mnist import input_data\n",
    "mnist = input_data.read_data_sets(\"MNIST_data/\", one_hot=True)\n",
    "print(\"Training set shape: {}\\nValidation set shape: {}\\nTest set shape: {}\"\n",
    "      .format(mnist.train.images.shape, mnist.validation.images.shape, mnist.test.images.shape))\n",
    "image_size = 28\n",
    "num_features = image_size**2\n",
    "num_labels = mnist.train.labels.shape[1]"
   ]
  },
  {
   "cell_type": "markdown",
   "metadata": {},
   "source": [
    "Run the next cell to display some of the digit images."
   ]
  },
  {
   "cell_type": "code",
   "execution_count": null,
   "metadata": {
    "collapsed": false
   },
   "outputs": [],
   "source": [
    "# Indices of some example images from the training set:\n",
    "examples_to_show = np.array([0,  5100, 10200, 15300, 20400, 25500, 30600, 35700, 40800, 45900])\n",
    "\n",
    "show_flat_images(mnist.train.images[examples_to_show], ncols=5,\n",
    "                 title=\"Some examples from the training set\",\n",
    "                 image_titles=examples_to_show)\n",
    "\n",
    "print(\"Labels for printed examples:\\n{}\".format(mnist.train.labels[examples_to_show]))"
   ]
  },
  {
   "cell_type": "markdown",
   "metadata": {},
   "source": [
    "Now we can define a pipeline to classify these images.\n",
    "\n",
    "Recall that TensorFlow allows us to think of models as pipelines of variables, or *tensors*.  (A 0D tensor is a number; a 1D tensor is an array; and a 2D tensor is a matrix.)  The workflow for creating a model is:\n",
    "\n",
    "1. We first define *placeholder* variables for the inputs to training a model.\n",
    "2. We define *parameter* variables for the parameters of our model, which we would like to learn.\n",
    "3. We apply operations (like multiplication) to the inputs and parameters to compute the output of our pipeline.\n",
    "4. We apply operations to the output and the true output to define a *loss*.\n",
    "5. We define an operator to perform gradient descent.  When run, it will attempt to choose parameters to minimize the given loss.\n",
    "6. We create a *session* object and use it to run the gradient descent operator.\n",
    "\n",
    "After training a model in this way, we can use the same session object to:\n",
    "1. Retrieve the values of parameters.\n",
    "2. Apply our model pipeline to compute its output on new inputs.  (We can also compute the values of any intermediate variables we defined.)"
   ]
  },
  {
   "cell_type": "markdown",
   "metadata": {},
   "source": [
    "### Question 1\n",
    "Fill in the unfinished parts of the cell below to define a pipeline for training logistic regression."
   ]
  },
  {
   "cell_type": "code",
   "execution_count": null,
   "metadata": {
    "collapsed": false,
    "for_assignment_type": "student"
   },
   "outputs": [],
   "source": [
    "# Variables for our images and labels:\n",
    "x = tf.placeholder(tf.float32, [None, num_features])\n",
    "y_ = tf.placeholder(tf.float32, [None, ...])\n",
    "\n",
    "# Variables for parameters:\n",
    "theta = tf.Variable(tf.zeros([..., num_labels]))\n",
    "b = tf.Variable(tf.zeros([num_labels]))\n",
    "\n",
    "# Variable for the output of our classifier (not a hard\n",
    "# classification, but a number between 0 and 1, the result\n",
    "# of the softmax function):\n",
    "y = tf.nn.softmax(tf.matmul(..., ...) + ...)\n",
    "\n",
    "# Define the regularization penalty.  We didn't do this\n",
    "# last time, but it's important.\n",
    "alpha = 4e-4\n",
    "l2_regularizer = tf.contrib.layers.l2_regularizer(scale=alpha, scope=None)\n",
    "regularization_penalty = tf.contrib.layers.apply_regularization(l2_regularizer, [theta])\n",
    "\n",
    "# Variable for the loss suffered for each training example.\n",
    "# This is the cross-entropy loss, which is the negative log\n",
    "# likelihood our model assigns to the true labels, if we\n",
    "# think of the output of the softmax function as a\n",
    "# probability.\n",
    "loss = tf.reduce_mean(-tf.reduce_sum(y_ * tf.log(y), reduction_indices=[1]))\\\n",
    "       + regularization_penalty\n",
    "\n",
    "# Operator to perform a step of gradient descent on our loss:\n",
    "step_size = 1.0\n",
    "train_step = tf.train.GradientDescentOptimizer(step_size).minimize(...)"
   ]
  },
  {
   "cell_type": "markdown",
   "metadata": {},
   "source": [
    "Run the next cell to run several steps of gradient descent (actually, batch stochastic gradient descent) on the training set."
   ]
  },
  {
   "cell_type": "code",
   "execution_count": null,
   "metadata": {
    "collapsed": false
   },
   "outputs": [],
   "source": [
    "def create_session_and_optimize(train_step, num_iterations=2000, batch_size=100):\n",
    "    sess = tf.InteractiveSession()\n",
    "    tf.global_variables_initializer().run()\n",
    "\n",
    "    for _ in range(num_iterations):\n",
    "        batch_xs, batch_ys = mnist.train.next_batch(batch_size)\n",
    "        sess.run(train_step, feed_dict={x: batch_xs, y_: batch_ys})\n",
    "    \n",
    "    return sess\n",
    "\n",
    "sess = create_session_and_optimize(train_step)"
   ]
  },
  {
   "cell_type": "markdown",
   "metadata": {},
   "source": [
    "Now run the next cell to apply your model to the validation images."
   ]
  },
  {
   "cell_type": "code",
   "execution_count": null,
   "metadata": {
    "collapsed": false
   },
   "outputs": [],
   "source": [
    "model_classifications = tf.argmax(y,1)\n",
    "true_classes = tf.argmax(y_,1)\n",
    "correct_prediction = tf.equal(model_classifications, true_classes)\n",
    "accuracy = tf.reduce_mean(tf.cast(correct_prediction, tf.float32))\n",
    "print(\"Accuracy on the validation set:\")\n",
    "print(sess.run(accuracy, feed_dict={x: mnist.validation.images, y_: mnist.validation.labels}))\n",
    "print(\"Model classifications and true classes:\")\n",
    "print(sess.run([model_classifications, true_classes], feed_dict={x: mnist.validation.images, y_: mnist.validation.labels}))"
   ]
  },
  {
   "cell_type": "markdown",
   "metadata": {},
   "source": [
    "To compute the outputs of a model, we pass the output variable(s) as arguments to the method `sess.run`.  The cell above does this twice, so check that for the syntax.  The code cell before that did it thousands of times, and each run of `train_step` in that cell had the side effect of updating `theta` and `x`.  (The state of each variable is held in `sess`.)"
   ]
  },
  {
   "cell_type": "markdown",
   "metadata": {},
   "source": [
    "## Examining the classifier\n",
    "### Question 2\n",
    "Use `sess.run` to find the values of `theta` and `b`.\n",
    "\n",
    "***Note:*** Since `theta` and `b` are standalone variables that don't depend on the model's inputs, you don't need to use the argument `feed_dict` here.\n",
    "\n",
    "***Note 2:*** You will probably find that all the printed values of `theta_2` (corresponding to the edges of an image) are 0.  Don't worry, that's correct."
   ]
  },
  {
   "cell_type": "code",
   "execution_count": null,
   "metadata": {
    "collapsed": false
   },
   "outputs": [],
   "source": [
    "theta_2 = ...\n",
    "b_2 = ...\n",
    "theta_2, b_2"
   ]
  },
  {
   "cell_type": "markdown",
   "metadata": {},
   "source": [
    "### Question 3\n",
    "`theta_2` is now a 2D NumPy array that contains one column of our model's parameters for each of the 10 digit types.  Each column has length 784 - one for each pixel.  So we could, if we wanted to, display it as though it were an image.  Use `show_flat_images` to do that for each of the 10 columns.\n",
    "\n",
    "`show_flat_images` (defined in [`mnist_viz.py`](mnist_viz.py)) has the following signature:\n",
    "\n",
    "    def show_flat_images(images, ncols=2, image_titles=None, **kwargs):\n",
    "        \"\"\"\n",
    "        Shows one or more images, represented as flat length-784 arrays.\n",
    "\n",
    "        images: Image, list of images, or array of images.  Each image\n",
    "          is a 1D array of length 784.  The images can also be (title,\n",
    "          array) pairs, where the title is any string you want to\n",
    "          display as the image's title.\n",
    "        \"\"\"\n",
    "\n",
    "*Hint:* You may need to use the array method `transpose`.\n",
    "\n",
    "***Important:*** Unlike an image, `theta_2` can have negative values.  `show_flat_images` will display negative values in **red** and positive values in **black**."
   ]
  },
  {
   "cell_type": "code",
   "execution_count": null,
   "metadata": {
    "collapsed": false
   },
   "outputs": [],
   "source": [
    "..."
   ]
  },
  {
   "cell_type": "markdown",
   "metadata": {},
   "source": [
    "You should find that the black and grey parts of the first image look a little bit like a 0 and the second a little bit like a 1!  The resemblance is far from perfect, especially for other numbers; we'll worry about that next.\n",
    "\n",
    "Why should there be a resemblance at all?\n",
    "\n",
    "When we compute the classification of an example $X$, we first compute $X \\theta$.  (Of course, we then add an element of $b$ and take the softmax, but this is really the important part.) \n",
    "\n",
    "That means each column of $\\theta$ is dot-producted with the image data.  Each element of the column lines up with one feature, which is one *pixel*.\n",
    "\n",
    "![Dot product](dot_product.png)\n",
    "\n",
    "This produces 10 scores, one for each of the 10 digit types.  A higher score (a higher dot product) implies that the image is more like that digit type.\n",
    "\n",
    "In image and signal processing, it is common to call each column of $\\theta$ a *filter*.  A filter is a 784-long array of numbers, each lined up with one element of $X$, which is one pixel.\n",
    "\n",
    "If you were designing a filter for the number 7, you would want your filter to have a high dot product with images that are 7s, and a low dot product with other images (so that other images aren't misclassified as 7s).  That means you'd want it to have big positive values where pixels are often black in pictures of 7s, and small or negative values elsewhere.\n",
    "\n",
    "Our gradient descent optimization found the best possible filters for our training set.  But we can still use this idea to build a dramatically better classifier."
   ]
  },
  {
   "cell_type": "markdown",
   "metadata": {},
   "source": [
    "Run the cell below to visualize how some of your classifications went wrong.  In each row:\n",
    "\n",
    "1. The left image is the actual image.\n",
    "2. The second image is the filter that (incorrectly) matched the image best.\n",
    "3. The third image is the elementwise product of that filter and the image.  The dot product of the filter and the image is the sum of that elementwise product.  So this tells us *how* the filter went wrong.\n",
    "4. The fourth image is the filter for the image's true label.\n",
    "5. The fifth image is the elementwise product of that filter and the image."
   ]
  },
  {
   "cell_type": "code",
   "execution_count": null,
   "metadata": {
    "collapsed": false
   },
   "outputs": [],
   "source": [
    "display_mistakes(mnist, sess, x, y_, theta, model_classifications, true_classes, correct_prediction)"
   ]
  },
  {
   "cell_type": "markdown",
   "metadata": {},
   "source": [
    "A big problem with the linear classifier is that it only allows a single filter for each number.  That means the single filter for 7 has to match a 7 at the left or right side of the image, for example.  And it also has to match a 7 that's very skinny or a 7 that's tilted to the right a bit.  The result is that the filters match some common features of each number, but they look generally fuzzy.\n",
    "\n",
    "Suppose we could allow 2 filters for each number.  We could say that if an image matches either of the 2 filters for a number, then it is probably that number.  Having 2 filters would let us design filters that target different representations of the number, producing less \"mushy\" filters that matches.  For example, one filter could be a 7 in the center of the image, and one could be a 7 shifted toward the left.\n",
    "\n",
    "Mathematically, we can implement that \"match either filter\" logic by computing the scores for each number for both filters and then taking the *maximum* of the two scores."
   ]
  },
  {
   "cell_type": "markdown",
   "metadata": {},
   "source": [
    "### Question 4\n",
    "Fill in the next cell to complete a prediction pipeline that uses this idea.  (There are three \"`...`\"s to fill in.)"
   ]
  },
  {
   "cell_type": "code",
   "execution_count": null,
   "metadata": {
    "collapsed": true
   },
   "outputs": [],
   "source": [
    "def create_model_4(alpha=1e-6, num_filters_per_label=2, step_size=1.0):\n",
    "    # Variables for parameters:\n",
    "    filters = tf.Variable(tf.random_normal([num_features, num_labels, num_filters_per_label], stddev=0.4))\n",
    "    b = tf.Variable(tf.zeros([num_labels, num_filters_per_label]))\n",
    "\n",
    "    # This time the classifier has several intermediate steps.\n",
    "    filters_out = tf.matmul(x, tf.reshape(filters, [-1, num_labels*num_filters_per_label]))\n",
    "    # The score for each class, a matrix with dimensions [N, 10].\n",
    "    combined_score = tf.reduce_max(tf.reshape(filters_out, [-1, num_labels, num_filters_per_label]) + b, reduction_indices=[2])\n",
    "    # The output of the classifier, a matrix with dimensions [N, 10].\n",
    "    # The result of applying the softmax function to the score for\n",
    "    # each class.\n",
    "    y = ...\n",
    "\n",
    "    # The regularization penalty.  We regularize all the filters,\n",
    "    # but not the bias term b.\n",
    "    l2_regularizer = tf.contrib.layers.l2_regularizer(scale=alpha, scope=None)\n",
    "    regularization_penalty = tf.contrib.layers.apply_regularization(l2_regularizer, [filters])\n",
    "\n",
    "    # The same cross-entropy loss as in our first model.  Be sure to\n",
    "    # include the regularization penalty.  Check the code for the\n",
    "    # first model, but think about whether there should be any\n",
    "    # differences.\n",
    "    loss = ...\n",
    "\n",
    "    # Operator to perform a step of gradient descent on our loss.\n",
    "    # Be sure to use the variable step_size passed as an argument\n",
    "    # to this function.\n",
    "    train_step = ...\n",
    "    \n",
    "    return (filters, y, train_step)"
   ]
  },
  {
   "cell_type": "markdown",
   "metadata": {},
   "source": [
    "Run the next cell to train this new model.\n",
    "\n",
    "***Note:*** Finding the best *linear* classifier with logistic regression is easy, but training this new model is not.  We need many more iterations of stochastic gradient descent to produce the best model.  If this takes too long on your computer, please set `num_iterations` to a smaller number.  The interpretability of the resulting filters may suffer."
   ]
  },
  {
   "cell_type": "code",
   "execution_count": null,
   "metadata": {
    "collapsed": false
   },
   "outputs": [],
   "source": [
    "filters_4, output_4, train_step_4 = create_model_4(alpha=4e-4, step_size=2)\n",
    "sess_4 = train_and_display(mnist, x, y_, filters_4, output_4, train_step_4, num_iterations=20000)"
   ]
  },
  {
   "cell_type": "markdown",
   "metadata": {},
   "source": [
    "## Another way to look at errors: Confusion matrices\n",
    "You should find that the new pipeline has a moderately better error rate (somewhere between 92.5 and 95.5% correct).  This is still a high error rate for MNIST.  \"Deep\" neural networks with many more filters and several \"layers\" can achieve accuracy above 99%.\n",
    "\n",
    "Another useful tool for examining the remaining errors is a *confusion matrix*.  This is just a way to visualize the answers to the following questions:\n",
    "\n",
    "> \"Among all the 0s, what proportion did we *classify* as 0s, 1s, 2s, and so on?  How about the other numbers?\"\n",
    "\n",
    "Traditionally, we arrange the results in a grid and shade the grid according to the proportions."
   ]
  },
  {
   "cell_type": "markdown",
   "metadata": {},
   "source": [
    "### Question 5\n",
    "Complete the function `compute_confusion_matrix` in the cell below.  Then run the next cell to see the confusion matrix for the new prediction pipeline."
   ]
  },
  {
   "cell_type": "code",
   "execution_count": null,
   "metadata": {
    "collapsed": true
   },
   "outputs": [],
   "source": [
    "def compute_confusion_matrix(classifications, true_classes, num_classes):\n",
    "    \"\"\"Compute the confusion matrix for a given list of classifications\n",
    "    that were computed by a classifier on some dataset.\n",
    "    \n",
    "    A confusion matrix tells us how often the classifier \"confused\" each\n",
    "    class for each other class.  So it contains one number for each\n",
    "    ordered pair of classes.  If the documentation in this function isn't\n",
    "    clear enough, see here for a tutorial on confusion matrices:\n",
    "    \n",
    "      http://scikit-learn.org/stable/auto_examples/model_selection/plot_confusion_matrix.html\n",
    "    \n",
    "    Args:\n",
    "      classifications (ndarray): A 1D array of integers, each between\n",
    "        0 and num_classes-1.  These are the classifications produced by a\n",
    "        model on some dataset.  Element i is the classification for example\n",
    "        i in the dataset.\n",
    "      true_classes (ndarray): A 1D array of integers, each between\n",
    "        0 and num_classes-1.  These are the true classes of the examples in\n",
    "        some dataset.  Element i is the true class for example i in the\n",
    "        dataset.\n",
    "      num_classes (int): The number of classes.  Each class is a number\n",
    "        between 0 and num_classes-1.\n",
    "    \n",
    "    Returns:\n",
    "      (ndarray): A 2-dimensional array of numbers.  Element [i,j] is the\n",
    "        proportion of examples in the dataset that had true class i and\n",
    "        were assigned class j by the classifier.\"\"\"\n",
    "    # This is just a recommended skeleton; you can delete it.\n",
    "    ...\n",
    "    counts = ...\n",
    "    ..."
   ]
  },
  {
   "cell_type": "code",
   "execution_count": null,
   "metadata": {
    "collapsed": false
   },
   "outputs": [],
   "source": [
    "# Run this cell after you've written compute_confusion_matrix.\n",
    "# You may find that there are so few errors that it's hard to\n",
    "# see them.\n",
    "display_confusion_matrix(compute_confusion_matrix, mnist, sess_4, x, y_, output_4, num_labels)"
   ]
  },
  {
   "cell_type": "markdown",
   "metadata": {},
   "source": [
    "### Question 6\n",
    "Based on the confusion matrix, what was the most common confusion?"
   ]
  },
  {
   "cell_type": "code",
   "execution_count": null,
   "metadata": {
    "collapsed": true
   },
   "outputs": [],
   "source": [
    "this_was_the_true_class = ...\n",
    "but_this_was_the_classification = ..."
   ]
  },
  {
   "cell_type": "markdown",
   "metadata": {},
   "source": [
    "# Submitting your assignment\n",
    "If you made a good-faith effort to complete the lab, change `i_finished_the_lab` to `True` in the cell below.  In any case, run the cells below to submit the lab."
   ]
  },
  {
   "cell_type": "code",
   "execution_count": null,
   "metadata": {
    "collapsed": true,
    "for_assignment_type": "student"
   },
   "outputs": [],
   "source": [
    "i_finished_the_lab = False"
   ]
  },
  {
   "cell_type": "code",
   "execution_count": null,
   "metadata": {
    "collapsed": false
   },
   "outputs": [],
   "source": [
    "_ = ok.grade('qcompleted')\n",
    "_ = ok.backup()"
   ]
  },
  {
   "cell_type": "code",
   "execution_count": null,
   "metadata": {
    "collapsed": false
   },
   "outputs": [],
   "source": [
    "_ = ok.submit()"
   ]
  },
  {
   "cell_type": "markdown",
   "metadata": {
    "collapsed": false
   },
   "source": [
    "Now, run this code in your terminal to make a\n",
    "[git commit](https://www.atlassian.com/git/tutorials/saving-changes/git-commit)\n",
    "that saves a snapshot of your changes in `git`. The last line of the cell\n",
    "runs [git push](http://stackoverflow.com/questions/2745076/what-are-the-differences-between-git-commit-and-git-push), which will send your work to your personal Github repo.\n",
    "\n",
    "    # Tell git to commit your changes to this notebook\n",
    "    git add -A\n",
    "    \n",
    "    # Tell git to make the commit\n",
    "    git commit -m \"lab14 finished\"\n",
    "    \n",
    "    # Send your updates to your personal private repo\n",
    "    git push origin master"
   ]
  }
 ],
 "metadata": {
  "anaconda-cloud": {},
  "kernelspec": {
   "display_name": "Python 3",
   "language": "python",
   "name": "python3"
  },
  "language_info": {
   "codemirror_mode": {
    "name": "ipython",
    "version": 3
   },
   "file_extension": ".py",
   "mimetype": "text/x-python",
   "name": "python",
   "nbconvert_exporter": "python",
   "pygments_lexer": "ipython3",
   "version": "3.4.5"
  }
 },
 "nbformat": 4,
 "nbformat_minor": 0
}

