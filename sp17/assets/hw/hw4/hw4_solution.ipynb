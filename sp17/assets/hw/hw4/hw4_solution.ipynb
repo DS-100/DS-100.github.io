{
 "cells": [
  {
   "cell_type": "markdown",
   "metadata": {},
   "source": [
    "# Homework 4: SQL, FEC Data, and Small Donors\n",
    "\n",
    "## Due: 11:59pm Tuesday, March 14\n",
    "\n",
    "***Note:*** The due date has changed from March 7 to March 14.  Happy studying!\n",
    "\n",
    "In this homework, we're going to explore the Federal Election\n",
    "Commission's data on the money exchanged during the 2016 election.\n",
    "\n",
    "This homework has two main parts:\n",
    "\n",
    "1. Answering questions and computing descriptive statistics on the data\n",
    "2. Conducting a hypothesis test\n",
    "\n",
    "This is very similar to what you've done before in this class. However, in this\n",
    "homework almost all of our computations will be done using SQL."
   ]
  },
  {
   "cell_type": "markdown",
   "metadata": {},
   "source": [
    "## Getting Started\n",
    "\n",
    "For this assignment, you're going to use a popular cloud services provider: Heroku. This will give you some experience provisioning a database in the cloud and working on that database from your computer.\n",
    "\n",
    "Since the free tier of Heroku's Postgres service limits users to 10,000 rows of data, we've provided a subset of the FEC dataset for you to work with.\n",
    "\n",
    "If you're interested, you can download and load the entire dataset from\n",
    "http://www.fec.gov/finance/disclosure/ftpdet.shtml.  It is about 4GB and contains around 24 million rows. (With Heroku and other cloud services, it is relatively straightforward to rent clusters of machines to work on much larger datasets.  In particular, it would be easy to rerun your analyses in this assignment on the full dataset.)"
   ]
  },
  {
   "cell_type": "markdown",
   "metadata": {},
   "source": [
    "### Provisioning the Postgres DB\n",
    "\n",
    "1. Visit https://signup.heroku.com/postgres-home-button and sign up for an account\n",
    "if you don't have one already.\n",
    "2. Now, install the Heroku CLI: https://devcenter.heroku.com/articles/heroku-cli.\n",
    "Then, run `heroku login` to log into Heroku from your CLI.\n",
    "3. Now, visit https://dashboard.heroku.com/apps and click **New -> App**. Name the app\n",
    "whatever you want.\n",
    "4. You should be sent to the app details page. Click **Resources** in the navbar, then\n",
    "in the **Add-on** search bar, type \"Postgres\". You should be able to select **Heroku\n",
    "Postgres**. Make sure the free tier (**Hobby Dev**) is selected and click **Provision**. Now\n",
    "you should see **Heroku Postgres :: Database** in your **Add-ons** list."
   ]
  },
  {
   "cell_type": "markdown",
   "metadata": {},
   "source": [
    "### Loading the data into the Heroku DB\n",
    "\n",
    "(1) Run the lines below in your terminal to install necessary libraries.\n",
    "\n",
    "    conda install -y psycopg2\n",
    "    conda install -y postgresql\n",
    "    pip install ipython-sql"
   ]
  },
  {
   "cell_type": "markdown",
   "metadata": {},
   "source": [
    "(2) Click the **Heroku Postgres :: Database** link in your app's **Add-ons** list.\n",
    "\n",
    "(3) In the **Heroku Data** page you got redirected to, you should see the name of your\n",
    "database. Scroll down to **Administration** and click **View Credentials**. These are the\n",
    "credentials that allow you to connect to the database. The last entry of the list\n",
    "contains a line that looks like:\n",
    "\n",
    "        heroku pg:psql db_name --app app_name\n",
    "\n",
    " In your terminal, take that command and add \"`< fec.sql`\" to the end\n",
    " to get something like:\n",
    "\n",
    "        heroku pg:psql db_name --app app_name < fec.sql\n",
    "        \n",
    " Run that command. It will run the commands in `fec.sql`, which load the dataset into the database.\n",
    " Now you should be able to run the command without the \"`< fec.sql`\" to\n",
    " have a postgres prompt. Try typing \"`\\d+`\" at the prompt. You should get\n",
    " something like:\n",
    "     \n",
    "        ds100-hw4-db::DATABASE=> \\d+\n",
    "                                     List of relations\n",
    "         Schema |     Name     | Type  |     Owner      |    Size    | Description\n",
    "        --------+--------------+-------+----------------+------------+-------------\n",
    "         public | cand         | table | vibrgrsqevmzkj | 16 kB      |\n",
    "         public | comm         | table | vibrgrsqevmzkj | 168 kB     |\n",
    "         public | indiv        | table | vibrgrsqevmzkj | 904 kB     |\n",
    "         public | indiv_sample | table | vibrgrsqevmzkj | 600 kB     |\n",
    "         public | inter_comm   | table | vibrgrsqevmzkj | 296 kB     |\n",
    "         public | link         | table | vibrgrsqevmzkj | 8192 bytes |\n",
    "        (6 rows)\n",
    "        \n",
    "Congrats! You now have a Postgres database running containing the data you need\n",
    "for this project."
   ]
  },
  {
   "cell_type": "markdown",
   "metadata": {},
   "source": [
    "# Part 1: Descriptive Statistics"
   ]
  },
  {
   "cell_type": "code",
   "execution_count": null,
   "metadata": {
    "collapsed": false
   },
   "outputs": [],
   "source": [
    "import numpy as np\n",
    "import pandas as pd\n",
    "%matplotlib inline\n",
    "import matplotlib.pyplot as plt\n",
    "import seaborn as sns\n",
    "import sqlalchemy\n",
    "\n",
    "!pip install -U okpy\n",
    "from client.api.notebook import Notebook\n",
    "ok = Notebook('hw4.ok')"
   ]
  },
  {
   "cell_type": "markdown",
   "metadata": {},
   "source": [
    "Now, let's connect to your Postgres database. On your Heroku Postgres details,\n",
    "look at the credentials for the database. Take the long URI in the credentials and\n",
    "replace the portion of the code that reads `<replace_me>` with the URI.\n",
    "\n",
    "It should start with `postgres://`."
   ]
  },
  {
   "cell_type": "code",
   "execution_count": null,
   "metadata": {
    "collapsed": false,
    "for_assignment_type": "solution",
    "scrolled": true
   },
   "outputs": [],
   "source": [
    "my_URI = \"postgres://sam:@localhost:5432/fec\"\n",
    "%load_ext sql\n",
    "%sql $my_URI\n",
    "engine = sqlalchemy.create_engine(my_URI)\n",
    "connection = engine.connect()"
   ]
  },
  {
   "cell_type": "markdown",
   "metadata": {},
   "source": [
    "## Table Descriptions\n",
    "\n",
    "Here is a list of the tables in the database.  Each table links to the documentation on the [FEC page](http://www.fec.gov/finance/disclosure/ftpdet.shtml) for the dataset.\n",
    "\n",
    "Note that the table names here are slightly different from the ones in lecture. Consult the FEC page\n",
    "for the descriptions of the tables to find out what the correspondence is.\n",
    "\n",
    "- [`cand`](http://www.fec.gov/finance/disclosure/metadata/DataDictionaryCandidateMaster.shtml): Candidates table. Contains names and party affiliation.\n",
    "- [`comm`](http://www.fec.gov/finance/disclosure/metadata/DataDictionaryCommitteeMaster.shtml): Committees table. Contains committee names and types.\n",
    "- [`link`](http://www.fec.gov/finance/disclosure/metadata/DataDictionaryCandCmteLinkage.shtml): Committee to candidate links.\n",
    "- [`indiv`](http://www.fec.gov/finance/disclosure/metadata/DataDictionaryContributionsbyIndividuals.shtml): Individual contributions. Contains recipient committee ID and transaction amount.\n",
    "- [`inter_comm`](http://www.fec.gov/finance/disclosure/metadata/DataDictionaryContributionstoCandidates.shtml): Committee-to-candidate and committee-to-committee contributions. Contains donor and recipient IDs and transaction amount.\n",
    "- [`indiv_sample`](http://www.fec.gov/finance/disclosure/metadata/DataDictionaryContributionsbyIndividuals.shtml): Sample of individual contributions to Hillary Clinton and Bernie Sanders. Used in Part 2 only."
   ]
  },
  {
   "cell_type": "markdown",
   "metadata": {},
   "source": [
    "## Writing SQL queries\n",
    "\n",
    "You can write SQL directly in the notebook by using the `%sql` magic, as demonstrated in the next cell.\n",
    "\n",
    "Be careful when doing this.\n",
    "If you try to run a SQL query that returns a lot of rows (100k or more is a good rule of thumb)\n",
    "your browser will probably crash.\n",
    "\n",
    "This is why in this homework, we will strongly prefer using SQL as much as\n",
    "possible, only materializing the SQL queries when they are small.\n",
    "\n",
    "**Because of this, your queries should work even as the size of your\n",
    "data goes into the terabyte range! This is the primary advantage of working\n",
    "with SQL as opposed to only dataframes.**"
   ]
  },
  {
   "cell_type": "code",
   "execution_count": null,
   "metadata": {
    "collapsed": false
   },
   "outputs": [],
   "source": [
    "# We use `LIMIT 5` to avoid displaying a huge table.\n",
    "# Although our tables shouldn't get too large to display,\n",
    "# this is generally good practice when working in the\n",
    "# notebook environment.  Jupyter notebooks don't handle\n",
    "# very large outputs well.\n",
    "%sql SELECT * from cand LIMIT 5"
   ]
  },
  {
   "cell_type": "markdown",
   "metadata": {},
   "source": [
    "For longer queries, you can save your query into a string, then use it in the\n",
    "`%sql` statement. The `$query` in the `%sql` statement pulls in the value in\n",
    "the Python variable `query`."
   ]
  },
  {
   "cell_type": "code",
   "execution_count": null,
   "metadata": {
    "collapsed": false
   },
   "outputs": [],
   "source": [
    "query = '''\n",
    "SELECT cand_id, cand_name\n",
    "FROM cand\n",
    "WHERE cand_pty_affiliation = 'REP'\n",
    "LIMIT 5\n",
    "'''\n",
    "\n",
    "%sql $query"
   ]
  },
  {
   "cell_type": "markdown",
   "metadata": {},
   "source": [
    "In addition, you can assign the SQL statement to a variable and then call `.DataFrame()` on it to get a Pandas DataFrame.  \n",
    "\n",
    "However, it will often be more efficient to express your computation directly in SQL.  For this homework, we will be grading your SQL expressions so be sure to do all computation in SQL (unless otherwise requested)."
   ]
  },
  {
   "cell_type": "code",
   "execution_count": null,
   "metadata": {
    "collapsed": false
   },
   "outputs": [],
   "source": [
    "res = %sql select * from cand limit 5\n",
    "res_df = res.DataFrame()\n",
    "res_df['cand_id']"
   ]
  },
  {
   "cell_type": "markdown",
   "metadata": {},
   "source": [
    "### Question 1a\n",
    "\n",
    "We are interested in finding the PACs that donated large sums to the candidates. To begin to answer this question, we will look at the `inter_comm` table. We'll find all the transactions that exceed \\$5,000. However, if there are a lot of transactions like that, it might not be useful to list them all.  So before actually finding the transactions, find out how many such transactions there are. Use only SQL to compute the answer.\n",
    "\n",
    "(It should be a table with a single column called **`count`** and a single entry, the number of transactions.)  \n",
    "\n",
    "We will be grading the query string `query_q1a`.  You may modify our template but the result should contain the same information with the same names."
   ]
  },
  {
   "cell_type": "code",
   "execution_count": null,
   "metadata": {
    "collapsed": false,
    "for_assignment_type": "solution"
   },
   "outputs": [],
   "source": [
    "# SOLUTION\n",
    "query_q1a = '''\n",
    "SELECT count(*)\n",
    "FROM inter_comm\n",
    "WHERE transaction_amt > 5000\n",
    "'''\n",
    "q1a = %sql $query_q1a\n",
    "q1a"
   ]
  },
  {
   "cell_type": "code",
   "execution_count": null,
   "metadata": {
    "collapsed": false
   },
   "outputs": [],
   "source": [
    "_ = ok.grade('q01a')\n",
    "_ = ok.backup()"
   ]
  },
  {
   "cell_type": "markdown",
   "metadata": {},
   "source": [
    "### Question 1b\n",
    "Having seen that there aren't too many transactions that exceed \\$5,000, let's find them all.  Using only SQL, construct a table containing the recipient committee's name, the ID of the donor committee, and the transaction amount, for transactions that exceed $5,000 dollars.  Sort the transactions in decreasing order by amount.\n",
    "\n",
    "We will be grading the query string `query_q1b`.  You may modify our template but the result should contain the same information with the same names."
   ]
  },
  {
   "cell_type": "code",
   "execution_count": null,
   "metadata": {
    "collapsed": false,
    "for_assignment_type": "solution"
   },
   "outputs": [],
   "source": [
    "# SOLUTION\n",
    "query_q1b = '''\n",
    "SELECT \n",
    "    cmte_id AS donor_cmte_id, \n",
    "    name AS recipient_name, \n",
    "    transaction_amt AS transaction_amt\n",
    "FROM inter_comm\n",
    "WHERE transaction_amt > 5000\n",
    "ORDER BY transaction_amt DESC\n",
    "'''\n",
    "q1b = %sql $query_q1b\n",
    "q1b"
   ]
  },
  {
   "cell_type": "code",
   "execution_count": null,
   "metadata": {
    "collapsed": false
   },
   "outputs": [],
   "source": [
    "_ = ok.grade('q01b')\n",
    "_ = ok.backup()"
   ]
  },
  {
   "cell_type": "markdown",
   "metadata": {},
   "source": [
    "### Question 1c\n",
    "Of course, individual transactions could be misleading.  A more interesting question is: How much did each group give *in total* to each committee?  Find the total transaction amounts after grouping by the recipient committee's name and the ID of the donor committee.  This time, just use `LIMIT 20` to limit your results to the top 20 total donations.\n",
    "\n",
    "We will be grading the query string `query_q1c`.  You may modify our template but the result should contain the same information with the same names."
   ]
  },
  {
   "cell_type": "code",
   "execution_count": null,
   "metadata": {
    "collapsed": false,
    "for_assignment_type": "solution"
   },
   "outputs": [],
   "source": [
    "# SOLUTION\n",
    "query_q1c = '''\n",
    "SELECT \n",
    "    cmte_id AS donor_cmte_id, \n",
    "    name AS recipient_name, \n",
    "    sum(transaction_amt) AS total_transaction_amt \n",
    "FROM inter_comm \n",
    "GROUP BY cmte_id, name \n",
    "ORDER BY sum(transaction_amt) DESC\n",
    "LIMIT 20\n",
    "'''\n",
    "q1c = %sql $query_q1c\n",
    "q1c"
   ]
  },
  {
   "cell_type": "code",
   "execution_count": null,
   "metadata": {
    "collapsed": false
   },
   "outputs": [],
   "source": [
    "ok.grade('q01c')\n",
    "_ = ok.backup()"
   ]
  },
  {
   "cell_type": "markdown",
   "metadata": {},
   "source": [
    "If you peruse the results of your last query, you should notice that some names are listed twice with slightly different spellings.  Perhaps this causes some contributions to be split extraneously."
   ]
  },
  {
   "cell_type": "markdown",
   "metadata": {},
   "source": [
    "### Question 1d\n",
    "Find a field that uniquely identifies recipient committees and repeat your analysis from the previous question using that new identifier.\n",
    "\n",
    "We will be grading the query string `query_q1d`.  You may modify our template but the result should contain the same information with the same names."
   ]
  },
  {
   "cell_type": "code",
   "execution_count": null,
   "metadata": {
    "collapsed": false,
    "for_assignment_type": "solution"
   },
   "outputs": [],
   "source": [
    "# SOLUTION\n",
    "query_q1d = \"\"\"\n",
    "SELECT cmte_id AS donor_id,\n",
    "    other_id AS recipient_id,\n",
    "    sum(transaction_amt) AS total_transaction_amt\n",
    "FROM inter_comm\n",
    "GROUP BY cmte_id, other_id\n",
    "ORDER BY sum(transaction_amt) DESC\n",
    "LIMIT 20\n",
    "\"\"\"\n",
    "q1d = %sql $query_q1d\n",
    "q1d"
   ]
  },
  {
   "cell_type": "code",
   "execution_count": null,
   "metadata": {
    "collapsed": false
   },
   "outputs": [],
   "source": [
    "_ = ok.grade('q01d')\n",
    "_ = ok.backup()"
   ]
  },
  {
   "cell_type": "markdown",
   "metadata": {},
   "source": [
    "### Question 1e\n",
    "Of course, your results are probably not very informative.  Let's *join* these results with the `comm` table (perhaps twice?) to get the names of the committees involved in these transactions.  As before, limit your results to the top 20 by total donation.\n",
    "\n",
    "We will be grading the query string `query_q1e`.  You may modify our template but the result should contain the same information with the same names.\n",
    "\n",
    "**Remember that the name column of `inter_comm` is not consistent.** We found this out in 1(c) where we found that the same committees were named slightly differently. Because of this, you cannot use the name column of `inter_comm` to get the names of the committees."
   ]
  },
  {
   "cell_type": "code",
   "execution_count": null,
   "metadata": {
    "collapsed": false,
    "for_assignment_type": "solution"
   },
   "outputs": [],
   "source": [
    "# SOLUTION\n",
    "query_q1e = '''\n",
    "SELECT \n",
    "    donor.cmte_nm as donor_name, \n",
    "    recipient.cmte_nm as recipient_name, \n",
    "    sum(transaction_amt) AS total_transaction_amt \n",
    "FROM inter_comm, comm AS donor, comm AS recipient\n",
    "WHERE inter_comm.cmte_id = donor.cmte_id AND inter_comm.other_id = recipient.cmte_id\n",
    "GROUP BY donor.cmte_nm, recipient.cmte_nm\n",
    "ORDER BY sum(transaction_amt) DESC \n",
    "LIMIT 20\n",
    "'''\n",
    "q1e = %sql $query_q1e\n",
    "q1e"
   ]
  },
  {
   "cell_type": "code",
   "execution_count": null,
   "metadata": {
    "collapsed": false
   },
   "outputs": [],
   "source": [
    "_ = ok.grade('q01e')\n",
    "_ = ok.backup()"
   ]
  },
  {
   "cell_type": "markdown",
   "metadata": {},
   "source": [
    "### Question 2\n",
    "\n",
    "What is the distribution of committee by state? Write a SQL query which computes for each state the number of committees in the comm table that are registered in that state. Display the results in descending order by count.\n",
    "\n",
    "We will be grading the query string `query_q2`.  You may modify our template but the result should contain the same information with the same names."
   ]
  },
  {
   "cell_type": "code",
   "execution_count": null,
   "metadata": {
    "collapsed": false,
    "for_assignment_type": "solution"
   },
   "outputs": [],
   "source": [
    "# SOLUTION\n",
    "query_q2 = '''\n",
    "SELECT \n",
    "    cmte_st AS state, \n",
    "    count(*) AS count\n",
    "FROM comm \n",
    "GROUP BY cmte_st \n",
    "ORDER BY count(*) DESC\n",
    "'''\n",
    "q2 = %sql $query_q2\n",
    "q2"
   ]
  },
  {
   "cell_type": "code",
   "execution_count": null,
   "metadata": {
    "collapsed": false
   },
   "outputs": [],
   "source": [
    "_ = ok.grade('q02')\n",
    "_ = ok.backup()"
   ]
  },
  {
   "cell_type": "markdown",
   "metadata": {},
   "source": [
    "### Question 3\n",
    "\n",
    "[Political Action Committees](https://www.opensecrets.org/pacs/pacfaq.php) are\n",
    "major sources funding for campaigns. They typically represent business, labor,\n",
    "or ideological interests and influence campaigns through their funding.\n",
    "Because of this, we'd like to know how much money each committee received from\n",
    "PACs.\n",
    "\n",
    "For each committee, list the total amount of donations they got from Political Action Committees.  If they got no such donations, the total should be listed as null. Order the result by `pac_donations`, then `cmte_nm`.\n",
    "\n",
    "We will be grading you on the query string `query_q3`.  You may modify our template but the result should contain the same information with the same names."
   ]
  },
  {
   "cell_type": "code",
   "execution_count": null,
   "metadata": {
    "collapsed": false,
    "for_assignment_type": "solution"
   },
   "outputs": [],
   "source": [
    "# SOLUTION\n",
    "query_q3 = '''\n",
    "WITH pac_donations(cmte_id, pac_donations) AS\n",
    "(\n",
    "  SELECT i.other_id, SUM(i.transaction_amt)\n",
    "  FROM inter_comm i\n",
    "  WHERE i.entity_tp = 'PAC'\n",
    "  GROUP BY i.other_id\n",
    ")\n",
    "SELECT \n",
    "    c.cmte_nm AS cmte_name, \n",
    "    i.pac_donations AS pac_donations\n",
    "FROM comm c LEFT OUTER JOIN pac_donations i ON c.cmte_id = i.cmte_id\n",
    "ORDER BY pac_donations, cmte_nm\n",
    "LIMIT 20\n",
    "'''\n",
    "q3 = %sql $query_q3\n",
    "q3"
   ]
  },
  {
   "cell_type": "code",
   "execution_count": null,
   "metadata": {
    "collapsed": false
   },
   "outputs": [],
   "source": [
    "_ = ok.grade('q03')\n",
    "_ = ok.backup()"
   ]
  },
  {
   "cell_type": "markdown",
   "metadata": {},
   "source": [
    "### Question 4\n",
    "\n",
    "Committees can also contribute to other committees. When does this happen?\n",
    "Perhaps looking at the data can help us figure it out.\n",
    "\n",
    "Find the names of the top 10 (directed) committee pairs that are affiliated with the Republican Party, who have the highest number of intercommittee transactions. By directed, we mean that a transaction where C1 donates to C2 is not the same as one where C2 donates to C1.\n",
    "\n",
    "We will be grading you on the query string `query_q4`.  You may modify our template but the result should contain the same information with the same names."
   ]
  },
  {
   "cell_type": "code",
   "execution_count": null,
   "metadata": {
    "collapsed": false,
    "for_assignment_type": "solution"
   },
   "outputs": [],
   "source": [
    "# SOLUTION\n",
    "query_q4 = '''\n",
    "SELECT \n",
    "    cfrom.cmte_nm AS from_cmte_name, \n",
    "    cto.cmte_nm AS to_cmte_name\n",
    "FROM comm cfrom, comm cto, inter_comm ict\n",
    "WHERE cfrom.cmte_id = ict.cmte_id\n",
    "    AND cfrom.cmte_pty_affiliation = 'REP'\n",
    "    AND cto.cmte_pty_affiliation = 'REP'\n",
    "    AND cto.cmte_id = ict.other_id\n",
    "GROUP BY cfrom.cmte_id, cfrom.cmte_nm, cto.cmte_id, cto.cmte_nm\n",
    "ORDER BY count(*) DESC\n",
    "LIMIT 10\n",
    "'''\n",
    "\n",
    "q4 = %sql $query_q4\n",
    "q4"
   ]
  },
  {
   "cell_type": "code",
   "execution_count": null,
   "metadata": {
    "collapsed": false
   },
   "outputs": [],
   "source": [
    "_ = ok.grade('q04')\n",
    "_ = ok.backup()"
   ]
  },
  {
   "cell_type": "markdown",
   "metadata": {},
   "source": [
    "### Question 5\n",
    "\n",
    "Some committees received donations from a common contributor.\n",
    "Perhaps they were ideologically similar.\n",
    "\n",
    "Find the names of distinct candidate pairs that share a common committee contributor from Florida.\n",
    "\n",
    "If you list a pair (\"Washington\", \"Lincoln\") you should also list (\"Lincoln, Washington\").\n",
    "\n",
    "Save the result in `q5`.\n",
    "\n",
    "Hint: In SQL, the \"not equals\" operator is `<>` (it's `!=` in Python).\n",
    "\n",
    "We will be grading you on the query string `query_q5`.  You may modify our template but the result should contain the same information with the same names."
   ]
  },
  {
   "cell_type": "code",
   "execution_count": null,
   "metadata": {
    "collapsed": false,
    "for_assignment_type": "solution"
   },
   "outputs": [],
   "source": [
    "# SOLUTION\n",
    "query_q5 = '''\n",
    "SELECT DISTINCT\n",
    "    c1.cand_name AS cand_1,\n",
    "    c2.cand_name AS cand_2\n",
    "FROM inter_comm i1, inter_comm i2, cand c1, cand c2\n",
    "WHERE i1.cand_id <> i2.cand_id\n",
    "    AND i1.cmte_id = i2.cmte_id\n",
    "    AND i2.state='FL' AND i1.state='FL'\n",
    "    AND c1.cand_id = i1.cand_id\n",
    "    AND c2.cand_id = i2.cand_id\n",
    "ORDER BY cand_1\n",
    "'''\n",
    "\n",
    "q5 = %sql $query_q5\n",
    "q5"
   ]
  },
  {
   "cell_type": "code",
   "execution_count": null,
   "metadata": {
    "collapsed": false
   },
   "outputs": [],
   "source": [
    "_ = ok.grade('q05')\n",
    "_ = ok.backup()"
   ]
  },
  {
   "cell_type": "markdown",
   "metadata": {},
   "source": [
    "# Part 2: Hypothesis Testing and Bootstrap in SQL\n",
    "\n",
    "In this part, we're going to perform a hypothesis test using SQL!\n",
    "\n",
    "[This article](http://www.politifact.com/nbc/statements/2016/mar/21/hillary-clinton/hillary-clinton-says-her-campaign-depends-small-do/)\n",
    "describes a statement by Hillary Clinton where\n",
    "where she claims that the majority of her campaign was funded by small donors. The\n",
    "article argues that her statement is false, so we ask a slightly different question:\n",
    "\n",
    "**Is there a difference in the proportion of money contributed by small donors\n",
    "between Hillary Clinton's and Bernie Sanders' campaigns?**\n",
    "\n",
    "For these questions, we define small donors as individuals that donated $200 or less\n",
    "to a campaign.\n",
    "\n",
    "For review, we suggest looking over this chapter on Hypothesis Testing from the Data 8 textbook: https://www.inferentialthinking.com/chapters/10/testing-hypotheses.html"
   ]
  },
  {
   "cell_type": "markdown",
   "metadata": {},
   "source": [
    "### Question 6\n",
    "\n",
    "Before we begin, please think about and answer the following questions.\n",
    "\n",
    "**For each question, state \"Yes\" or \"No\", followed by a one-sentence explanation.**\n",
    "\n",
    "**(a)** If we were working with the entire FEC dataset instead of a sample,\n",
    "would we still conduct a hypothesis test? Why or why not?\n",
    "\n",
    "**(b)** If we were working with the entire FEC dataset instead of a sample,\n",
    "would we still conduct bootstrap resampling? Why or why not?\n",
    "\n",
    "**(c)** Let's suppose we take our sample and compute the proportion of money contributed by\n",
    "small donors to Hillary and Bernie's campaign. We find that the difference\n",
    "is 0.0 — they received the exact same proportion of small donations. Would\n",
    "we still need to conduct a hypothesis test? Why or why not?\n",
    "\n",
    "**(d)** Let's suppose we take our sample and compute the proportion of money contributed by\n",
    "small donors to Hillary and Bernie's campaign. We find that the difference\n",
    "is 0.3. Would we still need to conduct a hypothesis test? Why or why not?"
   ]
  },
  {
   "cell_type": "markdown",
   "metadata": {
    "for_assignment_type": "solution"
   },
   "source": [
    "**Solution:**\n",
    "\n",
    "**(a)** No. If we had the entire dataset, we could directly compute the\n",
    "difference in proportion. Since the dataset contains **all** transactions,\n",
    "we have the entire population we care about.\n",
    "\n",
    "**(b)** No, for the same reason in (a).\n",
    "\n",
    "**(c)** Yes. Even though our *sample difference* is 0, we do not know if the population\n",
    "difference is 0.  (However, an hypothesis test would probably not reject the null hypothesis in this case.)\n",
    "\n",
    "**(d)** Yes, for the same reason in (c)."
   ]
  },
  {
   "cell_type": "markdown",
   "metadata": {},
   "source": [
    "### Question 7\n",
    "\n",
    "We've taken a sample of around 2700 rows of the original FEC data for individual\n",
    "contributions that only include contributions to Clinton and Sanders.\n",
    "This sample is stored in the table `indiv_sample`.\n",
    "\n",
    "The individual contributions of donors are linked to committees,\n",
    "not candidates directly. Hillary's primary committee was called\n",
    "`HILLARY FOR AMERICA`, and Bernie's was `BERNIE 2016`.\n",
    "\n",
    "Fill in the SQL query below to compute the total contributions for each\n",
    "candidate's committee.\n",
    "\n",
    "We will be grading you on the query string `query_q7`.  You may modify our template but the result should contain the same information with the same names."
   ]
  },
  {
   "cell_type": "code",
   "execution_count": null,
   "metadata": {
    "collapsed": false,
    "for_assignment_type": "solution"
   },
   "outputs": [],
   "source": [
    "query_q7 = \"\"\"\n",
    "SELECT \n",
    "    comm.cmte_nm AS cmte_nm, \n",
    "    sum(indiv_sample.transaction_amt) AS total_transaction_amt\n",
    "FROM indiv_sample, comm \n",
    "WHERE indiv_sample.cmte_id = comm.cmte_id\n",
    "GROUP BY comm.cmte_id, comm.cmte_nm\n",
    "HAVING\n",
    "    cmte_nm = 'HILLARY FOR AMERICA' OR\n",
    "    cmte_nm = 'BERNIE 2016' \n",
    "\"\"\"\n",
    "\n",
    "# Do not change anything below this line\n",
    "\n",
    "res = %sql $query_q7\n",
    "q7 = res.DataFrame().set_index(\"cmte_nm\")\n",
    "q7 # q7 will be graded"
   ]
  },
  {
   "cell_type": "code",
   "execution_count": null,
   "metadata": {
    "collapsed": false
   },
   "outputs": [],
   "source": [
    "_ = ok.grade('q07')\n",
    "_ = ok.backup()"
   ]
  },
  {
   "cell_type": "markdown",
   "metadata": {},
   "source": [
    "### Question 8\n",
    "\n",
    "We want to know what proportion of this money came from small donors — individuals\n",
    "who donated \\$200 or less. For example, if Hillary raised \\$1000, and \\$300 of\n",
    "that came from small donors, her proportion of small donors would be 0.3.\n",
    "\n",
    "Compute this proportion for each candidate by filling in the SQL query below.\n",
    "The resulting table should have two columns:\n",
    "\n",
    "- `cmte_id` which contains the Hillary's and Bernie's committee IDs\n",
    "- `cmte_name` which contains the Hillary's and Bernie's committee names\n",
    "- `prop_funds` which contains the proportion of funds contributed by\n",
    "small donors.\n",
    "\n",
    "You may not create a dataframe for this problem. By keeping the calculations\n",
    "in SQL, this query will also work on the original dataset of individual\n",
    "contributions (~ 3GB).\n",
    "\n",
    "\n",
    "Hint: Try using Postgres' `CASE` statement to filter out transactions under\n",
    "$200.\n",
    "\n",
    "Hint: Remember that you can append `::float` to a column name to convert its\n",
    "values to float. You'll have to do this to perform division correctly.\n",
    "\n",
    "We will be grading you on the query string `query_q8`.  You may modify our template but the result should contain the same information with the same names."
   ]
  },
  {
   "cell_type": "code",
   "execution_count": null,
   "metadata": {
    "collapsed": false,
    "for_assignment_type": "solution"
   },
   "outputs": [],
   "source": [
    "# SOLUTION\n",
    "query_q8 = '''\n",
    "SELECT \n",
    "    comm.cmte_id AS cmte_id,\n",
    "    comm.cmte_nm AS cmte_name,\n",
    "    SUM (\n",
    "        CASE WHEN transaction_amt::float <= 200.0 THEN transaction_amt::float \n",
    "        ELSE 0.0 END\n",
    "        ) / SUM(transaction_amt::float) AS prop_funds\n",
    "FROM indiv_sample, comm\n",
    "WHERE indiv_sample.cmte_id = comm.cmte_id\n",
    "GROUP BY comm.cmte_id, comm.cmte_nm\n",
    "HAVING\n",
    "    cmte_nm = 'HILLARY FOR AMERICA' OR\n",
    "    cmte_nm = 'BERNIE 2016'\n",
    "'''\n",
    "\n",
    "# Do not change anything below this line\n",
    "\n",
    "res = %sql $query_q8\n",
    "small_donor_funds_prop = res.DataFrame()\n",
    "small_donor_funds_prop"
   ]
  },
  {
   "cell_type": "code",
   "execution_count": null,
   "metadata": {
    "collapsed": false
   },
   "outputs": [],
   "source": [
    "_ = ok.grade('q08')\n",
    "_ = ok.backup()"
   ]
  },
  {
   "cell_type": "markdown",
   "metadata": {},
   "source": [
    "### Question 9\n",
    "\n",
    "Let's now do a bit of EDA. Fill in the SQL statements below to make histograms\n",
    "of the transaction amounts for both Hillary and Bernie.\n",
    "\n",
    "Note that we do take your entire result and put it into a dataframe.\n",
    "This is **not** scalable. If `indiv_sample` was large, your computer\n",
    "would run out of memory trying to store it in a dataframe. The better way to\n",
    "compute the histogram would be to use SQL to generate bins and count the number\n",
    "of contributions in each bin using the built-in\n",
    "[`width_bucket` function](https://www.postgresql.org/docs/9.5/static/functions-math.html)."
   ]
  },
  {
   "cell_type": "code",
   "execution_count": null,
   "metadata": {
    "collapsed": false,
    "for_assignment_type": "solution"
   },
   "outputs": [],
   "source": [
    "# SOLUTION\n",
    "query_q9a = \"\"\"\n",
    "SELECT transaction_amt  \n",
    "FROM indiv_sample, comm\n",
    "WHERE indiv_sample.cmte_id = comm.cmte_id\n",
    "    AND cmte_nm = 'HILLARY FOR AMERICA'\n",
    "\"\"\"\n",
    "\n",
    "# Do not change anything below this line\n",
    "\n",
    "res = %sql $query_q9a\n",
    "hillary_contributions = res.DataFrame()\n",
    "print(hillary_contributions.head())\n",
    "\n",
    "# Make the Plot\n",
    "sns.distplot(hillary_contributions)\n",
    "plt.title('Distribution of Contribution Amounts to Hillary')\n",
    "plt.xlim((-50, 3000))\n",
    "plt.ylim((0, 0.02))"
   ]
  },
  {
   "cell_type": "code",
   "execution_count": null,
   "metadata": {
    "collapsed": false,
    "for_assignment_type": "solution"
   },
   "outputs": [],
   "source": [
    "# SOLUTION\n",
    "query_q9b = \"\"\"\n",
    "SELECT transaction_amt  \n",
    "FROM indiv_sample, comm\n",
    "WHERE indiv_sample.cmte_id = comm.cmte_id\n",
    "    AND cmte_nm = 'BERNIE 2016'\n",
    "\"\"\"\n",
    "\n",
    "# Do not change anything below this line\n",
    "\n",
    "res = %sql $query_q9b\n",
    "bernie_contributions = res.DataFrame()\n",
    "print(bernie_contributions.head())\n",
    "\n",
    "\n",
    "sns.distplot(bernie_contributions)\n",
    "plt.title('Distribution of Contribution Amounts to Bernie')\n",
    "plt.xlim((-50, 3000))\n",
    "plt.ylim((0, 0.02))"
   ]
  },
  {
   "cell_type": "code",
   "execution_count": null,
   "metadata": {
    "collapsed": false
   },
   "outputs": [],
   "source": [
    "_ = ok.grade('q09')\n",
    "_ = ok.backup()"
   ]
  },
  {
   "cell_type": "markdown",
   "metadata": {},
   "source": [
    "### Question 10\n",
    "\n",
    "Looks like there is a difference. Let's see if it's statistically significant.\n",
    "\n",
    "State appropriate null and alternative hypotheses for this problsm."
   ]
  },
  {
   "cell_type": "markdown",
   "metadata": {
    "for_assignment_type": "solution"
   },
   "source": [
    "**SOLUTION:**\n",
    "\n",
    "Null hypothesis: There is no difference in the proportion of funds contributed by small donors to Hillary and Bernie.\n",
    "\n",
    "Alternative: There is a difference."
   ]
  },
  {
   "cell_type": "markdown",
   "metadata": {},
   "source": [
    "### Constructing a Bootstrap CI\n",
    "\n",
    "We want to create a bootstrap confidence interval of the proportion of\n",
    "funds contributed to Hillary Clinton by small donors.\n",
    "\n",
    "To do this in SQL, we need to number the rows we want to bootstrap.\n",
    "\n",
    "The following cell creates a view called `hillary`. Views are like tables.\n",
    "However, instead of storing the rows in the database, Postgres will recompute\n",
    "the values in the view each time you query it.\n",
    "\n",
    "It adds a `row_id` column to each row in `indiv_sample`\n",
    "corresponding to a contribution to Hillary. Note that we use your\n",
    "`hillary_cmte_id` variable by including `$hillary_cmte_id` in the SQL.\n",
    "\n",
    "We'll do the same for Bernie, creating a view called `bernie`."
   ]
  },
  {
   "cell_type": "code",
   "execution_count": null,
   "metadata": {
    "collapsed": false
   },
   "outputs": [],
   "source": [
    "%%sql \n",
    "\n",
    "DROP VIEW IF EXISTS hillary CASCADE;\n",
    "DROP VIEW IF EXISTS bernie CASCADE;\n",
    "\n",
    "CREATE VIEW hillary AS \n",
    "    SELECT row_number() over () AS row_id, indiv_sample.*\n",
    "    FROM indiv_sample, comm\n",
    "    WHERE indiv_sample.cmte_id = comm.cmte_id \n",
    "        AND comm.cmte_nm = 'HILLARY FOR AMERICA';\n",
    "\n",
    "CREATE VIEW bernie AS \n",
    "    SELECT row_number() over () AS row_id, indiv_sample.*\n",
    "    FROM indiv_sample, comm\n",
    "    WHERE indiv_sample.cmte_id = comm.cmte_id \n",
    "        AND comm.cmte_nm = 'BERNIE 2016';\n",
    "\n",
    "SELECT * FROM hillary LIMIT 5"
   ]
  },
  {
   "cell_type": "markdown",
   "metadata": {},
   "source": [
    "### Question 11\n",
    "\n",
    "Let's contruct a view containing the rows we want to sample for each\n",
    "bootstrap trial. For example, if we want to create 100 bootstrap samples of\n",
    "3 contributions to Hillary, we want something that looks like:\n",
    "\n",
    "```\n",
    "trial_id | row_id\n",
    "======== | ======\n",
    "1        | 1002\n",
    "1        | 208\n",
    "1        | 1\n",
    "2        | 1524\n",
    "2        | 1410\n",
    "2        | 1023\n",
    "3        | 423\n",
    "3        | 68\n",
    "3        | 925\n",
    "...      | ...\n",
    "100      | 10\n",
    "```\n",
    "\n",
    "This will let us later construct a join on the `hillary` view that computes the\n",
    "bootstrap sample for each trial by sampling with replacement.\n",
    "\n",
    "Create a view called `hillary_design` that contains two columns: `trial_id`\n",
    "and `row_id`. It should contain the IDs corresponding to\n",
    "500 samples of the entire `hillary` view. The `hillary` view contains 1524\n",
    "rows, so the `hillary_design` view should have a total of\n",
    "`500 * 1524 = 762000` rows.\n",
    "\n",
    "Hint: Recall how we generated a matrix of random numbers in class. Start with\n",
    "that, then start tweaking it until you get the view you want. Our solution uses\n",
    "the Postgres functions `generate_series`, `floor`, and `random`."
   ]
  },
  {
   "cell_type": "code",
   "execution_count": null,
   "metadata": {
    "collapsed": false,
    "for_assignment_type": "solution"
   },
   "outputs": [],
   "source": [
    "# SOLUTION\n",
    "n_hillary_rows = 1524\n",
    "n_trials = 500\n",
    "seed = 0.42\n",
    "\n",
    "query_q11 = \"\"\"\n",
    "CREATE VIEW hillary_design AS\n",
    "SELECT trial_id, (FLOOR( $n_hillary_rows * RANDOM() ) + 1) :: INTEGER AS row_id\n",
    "FROM\n",
    "    GENERATE_SERIES(1, $n_trials) as a(trial_id),\n",
    "    GENERATE_SERIES(1, $n_hillary_rows) as sample_size;\n",
    "\"\"\"\n",
    "# Fill in the $ variables set in the above string\n",
    "import string\n",
    "query_q11 = string.Template(query_q11).substitute(locals())\n",
    "\n",
    "%sql drop view if exists hillary_design cascade\n",
    "%sql SET SEED TO $seed\n",
    "%sql $query_q11\n",
    "%sql select * from hillary_design limit 5"
   ]
  },
  {
   "cell_type": "code",
   "execution_count": null,
   "metadata": {
    "collapsed": false
   },
   "outputs": [],
   "source": [
    "_ = ok.grade('q11')\n",
    "_ = ok.backup()"
   ]
  },
  {
   "cell_type": "markdown",
   "metadata": {},
   "source": [
    "### Question 12\n",
    "\n",
    "Construct a view called `hillary_trials` that uses the `hillary`\n",
    "and `hillary_design` views to compute the total amount contributed \n",
    "by small donors for each trial as well as the overall amount.\n",
    "\n",
    "It should have three columns:\n",
    "\n",
    "- `trial_id`: The number of the trial, from 1 to 500\n",
    "- `small_donor_sum`: The total contributions from small donors in the trial\n",
    "- `total`: The total contributions of all donations in the trial\n",
    "\n",
    "Hint: Our solution uses the `CASE WHEN` statement inside of a `SUM()` function\n",
    "call to compute the `small_donor_sum`."
   ]
  },
  {
   "cell_type": "code",
   "execution_count": null,
   "metadata": {
    "collapsed": false,
    "for_assignment_type": "solution",
    "scrolled": true
   },
   "outputs": [],
   "source": [
    "# SOLUTION\n",
    "query_q12 = '''\n",
    "CREATE VIEW hillary_trials as\n",
    "SELECT d.trial_id,\n",
    "  SUM(CASE WHEN transaction_amt <= 200\n",
    "      THEN transaction_amt\n",
    "      ELSE 0\n",
    "      END) AS small_donor_sum,\n",
    "  SUM(transaction_amt) AS total\n",
    "FROM hillary_design d, hillary h\n",
    "WHERE d.row_id = h.row_id\n",
    "GROUP BY d.trial_id\n",
    "'''\n",
    "\n",
    "# Do not change anything below this line\n",
    "\n",
    "%sql drop view if exists hillary_trials cascade\n",
    "%sql SET SEED TO $seed\n",
    "%sql $query_q12\n",
    "%sql select * from hillary_trials limit 5"
   ]
  },
  {
   "cell_type": "code",
   "execution_count": null,
   "metadata": {
    "collapsed": false
   },
   "outputs": [],
   "source": [
    "_ = ok.grade('q12')\n",
    "_ = ok.backup()"
   ]
  },
  {
   "cell_type": "markdown",
   "metadata": {},
   "source": [
    "### Question 13\n",
    "\n",
    "Now, create a view called `hillary_props` that contains two columns:\n",
    "\n",
    "- `trial_id`: The number of the trial, from 1 to 500\n",
    "- `small_donor_prop`: The proportion contributed by small donors for each trial\n",
    "\n",
    "Hint: Remember that you can append `::float` to a column name to convert its\n",
    "values to float. You'll have to do this to perform division correctly."
   ]
  },
  {
   "cell_type": "code",
   "execution_count": null,
   "metadata": {
    "collapsed": false,
    "for_assignment_type": "solution"
   },
   "outputs": [],
   "source": [
    "# SOLUTION\n",
    "query_q13 = '''\n",
    "CREATE VIEW hillary_props as\n",
    "SELECT\n",
    "    trial_id,\n",
    "    small_donor_sum::float / total::float AS small_donor_prop\n",
    "FROM hillary_trials\n",
    "'''\n",
    "\n",
    "%sql drop view if exists hillary_props cascade\n",
    "%sql SET SEED TO $seed\n",
    "%sql $query_q13\n",
    "%sql select * from hillary_props limit 5"
   ]
  },
  {
   "cell_type": "code",
   "execution_count": null,
   "metadata": {
    "collapsed": false
   },
   "outputs": [],
   "source": [
    "_ = ok.grade('q13')\n",
    "_ = ok.backup()"
   ]
  },
  {
   "cell_type": "markdown",
   "metadata": {},
   "source": [
    "### Question 14\n",
    "\n",
    "Now, repeat the process to bootstrap Bernie's proportion of funds\n",
    "raised by small donors.\n",
    "\n",
    "You should be able to mostly copy-paste your code for Hillary's bootstrap CI."
   ]
  },
  {
   "cell_type": "code",
   "execution_count": null,
   "metadata": {
    "collapsed": false,
    "for_assignment_type": "solution"
   },
   "outputs": [],
   "source": [
    "# SOLUTION\n",
    "n_bernie_rows = 1173\n",
    "n_trials = 500\n",
    "\n",
    "create_bernie_design = \"\"\"\n",
    "CREATE VIEW bernie_design AS\n",
    "SELECT trial_id, (FLOOR( $n_bernie_rows * RANDOM() ) + 1) :: INTEGER AS row_id\n",
    "FROM\n",
    "    GENERATE_SERIES(1, $n_trials) as a(trial_id),\n",
    "    GENERATE_SERIES(1, $n_bernie_rows) as sample_size;\n",
    "\"\"\"\n",
    "\n",
    "create_bernie_trials = '''\n",
    "CREATE VIEW bernie_trials as\n",
    "SELECT d.trial_id,\n",
    "  SUM(CASE WHEN transaction_amt <= 200\n",
    "      THEN transaction_amt\n",
    "      ELSE 0\n",
    "      END) AS small_donor_sum,\n",
    "  SUM(transaction_amt) AS total\n",
    "FROM bernie_design d, bernie h\n",
    "WHERE d.row_id = h.row_id\n",
    "GROUP BY d.trial_id\n",
    "'''\n",
    "\n",
    "create_bernie_props = '''\n",
    "CREATE VIEW bernie_props as\n",
    "SELECT trial_id, small_donor_sum::float / total::float AS small_donor_prop\n",
    "FROM bernie_trials\n",
    "'''\n",
    "# Do not change anything below this line\n",
    "\n",
    "# Fill in the $ variables set in the above string\n",
    "import string\n",
    "create_bernie_design = (string.Template(create_bernie_design)\n",
    "                        .substitute(locals()))\n",
    "\n",
    "%sql drop view if exists bernie_design cascade\n",
    "%sql $create_bernie_design\n",
    "\n",
    "%sql drop view if exists bernie_trials cascade\n",
    "%sql $create_bernie_trials\n",
    "\n",
    "%sql drop view if exists bernie_props\n",
    "%sql $create_bernie_props\n",
    "\n",
    "%sql SET SEED TO $seed\n",
    "%sql select * from bernie_props limit 5"
   ]
  },
  {
   "cell_type": "code",
   "execution_count": null,
   "metadata": {
    "collapsed": false
   },
   "outputs": [],
   "source": [
    "_ = ok.grade('q14')\n",
    "_ = ok.backup()"
   ]
  },
  {
   "cell_type": "markdown",
   "metadata": {},
   "source": [
    "### Plotting the sample distribution\n",
    "\n",
    "Run the following cell to make a plot of the distribution of proportions\n",
    "for both Hillary and Bernie.\n",
    "\n",
    "Again, this would not be scalable if we took many bootstrap samples.\n",
    "However, 500 floats is reasonable to fit in memory."
   ]
  },
  {
   "cell_type": "code",
   "execution_count": null,
   "metadata": {
    "collapsed": false
   },
   "outputs": [],
   "source": [
    "res = %sql select * from hillary_props\n",
    "hillary_trials_df = res.DataFrame()\n",
    "\n",
    "res = %sql select * from bernie_props\n",
    "bernie_trials_df = res.DataFrame()\n",
    "\n",
    "ax = plt.subplot(1,2,1)\n",
    "sns.distplot(hillary_trials_df['small_donor_prop'], ax=ax)\n",
    "plt.title('Hillary Bootstrap Prop')\n",
    "plt.xlim(0.1, 0.9)\n",
    "plt.ylim(0, 25)\n",
    "\n",
    "ax = plt.subplot(1,2,2)\n",
    "sns.distplot(bernie_trials_df['small_donor_prop'], ax=ax)\n",
    "plt.title('Bernie Bootstrap Prop')\n",
    "plt.xlim(0.1, 0.9)\n",
    "plt.ylim(0, 25)"
   ]
  },
  {
   "cell_type": "markdown",
   "metadata": {},
   "source": [
    "### Computing the Confidence Interval\n",
    "\n",
    "Run the following cell to compute confidence intervals based on your\n",
    "`hillary_props` and `bernie_props` views. Think about what the intervals mean."
   ]
  },
  {
   "cell_type": "code",
   "execution_count": null,
   "metadata": {
    "collapsed": false,
    "for_assignment_type": "solution"
   },
   "outputs": [],
   "source": [
    "compute_hillary_ci = '''\n",
    "SELECT percentile_disc(0.025) WITHIN GROUP (ORDER BY small_donor_prop) as ci_lower,\n",
    "       percentile_disc(0.975) WITHIN GROUP (ORDER BY small_donor_prop) as ci_upper\n",
    "FROM hillary_props\n",
    "'''\n",
    "compute_bernie_ci = '''\n",
    "SELECT percentile_disc(0.025) WITHIN GROUP (ORDER BY small_donor_prop) as ci_lower,\n",
    "       percentile_disc(0.975) WITHIN GROUP (ORDER BY small_donor_prop) as ci_upper\n",
    "FROM bernie_props\n",
    "'''\n",
    "\n",
    "\n",
    "%sql SET SEED TO $seed\n",
    "hillary_ci = %sql $compute_hillary_ci\n",
    "bernie_ci = %sql $compute_bernie_ci\n",
    "\n",
    "print(hillary_ci)\n",
    "print(bernie_ci)"
   ]
  },
  {
   "cell_type": "markdown",
   "metadata": {},
   "source": [
    "### Question 15\n",
    "\n",
    "Based on your confidence intervals, should we reject the null?\n",
    "\n",
    "Are there any other factors that should be taken into consideration when\n",
    "making this conclusion?"
   ]
  },
  {
   "cell_type": "markdown",
   "metadata": {
    "for_assignment_type": "solution"
   },
   "source": [
    "**SOLUTION:** The 95% confidence interval for Hillary's proportion of small\n",
    "donor contributions has no overlap with the CI for Bernie.\n",
    "Thus, we reject the null and conclude that Hillary and Bernie\n",
    "received different proportions of funds from small donors.\n",
    "\n",
    "This is also supported by the distribution of donation amounts we computed during\n",
    "our EDA, and by the relatively large absolute difference in the proportions in our sample."
   ]
  },
  {
   "cell_type": "markdown",
   "metadata": {},
   "source": [
    "Congrats! You finished the homework."
   ]
  },
  {
   "cell_type": "markdown",
   "metadata": {},
   "source": [
    "# Submitting your assignment\n",
    "First, run the next cell to run all the tests at once."
   ]
  },
  {
   "cell_type": "code",
   "execution_count": null,
   "metadata": {
    "collapsed": false
   },
   "outputs": [],
   "source": [
    "_ = ok.grade_all()"
   ]
  },
  {
   "cell_type": "markdown",
   "metadata": {},
   "source": [
    "Then, we'll submit the assignment to OkPy so that the staff will know to grade it. You can submit as many times as you want, and you can choose which submission you want us to grade by going to https://okpy.org/cal/data100/sp17/.  After you've done that, make sure you've pushed your changes to Github as well!"
   ]
  },
  {
   "cell_type": "code",
   "execution_count": null,
   "metadata": {
    "collapsed": false
   },
   "outputs": [],
   "source": [
    "# Now, we'll submit to okpy\n",
    "_ = ok.submit()"
   ]
  }
 ],
 "metadata": {
  "anaconda-cloud": {},
  "celltoolbar": "Edit Metadata",
  "kernelspec": {
   "display_name": "Python [default]",
   "language": "python",
   "name": "python3"
  },
  "language_info": {
   "codemirror_mode": {
    "name": "ipython",
    "version": 3
   },
   "file_extension": ".py",
   "mimetype": "text/x-python",
   "name": "python",
   "nbconvert_exporter": "python",
   "pygments_lexer": "ipython3",
   "version": "3.5.2"
  },
  "timetravel": {
   "allowedContentTypes": [
    "text/plain"
   ],
   "enabled": false,
   "version": "1.0"
  }
 },
 "nbformat": 4,
 "nbformat_minor": 1
}
